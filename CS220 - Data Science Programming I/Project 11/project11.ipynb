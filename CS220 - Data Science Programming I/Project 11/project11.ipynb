{
 "cells": [
  {
   "cell_type": "code",
   "execution_count": 1,
   "id": "74b9ac58",
   "metadata": {
    "cell_type": "code",
    "deletable": false,
    "editable": false
   },
   "outputs": [],
   "source": [
    "import otter\n",
    "# nb_name should be the name of your notebook without the .ipynb extension\n",
    "nb_name = \"p11\"\n",
    "py_filename = nb_name + \".py\"\n",
    "grader = otter.Notebook(nb_name + \".ipynb\")"
   ]
  },
  {
   "cell_type": "code",
   "execution_count": 2,
   "id": "dc269163",
   "metadata": {
    "deletable": false,
    "editable": false
   },
   "outputs": [],
   "source": [
    "import p11_test"
   ]
  },
  {
   "cell_type": "markdown",
   "id": "3d908b42",
   "metadata": {
    "deletable": false,
    "editable": false
   },
   "source": [
    "# Project 11: Analyzing Stars and Planets"
   ]
  },
  {
   "cell_type": "markdown",
   "id": "5bd1b2f9",
   "metadata": {
    "deletable": false,
    "editable": false
   },
   "source": [
    "# Learning Objectives:\n",
    "\n",
    "In this project, you will demonstrate how to:\n",
    "    \n",
    "* analyze the data from p10,\n",
    "* make scatter plots using `matplotlib`,\n",
    "* remove outliers to make the plots more useful,\n",
    "* use recursion to gather new data.\n",
    "\n",
    "**Please go through [lab-p11](https://git.doit.wisc.edu/cdis/cs/courses/cs220/cs220-f22-projects/-/tree/main/lab-p11) before working on this project.** The lab introduces some important techniques related to this project."
   ]
  },
  {
   "cell_type": "markdown",
   "id": "2a9be33b",
   "metadata": {
    "deletable": false,
    "editable": false
   },
   "source": [
    "## Note on Academic Misconduct:\n",
    "\n",
    "**IMPORTANT**: p10 and p11 are two parts of the same data analysis. You **cannot** switch project partners between these two projects. That is if you partnered up with someone for p10, you have to sustain that partnership until end of p11. Now may be a good time to review [our course policies](https://cs220.cs.wisc.edu/f22/syllabus.html)."
   ]
  },
  {
   "cell_type": "markdown",
   "id": "4e324d36",
   "metadata": {
    "deletable": false,
    "editable": false
   },
   "source": [
    "## Testing your code:\n",
    "\n",
    "Along with this notebook, you must have downloaded the files `p11_test.py` and `p11_plots.json`. If you are curious about how we test your code, you can explore this file, and specifically the value of the variable `expected_json`, to understand the expected answers to the questions."
   ]
  },
  {
   "cell_type": "markdown",
   "id": "7f836b43",
   "metadata": {
    "deletable": false,
    "editable": false
   },
   "source": [
    "## Setup:\n",
    "\n",
    "In p11, you will be analyzing the same dataset that you parsed in p10. You can either copy/paste the `data` directory to your p11 directory, or download the `data.zip` file provided with this project, and extract it. In addition to the `data` directory, you will also need to download additional datasets for p11. You must download `broken_data.zip` and extract it. You must extract the contents of the directory `broken_data` into the same directory which contains the `data` directory, `p11.ipynb`, `p11_test.py`, and `p11_plots.json`.\n",
    "\n",
    "You need to make sure that the project files are stored in the following structure:\n",
    "\n",
    "```\n",
    "+-- p11.ipynb\n",
    "+-- p11_test.py\n",
    "+-- p11_plots.json\n",
    "+-- data\n",
    "|   +-- .DS_Store\n",
    "|   +-- .ipynb_checkpoints\n",
    "|   +-- mapping_1.json\n",
    "|   +-- mapping_2.json\n",
    "|   +-- mapping_3.json\n",
    "|   +-- mapping_4.json\n",
    "|   +-- mapping_5.json\n",
    "|   +-- planets_1.csv\n",
    "|   +-- planets_2.csv\n",
    "|   +-- planets_3.csv\n",
    "|   +-- planets_4.csv\n",
    "|   +-- planets_5.csv\n",
    "|   +-- stars_1.csv\n",
    "|   +-- stars_2.csv\n",
    "|   +-- stars_3.csv\n",
    "|   +-- stars_4.csv\n",
    "|   +-- stars_5.csv\n",
    "+-- broken_data\n",
    "|   +-- .DS_Store\n",
    "|   +-- .ipynb_checkpoints\n",
    "|   +-- hds\n",
    "|   |   +-- .ipynb_checkpoints\n",
    "|   |   +-- hd_1000s\n",
    "|   |   |   +-- hd_10000s.json\n",
    "|   |   +-- others.json\n",
    "|   +-- k2s.json\n",
    "|   +-- keplers\n",
    "|   |   +-- kepler_100s\n",
    "|   |   |   +-- kepler_100s\n",
    "|   |   |   |   +-- kepler_100s\n",
    "|   |   |   |   |   +-- kepler_100s.json\n",
    "|   |   |   |   +-- others.json\n",
    "|   |   |   +-- kepler_200s\n",
    "|   |   |   |   +-- .ipynb_checkpoints\n",
    "|   |   |   |   +-- kepler_220s.json\n",
    "|   |   |   |   +-- kepler_290s.json\n",
    "|   |   |   |   +-- others\n",
    "|   |   |   |   |   +-- others.json\n",
    "|   |   |   +-- others.json\n",
    "|   |   +-- kepler_10s\n",
    "|   |   |   +-- kepler_80s\n",
    "|   |   |   |   +-- kepler_80s.json\n",
    "|   |   |   +-- others\n",
    "|   |   |   |   +-- kepler_20s.json\n",
    "|   |   |   |   +-- kepler_30s.json\n",
    "|   |   |   |   +-- others.json\n",
    "|   |   +-- others\n",
    "|   |   |   +-- .DS_Store\n",
    "|   |   |   +-- others.json\n",
    "|   +-- others\n",
    "|   |   +-- .DS_Store\n",
    "|   |   +-- gjs.json\n",
    "|   |   +-- others.json\n",
    "|   |   +-- tois\n",
    "|   |   |   +-- tois.json\n",
    "```\n",
    "\n",
    "Make sure that **all** files are stored in this **exact** file structure. Otherwise, then there is a possibility that your code will **fail on Gradescope** even after passing local tests."
   ]
  },
  {
   "cell_type": "markdown",
   "id": "530f3090",
   "metadata": {
    "deletable": false,
    "editable": false
   },
   "source": [
    "## Project Description:\n",
    "\n",
    "You have already parsed the data in the `data` directory in p10. You will now dive deeper by analyzing this data and arrive at some exciting conclusions about various planets and stars outside our Solar System. You will also use recursion to retrieve data from the broken JSON file in the `data` directory, and ask some interesting questions about the data."
   ]
  },
  {
   "cell_type": "markdown",
   "id": "44fc8160",
   "metadata": {
    "deletable": false,
    "editable": false
   },
   "source": [
    "## Project Requirements:\n",
    "\n",
    "You **may not** hardcode indices in your code, unless the question explicitly. If you open your `.csv` files with Excel, manually count through the rows and use this number to loop through the dataset, this is also considered as hardcoding. We'll **manually deduct** points from your autograder score on Gradescope during code review.\n",
    "\n",
    "**Store** your final answer for each question in the **variable specified for each question**. This step is important because Otter grades your work by comparing the value of this variable against the correct answer.\n",
    "\n",
    "For some of the questions, we'll ask you to write (then use) a function to compute the answer. If you compute the answer **without** creating the function we ask you to write, we'll **manually deduct** points from your autograder score on Gradescope, even if the way you did it produced the correct answer.\n",
    "\n",
    "Required Functions:\n",
    "- `get_all_paths_in`\n",
    "- `get_surface_gravity`\n",
    "- `get_distances_to_star`\n",
    "- `get_liquid_water_distances`\n",
    "- `get_surface_temperatures`\n",
    "\n",
    "In this project, you will also be required to define certain **data structures**. If you do not create these data structures exactly as specified, we'll **manually deduct** points from your autograder score on Gradescope, even if the way you did it produced the correct answer.\n",
    "\n",
    "Required Data Structures:\n",
    "- `Star` (**namedtuple**)\n",
    "- `stars_dict` (**dictionary** mapping **strings** to `Star` objects)\n",
    "- `Planet` (**namedtuple**)\n",
    "- `planets_list` (**list** of `Planet` objects)\n",
    "- `star_classes` (**dictionary**)\n",
    "- `all_planets_list` (**list** of `Planet` objects)\n",
    "\n",
    "In addition, you are also **required** to follow the requirements below:\n",
    "\n",
    "* You are **not** allowed to use **modules** like `pandas` to answer the questions in this project.\n",
    "* You **must** properly **label** the axes of all your **plots**.\n",
    "* Do **not** use meaningless names for variables or functions (example of what **not** to do: `uuu = \"my name\"`).\n",
    "* Do **not** write the exact same code in multiple places. Instead, wrap this code into a function and call that function whenever the code should be used.\n",
    "* Avoid **inappropriate** use of data structures. For example, using a for loop to search for a corresponding value in a dictionary with a given key instead of using `dictname[key]` directly.\n",
    "* Do **not** use python keywords or built-in functions as variable names (example of what **not** to do: `str = \"23\"`).\n",
    "* Do **not** define multiple functions with the same name or define multiple versions of one function with different names. Just keep the best version.\n",
    "* Do **not** leave in irrelevant output or test code that we didn't ask for.\n",
    "\n",
    "We will **manually deduct** points if you do **not** follow these guidelines.\n",
    "\n",
    "For more details on what will cause you to lose points during code review and specific requirements, please take a look at the [Grading rubric](https://git.doit.wisc.edu/cdis/cs/courses/cs220/cs220-f22-projects/-/blob/main/p11rubric.md)."
   ]
  },
  {
   "cell_type": "markdown",
   "id": "bacfee51",
   "metadata": {
    "deletable": false,
    "editable": false
   },
   "source": [
    "## Questions and Functions:\n",
    "\n",
    "Let us start by importing all the modules we will need for this project."
   ]
  },
  {
   "cell_type": "code",
   "execution_count": 3,
   "id": "9313da0a",
   "metadata": {
    "tags": []
   },
   "outputs": [],
   "source": [
    "# it is considered a good coding practice to place all import statements at the top of the notebook\n",
    "# please place all your import statements in this cell if you need to import any more modules for this project\n",
    "import os\n",
    "import json\n",
    "from collections import namedtuple\n",
    "import matplotlib.pyplot as plt\n",
    "import csv\n",
    "import statistics"
   ]
  },
  {
   "cell_type": "markdown",
   "id": "48ef8de2",
   "metadata": {
    "deletable": false,
    "editable": false
   },
   "source": [
    "### Loading in the Stars and Planets:\n",
    "\n",
    "Before we can analyze the data in the `data` directory, you must first copy/paste all the functions and data strucutres you created in p10 to parse the data."
   ]
  },
  {
   "cell_type": "code",
   "execution_count": 4,
   "id": "f0d23c35",
   "metadata": {
    "tags": []
   },
   "outputs": [],
   "source": [
    "# copy/paste the definition of the namedtuple 'Star' here\n",
    "star_atr = ['spectral_type', 'stellar_effective_temperature', 'stellar_radius', 'stellar_mass', 'stellar_luminosity', 'stellar_surface_gravity', 'stellar_age']\n",
    "\n",
    "Star = namedtuple(\"Star\", star_atr)"
   ]
  },
  {
   "cell_type": "code",
   "execution_count": 5,
   "id": "2d59989a",
   "metadata": {
    "tags": []
   },
   "outputs": [],
   "source": [
    "# copy/paste the definition of the function 'process_csv' here\n",
    "def process_csv(filename):\n",
    "    example_file = open(filename, encoding=\"utf-8\")\n",
    "    example_reader = csv.reader(example_file)\n",
    "    example_data = list(example_reader)\n",
    "    example_file.close()\n",
    "    return example_data"
   ]
  },
  {
   "cell_type": "code",
   "execution_count": 6,
   "id": "f3ea707b",
   "metadata": {
    "tags": []
   },
   "outputs": [],
   "source": [
    "# copy/paste the definition of the function 'star_cell' here\n",
    "stars_1_csv = process_csv(os.path.join(\"data\", \"stars_1.csv\"))\n",
    "stars_header = stars_1_csv[0]\n",
    "\n",
    "def star_cell(row_idx, col_name, stars_rows, header=stars_header):\n",
    "    col_idx = header.index(col_name)\n",
    "    val = stars_rows[row_idx][col_idx]\n",
    "    if val == '':\n",
    "        return None\n",
    "    elif col_name == 'Spectral Type' or col_name == 'Name':\n",
    "        return str(val)\n",
    "    else:\n",
    "        return float(val)"
   ]
  },
  {
   "cell_type": "code",
   "execution_count": 7,
   "id": "dbe40271",
   "metadata": {
    "tags": []
   },
   "outputs": [],
   "source": [
    "# copy/paste the definition of the function 'get_stars' here\n",
    "def get_stars(star_file):\n",
    "    stars_dict = {}\n",
    "    stars_data = process_csv(os.path.join(\"data\", star_file))\n",
    "    stars_rows = stars_data[1:]\n",
    "    for row_idx in range(len(stars_rows)):\n",
    "        star_name = star_cell(row_idx, 'Name', stars_rows)\n",
    "        spectral_type = star_cell(row_idx, 'Spectral Type', stars_rows)\n",
    "        stellar_effective_temperature = star_cell(row_idx, 'Stellar Effective Temperature [K]', stars_rows)\n",
    "        stellar_radius = star_cell(row_idx, 'Stellar Radius [Solar Radius]', stars_rows)\n",
    "        stellar_mass = star_cell(row_idx, 'Stellar Mass [Solar mass]', stars_rows)\n",
    "        stellar_luminosity = star_cell(row_idx, 'Stellar Luminosity [log(Solar)]', stars_rows)\n",
    "        stellar_surface_gravity = star_cell(row_idx, 'Stellar Surface Gravity [log10(cm/s**2)]', stars_rows)\n",
    "        stellar_age = star_cell(row_idx, 'Stellar Age [Gyr]', stars_rows)\n",
    "\n",
    "        star = Star(spectral_type, stellar_effective_temperature, stellar_radius, stellar_mass, stellar_luminosity, stellar_surface_gravity, stellar_age) # initialize the 'Star' object using the variables defined above\n",
    "        stars_dict[star_name] = star\n",
    "    return stars_dict"
   ]
  },
  {
   "cell_type": "code",
   "execution_count": 8,
   "id": "5cab9b0c",
   "metadata": {
    "tags": []
   },
   "outputs": [],
   "source": [
    "# copy/paste the definition of the dictionary 'stars_dict' here\n",
    "stars_dict = {}\n",
    "all_files = os.listdir(\"data\")\n",
    "for file in all_files:\n",
    "    if file[:5] == \"stars\":\n",
    "        new_star_dict = get_stars(file)\n",
    "        stars_dict.update(new_star_dict)"
   ]
  },
  {
   "cell_type": "code",
   "execution_count": 9,
   "id": "497e348f",
   "metadata": {
    "tags": []
   },
   "outputs": [],
   "source": [
    "# copy/paste the definition of the namedtuple 'Planet' here\n",
    "planet_atr = ['planet_name', 'host_name', 'discovery_method', 'discovery_year', 'controversial_flag', 'orbital_period', 'planet_radius', 'planet_mass', 'semi_major_radius', 'eccentricity', 'equilibrium_temperature', 'insolation_flux']\n",
    "\n",
    "Planet = namedtuple(\"Planet\", planet_atr)"
   ]
  },
  {
   "cell_type": "code",
   "execution_count": 10,
   "id": "c21b3c3c",
   "metadata": {
    "tags": []
   },
   "outputs": [],
   "source": [
    "# copy/paste the definition of the function 'read_json' here\n",
    "def read_json(path):\n",
    "    with open(path, encoding=\"utf-8\") as f:\n",
    "        return json.load(f)"
   ]
  },
  {
   "cell_type": "code",
   "execution_count": 11,
   "id": "ee7b3fc5",
   "metadata": {
    "tags": []
   },
   "outputs": [],
   "source": [
    "# copy/paste the definition of the function 'planet_cell' here\n",
    "planets_1_csv = process_csv(os.path.join(\"data\", \"planets_1.csv\"))\n",
    "planets_header = planets_1_csv[0]\n",
    "\n",
    "def planet_cell(row_idx, col_name, planets_rows, header=planets_header):\n",
    "    col_idx = header.index(col_name) # extract col_idx from col_name and header\n",
    "    val = planets_rows[row_idx][col_idx] # extract the value at row_idx and col_idx\n",
    "    if val == '':\n",
    "        return None\n",
    "    if col_name in [\"Controversial Flag\"]:\n",
    "        if val == \"1\":\n",
    "            return True\n",
    "        else:\n",
    "            return False\n",
    "    if col_name == \"Discovery Year\":\n",
    "        return int(val)\n",
    "    if col_name == \"Planet Name\" or col_name == \"Discovery Method\":\n",
    "        return str(val)\n",
    "    else:\n",
    "        return float(val)"
   ]
  },
  {
   "cell_type": "code",
   "execution_count": 12,
   "id": "4abf9cdf",
   "metadata": {
    "tags": []
   },
   "outputs": [],
   "source": [
    "# copy/paste the definition of the function 'get_planets' here\n",
    "def get_planets(planet_file, mapping_file):\n",
    "    plan_data = process_csv(planet_file)\n",
    "    plan_rows = plan_data[1:]\n",
    "    plan_header = plan_data[0]\n",
    "    try:\n",
    "        json_map = read_json(mapping_file)\n",
    "    except json.JSONDecodeError:\n",
    "        return []\n",
    "    list_new = []\n",
    "    for idx in range(len(plan_rows)):\n",
    "        try:\n",
    "            planet_name = planet_cell(idx, 'Planet Name', plan_rows)\n",
    "            host_name = json_map[planet_name]\n",
    "            discovery_method = planet_cell(idx, 'Discovery Method', plan_rows)\n",
    "            discovery_year = planet_cell(idx, 'Discovery Year', plan_rows)\n",
    "            controversial_flag = planet_cell(idx, 'Controversial Flag', plan_rows)\n",
    "            orbital_period = planet_cell(idx, 'Orbital Period [days]', plan_rows)\n",
    "            planet_radius = planet_cell(idx, 'Planet Radius [Earth Radius]', plan_rows)\n",
    "            planet_mass = planet_cell(idx, 'Planet Mass [Earth Mass]', plan_rows)\n",
    "            semi_major_radius = planet_cell(idx, 'Orbit Semi-Major Axis [au]', plan_rows)\n",
    "            eccentricity = planet_cell(idx, 'Eccentricity', plan_rows)\n",
    "            equilibrium_temperature = planet_cell(idx, 'Equilibrium Temperature [K]', plan_rows)\n",
    "            insolation_flux = planet_cell(idx, \"Insolation Flux [Earth Flux]\", plan_rows)\n",
    "\n",
    "            new_planet = Planet(planet_name, host_name, discovery_method, discovery_year,\\\n",
    "                      controversial_flag, orbital_period, planet_radius, planet_mass,\\\n",
    "                      semi_major_radius, eccentricity, equilibrium_temperature, insolation_flux)\n",
    "            list_new.append(new_planet)\n",
    "        except:\n",
    "            continue\n",
    "    return list_new"
   ]
  },
  {
   "cell_type": "code",
   "execution_count": 13,
   "id": "191b997e",
   "metadata": {
    "tags": []
   },
   "outputs": [],
   "source": [
    "# copy/paste the definition of the list 'planets_list' here\n",
    "files_in_data = []\n",
    "all_files = os.listdir(\"data\")\n",
    "for file in all_files:\n",
    "    if file[0] != \".\":\n",
    "        files_in_data.append(file)\n",
    "files_in_data = sorted(files_in_data)\n",
    "files_in_data\n",
    "\n",
    "planets_list = []\n",
    "json_paths = []\n",
    "planet_paths = []\n",
    "for file in files_in_data:\n",
    "    if file[:7] == \"planets\":\n",
    "        planet_paths.append(os.path.join(\"data\", file))\n",
    "for file in files_in_data:\n",
    "    if file[-4:] == \"json\":\n",
    "        json_paths.append(os.path.join(\"data\", file))\n",
    "sort_p = sorted(planet_paths)\n",
    "sort_j = sorted(json_paths)\n",
    "\n",
    "for idx in range(len(sort_p)):\n",
    "    planet_list = get_planets(sort_p[idx], sort_j[idx])\n",
    "    planets_list.extend(planet_list)"
   ]
  },
  {
   "cell_type": "markdown",
   "id": "80c26145",
   "metadata": {
    "deletable": false,
    "editable": false
   },
   "source": [
    "You used two functions `plot_scatter` and `plot_scatter_multiple` in lab-p11 to create your **scatter plots**. These functions are again provided for you here to use in p11."
   ]
  },
  {
   "cell_type": "code",
   "execution_count": 14,
   "id": "c816d5da",
   "metadata": {
    "tags": []
   },
   "outputs": [],
   "source": [
    "# remember to import matplotlib.pyplot as plt at the top of the notebook to make these functions work\n",
    "\n",
    "def plot_scatter(x_data, y_data, x_label='x axis', y_label='y axis', c=None, s=7):\n",
    "    plt.scatter(x_data, y_data, c=c, s=s)\n",
    "    plt.xlabel(x_label)\n",
    "    plt.ylabel(y_label)\n",
    "    \n",
    "def plot_scatter_multiple(x_data_dict, y_data_dict, x_label='x axis', y_label='y axis'):\n",
    "    legend_values = list(x_data_dict.keys())\n",
    "    for key in x_data_dict:\n",
    "        plt.scatter(x_data_dict[key], y_data_dict[key], s=7)\n",
    "    plt.xlabel(x_label)\n",
    "    plt.ylabel(y_label)\n",
    "    plt.legend(legend_values)"
   ]
  },
  {
   "cell_type": "markdown",
   "id": "48e7f827",
   "metadata": {
    "deletable": false,
    "editable": false
   },
   "source": [
    "### Verifying Laws of Nature:\n",
    "\n",
    "We will now use our dataset to verify some well-known laws of nature."
   ]
  },
  {
   "cell_type": "markdown",
   "id": "cf3bb533",
   "metadata": {
    "deletable": false,
    "editable": false
   },
   "source": [
    "#### Kepler's Third Law:\n",
    "\n",
    "We will first verify [Kepler's Third Law](https://en.wikipedia.org/wiki/Kepler%27s_laws_of_planetary_motion#Third_law). This law states that the **square** of the `orbital_period` of each planet in a solar system is directly proportional to the **cube** of the `semi_major_radius` of its orbit around its host star.\n",
    "\n",
    "Since this law relates only to planets that orbit the same host star, we will verify this law using the several planets orbiting around a star named *GJ 9827*."
   ]
  },
  {
   "cell_type": "markdown",
   "id": "e006d189",
   "metadata": {
    "deletable": false,
    "editable": false
   },
   "source": [
    "**Question 1:** Compute the **ratio** of the **square** of the `orbital_period` to the **cube** of the `semi_major_radius` of each planet orbiting the star *GJ 9827*.\n",
    "\n",
    "Your output **must** be a **list** of **floats**. You may **assume** that the planets orbiting this star do not have any missing `orbital_period` or `semi_major_radius` data."
   ]
  },
  {
   "cell_type": "code",
   "execution_count": 15,
   "id": "d2cba30f",
   "metadata": {
    "tags": []
   },
   "outputs": [
    {
     "data": {
      "text/plain": [
       "[219971.31454007205, 220096.664979353, 220049.70437075992]"
      ]
     },
     "execution_count": 15,
     "metadata": {},
     "output_type": "execute_result"
    }
   ],
   "source": [
    "# compute and store the answer in the variable 'ratios_gj9827', then display it\n",
    "ratios_gj9827 = []\n",
    "for planet in planets_list:\n",
    "    host = planet.host_name\n",
    "    if host == \"GJ 9827\":\n",
    "        orb_per = (planet.orbital_period)**2\n",
    "        radius = (planet.semi_major_radius)**3\n",
    "        ratio = orb_per/radius\n",
    "        ratios_gj9827.append(ratio)\n",
    "\n",
    "ratios_gj9827"
   ]
  },
  {
   "cell_type": "code",
   "execution_count": 16,
   "id": "4da96851",
   "metadata": {
    "deletable": false,
    "editable": false
   },
   "outputs": [
    {
     "data": {
      "text/html": [
       "<p><strong><pre style='display: inline;'>q1</pre></strong> passed! 🚀</p>"
      ],
      "text/plain": [
       "q1 results: All test cases passed!"
      ]
     },
     "execution_count": 16,
     "metadata": {},
     "output_type": "execute_result"
    }
   ],
   "source": [
    "grader.check(\"q1\")"
   ]
  },
  {
   "cell_type": "markdown",
   "id": "daf04638",
   "metadata": {
    "deletable": false,
    "editable": false
   },
   "source": [
    "The **ratios** of the three stars in this system appear to be very close to each other. It will be useful if we could quantify exactly how close these ratios are to each other. One way to do that would to be compute the [coefficient of variance](https://en.wikipedia.org/wiki/Coefficient_of_variation), which is defined as the **standard deviation** divided by the **mean** of a sequence of numbers. A low value would imply that the numbers are very **close** to each other."
   ]
  },
  {
   "cell_type": "markdown",
   "id": "afbe0e71",
   "metadata": {
    "deletable": false,
    "editable": false
   },
   "source": [
    "**Question 2:** Compute the **coefficient of variance** of the **list** `ratios_gj9827`.\n",
    "\n",
    "**Hint:** You can compute the **standard deviation** and the **mean** of a **list** of numbers using the `statistics.stdev` and `statistics.mean` functions inside the `statistics` module. To do this, you must first **import** the `statistics` module. You can read the documentation for the `statistics.stdev` function [here](https://docs.python.org/3.9/library/statistics.html#statistics.stdev), and the documentation for `statistics.mean` [here](https://docs.python.org/3.9/library/statistics.html#statistics.mean)."
   ]
  },
  {
   "cell_type": "code",
   "execution_count": 17,
   "id": "91d667d5",
   "metadata": {
    "tags": []
   },
   "outputs": [
    {
     "data": {
      "text/plain": [
       "0.00028780552063892534"
      ]
     },
     "execution_count": 17,
     "metadata": {},
     "output_type": "execute_result"
    }
   ],
   "source": [
    "# compute and store the answer in the variable 'coeff_gj9827', then display it\n",
    "coeff_gj9827 = statistics.stdev(ratios_gj9827)/statistics.mean(ratios_gj9827)\n",
    "coeff_gj9827"
   ]
  },
  {
   "cell_type": "code",
   "execution_count": 18,
   "id": "f051105b",
   "metadata": {
    "deletable": false,
    "editable": false
   },
   "outputs": [
    {
     "data": {
      "text/html": [
       "<p><strong><pre style='display: inline;'>q2</pre></strong> passed! 🌟</p>"
      ],
      "text/plain": [
       "q2 results: All test cases passed!"
      ]
     },
     "execution_count": 18,
     "metadata": {},
     "output_type": "execute_result"
    }
   ],
   "source": [
    "grader.check(\"q2\")"
   ]
  },
  {
   "cell_type": "markdown",
   "id": "0eb53310",
   "metadata": {
    "deletable": false,
    "editable": false
   },
   "source": [
    "As we can see, the **coefficient of variance** is indeed very low. This lends credibility to Kepler's Third Law. However, there is yet more we can do with this data. After we adjust for the units used in the project, we find that Kepler's Third Law predicts the following:\n",
    "\n",
    "$$\\texttt{stellar mass} = \\frac{133408}{\\texttt{ratio}}$$\n",
    "\n",
    "where $\\texttt{ratio}$ is the **mean** of the ratios of the **square** of the `orbital_period` to the **cube** of the `semi_major_radius` computed above, and $\\texttt{stellar mass}$ is the mass of the planets' host star.\n",
    "\n",
    "We can therefore check how close this **predicted** `stellar_mass` is to the **actual** `stellar_mass` of the star."
   ]
  },
  {
   "cell_type": "markdown",
   "id": "75f6137a",
   "metadata": {
    "deletable": false,
    "editable": false
   },
   "source": [
    "**Question 3:** Compute the percentage change of the **predicted** `stellar_mass` from the **actual** `stellar_mass` of the star *GJ 9827*.\n",
    "\n",
    "You **must** compute the **predicted** `stellar_mass` as the number *133408* divided by the **mean** of the ratios of the three planets computed in q1. You **must** find the **actual** `stellar_mass` by accessing the correct attribute of the `Star` object of *GJ 9827*. The percentage change can be computed as:\n",
    "\n",
    "$$\\texttt{percent change} = \\frac{\\texttt{predicted stellar mass} - \\texttt{actual stellar mass}}{\\texttt{actual stellar mass}} \\times 100$$"
   ]
  },
  {
   "cell_type": "code",
   "execution_count": 19,
   "id": "d65de0f4",
   "metadata": {
    "tags": []
   },
   "outputs": [
    {
     "data": {
      "text/plain": [
       "-0.607886435301983"
      ]
     },
     "execution_count": 19,
     "metadata": {},
     "output_type": "execute_result"
    }
   ],
   "source": [
    "# compute and store the answer in the variable 'percentage_change', then display it\n",
    "gj_mean = statistics.mean(ratios_gj9827)\n",
    "predict_mass = 133408/gj_mean\n",
    "actual_mass = stars_dict[\"GJ 9827\"].stellar_mass\n",
    "percentage_change = ((predict_mass - actual_mass)/actual_mass)*100\n",
    "percentage_change"
   ]
  },
  {
   "cell_type": "code",
   "execution_count": 20,
   "id": "5e22e0a5",
   "metadata": {
    "deletable": false,
    "editable": false
   },
   "outputs": [
    {
     "data": {
      "text/html": [
       "<p><strong><pre style='display: inline;'>q3</pre></strong> passed! 🎉</p>"
      ],
      "text/plain": [
       "q3 results: All test cases passed!"
      ]
     },
     "execution_count": 20,
     "metadata": {},
     "output_type": "execute_result"
    }
   ],
   "source": [
    "grader.check(\"q3\")"
   ]
  },
  {
   "cell_type": "markdown",
   "id": "77eb3750",
   "metadata": {
    "deletable": false,
    "editable": false
   },
   "source": [
    "#### Stefan-Boltzmann Law:\n",
    "\n",
    "We will now verify the [Stefan-Boltzmann Law](https://en.wikipedia.org/wiki/Stefan%E2%80%93Boltzmann_law). This law states that the `insolation_flux` of a *black body* is directly proportional to the **fourth** power of the `equilibrium_temperature`. In our dataset, we have the `insolation_flux` and `equilibrium_temperature` data of the `Planet` objects. So, we can verify how well this law is obeyed by our dataset."
   ]
  },
  {
   "cell_type": "markdown",
   "id": "e2504bc0",
   "metadata": {
    "deletable": false,
    "editable": false
   },
   "source": [
    "**Question 4:** Create a **scatter plot** representing the `insolation_flux` (on the **x-axis**) against the **fourth power** of the `equilibrium_temperature` (on the **y-axis**) of each `Planet` object in `planets_list`.\n",
    "\n",
    "You **must** ignore all `Planet` objects with **missing** `insolation_flux`, or `equilibrium_temperature` data.\n",
    "\n",
    "You **must** first compute two **lists** containing the **insolation_flux**, and the **equilibrium_temperature** of each `Planet` object (which has all the data available). Then, you **must** use `plot_scatter` to plot the **insolation_flux** against the fourth power of the **equilibrium_temperature**.\n",
    "\n",
    "**Important Warning:** `p11_test.py` can check that the **lists** are correct, but it **cannot** check if your plot appears on the screen, or whether the axes are correctly labelled. Your plots will be **manually graded**, and you will **lose points** if your plot is not visible, or if it is not properly labelled.\n",
    "\n",
    "Your plot should look like this:"
   ]
  },
  {
   "attachments": {
    "insolation_temp.PNG": {
     "image/png": "[encoded data removed]"
    }
   },
   "cell_type": "markdown",
   "id": "5abfa633",
   "metadata": {},
   "source": [
    "<div><img src=\"attachment:insolation_temp.PNG\" width=\"400\"/></div>"
   ]
  },
  {
   "cell_type": "code",
   "execution_count": 21,
   "id": "53631371",
   "metadata": {
    "tags": []
   },
   "outputs": [
    {
     "data": {
      "image/png": "[encoded data removed]",
      "text/plain": [
       "<Figure size 640x480 with 1 Axes>"
      ]
     },
     "metadata": {},
     "output_type": "display_data"
    }
   ],
   "source": [
    "# first compute and store the lists 'flux_list', and 'temp_4th_power_list'\n",
    "# then create the scatter plot using the lists\n",
    "flux_list = []\n",
    "temp_4th_power_list = []\n",
    "for planet in planets_list:\n",
    "    inso_flux = planet.insolation_flux\n",
    "    eq_temp = planet.equilibrium_temperature\n",
    "    if inso_flux != None and eq_temp != None:\n",
    "        flux_list.append(inso_flux)\n",
    "        temp_4th_power_list.append(eq_temp**4)\n",
    "plot_scatter(flux_list, temp_4th_power_list, \"Insolation Flux\", \"(Equilibrium Temperature)**4\")"
   ]
  },
  {
   "cell_type": "code",
   "execution_count": 22,
   "id": "a6d2ec6e",
   "metadata": {
    "deletable": false,
    "editable": false
   },
   "outputs": [
    {
     "data": {
      "text/html": [
       "<p><strong><pre style='display: inline;'>q4</pre></strong> passed! 🙌</p>"
      ],
      "text/plain": [
       "q4 results: All test cases passed!"
      ]
     },
     "execution_count": 22,
     "metadata": {},
     "output_type": "execute_result"
    }
   ],
   "source": [
    "grader.check(\"q4\")"
   ]
  },
  {
   "cell_type": "markdown",
   "id": "08ef6ddf",
   "metadata": {
    "deletable": false,
    "editable": false
   },
   "source": [
    "**Food for thought:** Why does this graph look so strange with all the points bunched up near the bottom-left corner?"
   ]
  },
  {
   "cell_type": "markdown",
   "id": "2381e72e",
   "metadata": {
    "deletable": false,
    "editable": false
   },
   "source": [
    "**Question 5:** Excluding planets with `insolation_flux` **greater than** *7000*, create a **scatter plot** representing the `insolation_flux` (on the **x-axis**) against the **fourth power** of the `equilibrium_temperature` (on the **y-axis**) of each `Planet` object in `planets_list`.\n",
    "\n",
    "You **must** ignore all `Planet` objects with **missing** `insolation_flux`, or `equilibrium_temperature` data.\n",
    "\n",
    "You **must** first compute two **lists** containing the **insolation_flux**, and the **star equilibrium_temperature** of each `Planet` object (which has all the data available). Then, you **must** use `plot_scatter` to plot the **insolation_flux** against the fourth power of the **equilibrium_temperature**.\n",
    "\n",
    "**Important Warning:** `p11_test.py` can check that the **lists** are correct, but it **cannot** check if your plot appears on the screen, or whether the axes are correctly labelled. Your plots will be **manually graded**, and you will **lose points** if your plot is not visible, or if it is not properly labelled.\n",
    "\n",
    "Your plot should look like this:"
   ]
  },
  {
   "attachments": {
    "insolation_temp_wo_outliers.PNG": {
     "image/png": "[encoded data removed]"
    }
   },
   "cell_type": "markdown",
   "id": "b51e505f",
   "metadata": {},
   "source": [
    "<div><img src=\"attachment:insolation_temp_wo_outliers.PNG\" width=\"400\"/></div>"
   ]
  },
  {
   "cell_type": "code",
   "execution_count": 23,
   "id": "bfc52de0",
   "metadata": {
    "tags": []
   },
   "outputs": [
    {
     "data": {
      "image/png": "[encoded data removed]",
      "text/plain": [
       "<Figure size 640x480 with 1 Axes>"
      ]
     },
     "metadata": {},
     "output_type": "display_data"
    }
   ],
   "source": [
    "# first compute and store the lists 'flux_list_no_outliers', and 'temp_4th_power_list_no_outliers'\n",
    "# then create the scatter plot using the lists\n",
    "flux_list_no_outliers = []\n",
    "temp_4th_power_list_no_outliers = []\n",
    "for planet in planets_list:\n",
    "    inso_flux = planet.insolation_flux\n",
    "    eq_temp = planet.equilibrium_temperature\n",
    "    if inso_flux != None and eq_temp != None:\n",
    "        if inso_flux <= 7000:\n",
    "            flux_list_no_outliers.append(inso_flux)\n",
    "            temp_4th_power_list_no_outliers.append(eq_temp**4)\n",
    "plot_scatter(flux_list_no_outliers, temp_4th_power_list_no_outliers, \"Insolation Flux\", \"(Equilibrium Temperature)**4\")"
   ]
  },
  {
   "cell_type": "code",
   "execution_count": 24,
   "id": "2151a139",
   "metadata": {
    "deletable": false,
    "editable": false
   },
   "outputs": [
    {
     "data": {
      "text/html": [
       "<p><strong><pre style='display: inline;'>q5</pre></strong> passed! 🚀</p>"
      ],
      "text/plain": [
       "q5 results: All test cases passed!"
      ]
     },
     "execution_count": 24,
     "metadata": {},
     "output_type": "execute_result"
    }
   ],
   "source": [
    "grader.check(\"q5\")"
   ]
  },
  {
   "cell_type": "markdown",
   "id": "d7a17cde",
   "metadata": {
    "deletable": false,
    "editable": false
   },
   "source": [
    "**Food for thought:** Does the relationship between **insolation flux** and the **fourth power of the equilibrium temperature** appear to be **linear** as predicted by the Stefan-Boltzmann Law? Can you explain why the graph isn't perfectly linear?"
   ]
  },
  {
   "cell_type": "markdown",
   "id": "8b60dace",
   "metadata": {
    "deletable": false,
    "editable": false
   },
   "source": [
    "### Stellar Evolution:\n",
    "\n",
    "[Stellar Evolution](https://en.wikipedia.org/wiki/Stellar_evolution) is a description of the way that stars change with time. The primary factor determining how a star evolves is its `stellar_mass`. Depending on the `stellar_mass` of each `Star`, astronomers can predict how the `Star` will end up. A `Star` whose `stellar_mass` is $\\geq 0.3$ and $< 8$ times the mass of the Sun will become a [Red Giant](https://en.wikipedia.org/wiki/Red_giant), while a `Star` whose `stellar_mass` is $\\geq 8$ and $< 10.5$ times the mass of the Sun will become a [White Dwarf](https://en.wikipedia.org/wiki/White_dwarf). A `Star` that is even bigger will end up as a [Neutron Star](https://en.wikipedia.org/wiki/Neutron_star)."
   ]
  },
  {
   "cell_type": "markdown",
   "id": "7f427a12",
   "metadata": {
    "deletable": false,
    "editable": false
   },
   "source": [
    "### Data Structure 1: `star_classes`\n",
    "\n",
    "You **must** now classify the `Star` objects in `stars_dict` using their `stellar_mass`. You **must** create a **dictionary** `star_classes` with the **keys**: `Red Giant`, `White Dwarf`, and `Neutron Star`. The **value** of each **key** must be a **list** of **strings** containing the **names** of the `Star` objects.\n",
    "\n",
    "You **must** **ignore** `Star` objects for which we do not have `stellar_mass` data or have `stellar_mass` **less** than *0.3* Solar masses.\n",
    "\n",
    "**Hint:** Recall that the `stellar_mass` data already uses units of *Solar masses*. So, a `stellar_mass` of *1* means that the `Star` object has the same mass as the Sun, and a `stellar_mass` of 2 means the `Star` object has twice the mass of the Sun, and so on."
   ]
  },
  {
   "cell_type": "code",
   "execution_count": 25,
   "id": "55b94da4",
   "metadata": {
    "tags": []
   },
   "outputs": [],
   "source": [
    "# define the variable 'star_classes' here\n",
    "# but do NOT display\n",
    "star_classes = {}\n",
    "star_classes[\"Red Giant\"] = []\n",
    "star_classes[\"White Dwarf\"] = []\n",
    "star_classes[\"Neutron Star\"] = []\n",
    "for star in stars_dict:\n",
    "    mass = stars_dict[star].stellar_mass\n",
    "    if mass != None:\n",
    "        if mass < 0.3:\n",
    "            continue\n",
    "        elif 0.3 <= mass < 8:\n",
    "            star_classes[\"Red Giant\"].append(star)\n",
    "        elif 8 <= mass < 10.5:\n",
    "            star_classes[\"White Dwarf\"].append(star)\n",
    "        elif mass >= 10.5:\n",
    "            star_classes[\"Neutron Star\"].append(star)"
   ]
  },
  {
   "cell_type": "markdown",
   "id": "58c44389",
   "metadata": {
    "deletable": false,
    "editable": false
   },
   "source": [
    "You can **verify** that you have defined `star_classes` correctly by checking that there are *3756* Red Giants, *3* White Dwarfs, and *1* Neutron Star in `star_classes`."
   ]
  },
  {
   "cell_type": "markdown",
   "id": "d5f7ebf0",
   "metadata": {
    "deletable": false,
    "editable": false
   },
   "source": [
    "**Question 6:** What is the **average** `stellar_luminosity` of each class of `Star` objects in `star_classes`?\n",
    "\n",
    "Your output **must** be a **dictionary** mapping the class of the star to the **average** `stellar_luminosity` value of all `Star` objects of that class. You **must** ignore the `Star` objects with **missing** `stellar_luminosity` data.\n",
    "\n",
    "The expected output of this question is:\n",
    "\n",
    "```python\n",
    "{'Red Giant': -0.01901339529797699,\n",
    " 'White Dwarf': 2.787333333333333,\n",
    " 'Neutron Star': 2.86}\n",
    "```"
   ]
  },
  {
   "cell_type": "code",
   "execution_count": 26,
   "id": "0f719323",
   "metadata": {
    "tags": []
   },
   "outputs": [
    {
     "data": {
      "text/plain": [
       "{'Red Giant': -0.01901339529797695,\n",
       " 'White Dwarf': 2.787333333333333,\n",
       " 'Neutron Star': 2.86}"
      ]
     },
     "execution_count": 26,
     "metadata": {},
     "output_type": "execute_result"
    }
   ],
   "source": [
    "# compute and store the answer in the variable 'star_classes_avg_lum', then display it\n",
    "star_classes_avg_lum = {}\n",
    "# TODO: initialize 'star_classes_avg_lum'\n",
    "# TODO: loop through each 'star_class' in 'star_classes'\n",
    "    # TODO: loop through each 'star' in the 'star_class'\n",
    "        # TODO: skip 'star' if 'stellar_luminosity' data is missing\n",
    "        # TODO: for the remaining stars, compute the mean of the 'stellar_luminosity'\n",
    "    # TODO: add the mean luminosity to 'star_classes_avg_lum'\n",
    "    \n",
    "# TODO: display 'star_classes_avg_lum'\n",
    "\n",
    "for star_type in star_classes:\n",
    "    total_lum = 0\n",
    "    total_num = 0\n",
    "    for star in star_classes[star_type]:\n",
    "        stell_lum = stars_dict[star].stellar_luminosity\n",
    "        if stell_lum != None:\n",
    "            total_num += 1\n",
    "            total_lum += stell_lum\n",
    "    star_classes_avg_lum[star_type] = total_lum/total_num\n",
    "star_classes_avg_lum"
   ]
  },
  {
   "cell_type": "code",
   "execution_count": 27,
   "id": "6f359315",
   "metadata": {
    "deletable": false,
    "editable": false
   },
   "outputs": [
    {
     "data": {
      "text/html": [
       "<p><strong><pre style='display: inline;'>q6</pre></strong> passed! 💯</p>"
      ],
      "text/plain": [
       "q6 results: All test cases passed!"
      ]
     },
     "execution_count": 27,
     "metadata": {},
     "output_type": "execute_result"
    }
   ],
   "source": [
    "grader.check(\"q6\")"
   ]
  },
  {
   "cell_type": "markdown",
   "id": "d28754f1",
   "metadata": {
    "deletable": false,
    "editable": false
   },
   "source": [
    "**Food for thought:** Recall that the `stellar_luminosity` values of the `Star` objects are represented in units of the logarithm of the Sun's luminosity. What does this difference in `stellar_luminosity` signify?"
   ]
  },
  {
   "cell_type": "markdown",
   "id": "da654437",
   "metadata": {
    "deletable": false,
    "editable": false
   },
   "source": [
    "Just as the different classes of `Star` objects have different **average luminosities**, they also have different **average densities**. This difference will be easier to visualize as a **scatter plot**.\n",
    "\n",
    "However, before you can do that, there is a minor hurdle you need to overcome - we do **not** have the *stellar density* data available for the `Star` objects in our dataset. However, we do have `stellar_mass` and `stellar_radius` data, which allows us to **compute** the *stellar density*. Since the `stellar_mass` and `stellar_radius` data is stored in units of the Sun's mass and radius respectively, we can compute the *stellar density* (i.e., density of the `Star` in units of the Sun's density) as follows:\n",
    "\n",
    "$$\\texttt{stellar density} = \\frac{\\texttt{stellar mass}}{(\\texttt{stellar radius})^{3}}.$$"
   ]
  },
  {
   "cell_type": "markdown",
   "id": "e55b1554",
   "metadata": {
    "deletable": false,
    "editable": false
   },
   "source": [
    "**Question 7:** Create a **scatter plot** representing the *stellar density* (on the **x-axis**) against the `stellar_luminosity` (on the **y-axis**) of each `Star` object of **each class** in `star_classes`.\n",
    "\n",
    "You **must** ignore all `Star` objects with **missing** `stellar_mass`, `stellar_radius`, or `stellar_luminosity` data.\n",
    "\n",
    "You **must** first compute two **dictionaries**. The **keys** of both dictionaries must be the different **star classes**, and the corresponding values must be the **list** of **densities** and **list** of **luminosities** of `Star` objects of that **star class**. Then, you **must** use `plot_scatter_multiple` to plot the **density** against the **luminosity** of each **star class**.\n",
    "\n",
    "**Important Warning:** `p11_test.py` can check that the **dictionaries** are correct, but it **cannot** check if your plot appears on the screen, or whether the axes are correctly labelled. Your plots will be **manually graded**, and you will **lose points** if your plot is not visible, or if it is not properly labelled.\n",
    "\n",
    "Your plot should look like this:"
   ]
  },
  {
   "attachments": {
    "density_luminosity.PNG": {
     "image/png": "[encoded data removed]"
    }
   },
   "cell_type": "markdown",
   "id": "8c04194f",
   "metadata": {},
   "source": [
    "<div><img src=\"attachment:density_luminosity.PNG\" width=\"400\"/></div>"
   ]
  },
  {
   "cell_type": "code",
   "execution_count": 28,
   "id": "da936d95",
   "metadata": {
    "tags": []
   },
   "outputs": [
    {
     "data": {
      "image/png": "[encoded data removed]",
      "text/plain": [
       "<Figure size 640x480 with 1 Axes>"
      ]
     },
     "metadata": {},
     "output_type": "display_data"
    }
   ],
   "source": [
    "# first compute and store the dictionaries 'density_dict', and 'lum_dict'\n",
    "# then create the scatter plot using the dictionaries\n",
    "density_dict = {}\n",
    "lum_dict = {}\n",
    "# TODO: initialize the two dictionaries 'density_dict', and 'lum_dict'\n",
    "# TODO: loop through each 'star_class' in 'star_classes'\n",
    "    # TODO: add the 'star_class' to 'density_dict' and 'lum_dict'\n",
    "    # TODO: loop through each 'star' in the 'star_class'\n",
    "        # TODO: skip 'star' if mass, radius, or luminosity data is missing\n",
    "        # TODO: otherwise add the luminosity to the correct key of 'lum_dict'\n",
    "        # TODO: compute the density and add to the correct key of 'density_dict'\n",
    "    \n",
    "# TODO: use the 'plot_scatter_multiple' function to create the plot\n",
    "\n",
    "for star_type in star_classes:\n",
    "    total_den = 0\n",
    "    total_num = 0\n",
    "    density_dict[star_type] = []\n",
    "    lum_dict[star_type] = []\n",
    "    for star in star_classes[star_type]:\n",
    "        mass = stars_dict[star].stellar_mass\n",
    "        rad = stars_dict[star].stellar_radius\n",
    "        lum = stars_dict[star].stellar_luminosity\n",
    "        if mass != None and rad != None and lum != None:\n",
    "            density = mass/(rad**3)\n",
    "            density_dict[star_type].append(density)\n",
    "            lum_dict[star_type].append(lum)\n",
    "plot_scatter_multiple(density_dict, lum_dict, \"Density\", \"Luminosity\")"
   ]
  },
  {
   "cell_type": "code",
   "execution_count": 29,
   "id": "4ea7e85f",
   "metadata": {
    "deletable": false,
    "editable": false
   },
   "outputs": [
    {
     "data": {
      "text/html": [
       "<p><strong><pre style='display: inline;'>q7</pre></strong> passed! 🚀</p>"
      ],
      "text/plain": [
       "q7 results: All test cases passed!"
      ]
     },
     "execution_count": 29,
     "metadata": {},
     "output_type": "execute_result"
    }
   ],
   "source": [
    "grader.check(\"q7\")"
   ]
  },
  {
   "cell_type": "markdown",
   "id": "6f4962ee",
   "metadata": {
    "deletable": false,
    "editable": false
   },
   "source": [
    "**Food for thought:** As you can see, there are **two** extreme outliers with a very high density. If you are interested, you can try to find out the names of these stars, and why they have such extremely high densities (and low luminosities). What (incorrect) assumption did we make when we classified the `Star` objects in `star_classes`? Can you suggest a more accurate way of classifying the stars now?"
   ]
  },
  {
   "cell_type": "markdown",
   "id": "37fd9bab",
   "metadata": {
    "deletable": false,
    "editable": false
   },
   "source": [
    "As you can see, almost all the `Star` objects have low *stellar density*, and the presence of a few extreme outliers is obscuring our view of the other `Star` objects. In fact, it turns out that there are only *10* `Star` objects in the dataset with a *stellar density* **greater than** *25*. We could get a much clearer view of the relationship between *stellar density* and `stellar_luminosity` if we did **not** plot these outliers."
   ]
  },
  {
   "cell_type": "markdown",
   "id": "dd109af4",
   "metadata": {
    "deletable": false,
    "editable": false
   },
   "source": [
    "**Question 8:** **Excluding** stars with *stellar density* **greater than** *25*, create a **scatter plot** representing the *stellar density* (on the **x-axis**) against the `stellar_luminosity` (on the **y-axis**) of each `Star` object of **each class** in `star_classes`.\n",
    "\n",
    "You **must** ignore all `Star` objects with **missing** `stellar_mass`, `stellar_radius`, or `stellar_luminosity` data.\n",
    "\n",
    "You **must** first compute two **dictionaries**. The **keys** of both dictionaries must be the different **star classes**, and the corresponding values must be the **list** of **densities** and **list** of **luminosities** of `Star` objects of that **star class**. Then, you **must** use `plot_scatter_multiple` to plot the **density** against the **luminosity** of each **star class**.\n",
    "\n",
    "**Important Warning:** `p11_test.py` can check that the **dictionaries** are correct, but it **cannot** check if your plot appears on the screen, or whether the axes are correctly labelled. Your plots will be **manually graded**, and you will **lose points** if your plot is not visible, or if it is not properly labelled.\n",
    "\n",
    "Your plot should look like this:"
   ]
  },
  {
   "attachments": {
    "density_luminosity_wo_outliers.PNG": {
     "image/png": "[encoded data removed]"
    }
   },
   "cell_type": "markdown",
   "id": "87e62b2e",
   "metadata": {},
   "source": [
    "<div><img src=\"attachment:density_luminosity_wo_outliers.PNG\" width=\"400\"/></div>"
   ]
  },
  {
   "cell_type": "code",
   "execution_count": 30,
   "id": "2d5fd652",
   "metadata": {
    "tags": []
   },
   "outputs": [
    {
     "data": {
      "image/png": "[encoded data removed]",
      "text/plain": [
       "<Figure size 640x480 with 1 Axes>"
      ]
     },
     "metadata": {},
     "output_type": "display_data"
    }
   ],
   "source": [
    "# first compute and store the dictionaries 'density_dict_no_outliers', and 'lum_dict_no_outliers'\n",
    "# then create the scatter plot using the dictionaries\n",
    "density_dict_no_outliers = {}\n",
    "lum_dict_no_outliers = {}\n",
    "\n",
    "for star_type in star_classes:\n",
    "    total_den = 0\n",
    "    total_num = 0\n",
    "    density_dict_no_outliers[star_type] = []\n",
    "    lum_dict_no_outliers[star_type] = []\n",
    "    for star in star_classes[star_type]:\n",
    "        mass = stars_dict[star].stellar_mass\n",
    "        rad = stars_dict[star].stellar_radius\n",
    "        lum = stars_dict[star].stellar_luminosity\n",
    "        if mass != None and rad != None and lum != None:\n",
    "            density = mass/(rad**3)\n",
    "            if density <= 25:\n",
    "                density_dict_no_outliers[star_type].append(density)\n",
    "                lum_dict_no_outliers[star_type].append(lum)\n",
    "plot_scatter_multiple(density_dict_no_outliers, lum_dict_no_outliers, \"Density\", \"Luminosity\")"
   ]
  },
  {
   "cell_type": "code",
   "execution_count": 31,
   "id": "f962c158",
   "metadata": {
    "deletable": false,
    "editable": false
   },
   "outputs": [
    {
     "data": {
      "text/html": [
       "<p><strong><pre style='display: inline;'>q8</pre></strong> passed! 🚀</p>"
      ],
      "text/plain": [
       "q8 results: All test cases passed!"
      ]
     },
     "execution_count": 31,
     "metadata": {},
     "output_type": "execute_result"
    }
   ],
   "source": [
    "grader.check(\"q8\")"
   ]
  },
  {
   "cell_type": "markdown",
   "id": "59dd755e",
   "metadata": {
    "deletable": false,
    "editable": false
   },
   "source": [
    "**Food for thought:** Can you guess the relationship between **density** and **luminosity**? Can you spot the `Star` objects in this graph which will end up as White Dwarfs and Neutron Stars? Do they appear to follow the same relationship as the Red Giants? How do they compare to the outliers you found in q7?"
   ]
  },
  {
   "cell_type": "markdown",
   "id": "ab798cec",
   "metadata": {
    "deletable": false,
    "editable": false
   },
   "source": [
    "### Hertzsprung–Russell Diagram:\n",
    "\n",
    "The [Hertzsprung–Russell diagram](https://en.wikipedia.org/wiki/Hertzsprung%E2%80%93Russell_diagram) is a scatter plot of stars showing the relationship between the stars' `stellar_luminosity` versus their `stellar_effective_temperature`. The diagram is exceedingly useful for understanding the stellar evolution of stars. We will now use the data we have available to plot this diagram ourselves, so we can better understand stellar evolution.\n",
    "\n",
    "We want to plot the `stellar_effective_temperature` against the `stellar_luminosity`, but more importantly, we will use the **color** and **size** parameters to represent the `stellar_age` and `stellar_mass` of the `Star` objects as well. This will allow us to see the effects of `stellar_age` and `stellar_mass` on `stellar_effective_temperature` and `stellar_luminosity`."
   ]
  },
  {
   "cell_type": "markdown",
   "id": "d740c535",
   "metadata": {
    "deletable": false,
    "editable": false
   },
   "source": [
    "**Question 9**: Create a **scatter plot** representing the `stellar_effective_temperature` (on the **x-axis**) against the `stellar_luminosity` (on the **y-axis**) of each `Star` object in `stars_dict`. Moreover, represent the `stellar_age` of each `Star` object using the **color** and represent the `stellar_mass` of each `Star` object using the **size** of the star.\n",
    "\n",
    "You **must** first compute four **lists** containing the `stellar_effective_temperature`, `stellar_luminosity`, `stellar_age` and the `stellar_mass` of each `Star` object (which has **all** the data available). You **must** ignore any `Star` object which has any of these four attributes **missing**. Then, you **must** use `plot_scatter` to plot the `stellar_effective_temperature` against the `stellar_luminosity` with the `stellar_age` as the **color** and the `stellar_mass` as the **size** of the points.\n",
    "\n",
    "**Important Warning:** `p11_test.py` can check that the **lists** are correct, but it **cannot** check if your plot appears on the screen, or whether the axes are correctly labelled. Your plots will be **manually graded**, and you will **lose points** if your plot is not visible, or if it is not properly labelled.\n",
    "\n",
    "Your plot should look like this:"
   ]
  },
  {
   "attachments": {
    "hr_diagram.PNG": {
     "image/png": "[encoded data removed]"
    }
   },
   "cell_type": "markdown",
   "id": "659a9710",
   "metadata": {},
   "source": [
    "<div><img src=\"attachment:hr_diagram.PNG\" width=\"400\"/></div>"
   ]
  },
  {
   "cell_type": "code",
   "execution_count": 32,
   "id": "b666700f",
   "metadata": {
    "tags": []
   },
   "outputs": [
    {
     "data": {
      "image/png": "[encoded data removed]",
      "text/plain": [
       "<Figure size 640x480 with 1 Axes>"
      ]
     },
     "metadata": {},
     "output_type": "display_data"
    }
   ],
   "source": [
    "# first compute and store the lists 'temp_list', 'lum_list', 'age_list', and 'mass_list'\n",
    "# then create the scatter plot using the lists\n",
    "temp_list = []\n",
    "lum_list = []\n",
    "age_list = []\n",
    "mass_list = []\n",
    "for star in stars_dict:\n",
    "    temp = stars_dict[star].stellar_effective_temperature\n",
    "    lum = stars_dict[star].stellar_luminosity\n",
    "    age = stars_dict[star].stellar_age\n",
    "    mass = stars_dict[star].stellar_mass\n",
    "    if temp != None and lum != None and age != None and mass != None:\n",
    "        temp_list.append(temp)\n",
    "        lum_list.append(lum)\n",
    "        age_list.append(age)\n",
    "        mass_list.append(mass)\n",
    "        \n",
    "plot_scatter(temp_list, lum_list, \"Effective Temperature\", \"Luminosity\", age_list, mass_list)"
   ]
  },
  {
   "cell_type": "code",
   "execution_count": 33,
   "id": "a9211f63",
   "metadata": {
    "deletable": false,
    "editable": false
   },
   "outputs": [
    {
     "data": {
      "text/html": [
       "<p><strong><pre style='display: inline;'>q9</pre></strong> passed! 🍀</p>"
      ],
      "text/plain": [
       "q9 results: All test cases passed!"
      ]
     },
     "execution_count": 33,
     "metadata": {},
     "output_type": "execute_result"
    }
   ],
   "source": [
    "grader.check(\"q9\")"
   ]
  },
  {
   "cell_type": "markdown",
   "id": "bde8d153",
   "metadata": {
    "deletable": false,
    "editable": false
   },
   "source": [
    "**Food for thought:** Can you tell if there is any relationship between the **temperature**, **luminosity**, **age**, and **mass** of the stars? You might want to remove the outliers with the extremely high `stellar_effective_temperature` to get a better view of the diagram. What effect does the **age** seem to have on the **temperature**? Recall that a **lighter** color implies that the value is higher, while a **darker** color implies that the value is lower. What effect does the **mass** have on **luminosity** and **temperature**? Are stars of all masses distributed evenly across the plot? Where are the heavier stars concentrated?\n",
    "\n",
    "**Food for thought:** Notice that there are **two distinct** *clusters* of points in this diagram. If you are interested, look up more information on the Hertzsprung–Russell Diagram to understand what these clusters are. "
   ]
  },
  {
   "cell_type": "markdown",
   "id": "71143e9a",
   "metadata": {
    "deletable": false,
    "editable": false
   },
   "source": [
    "### Recursion:\n",
    "\n",
    "You are not done exploring the dataset, and you have more questions left to answer. However, something more important has happened! We have managed to find the data from the corrupted json file (`mapping_5.json`)!\n",
    "\n",
    "If you will recall, when we were parsing the files in p10, we found that `mapping_5.json` was **broken**, and we couldn't read it. Therefore, we had no choice but to leave all the planets in `planets_5.csv` out of our analysis. Luckily for you now, the data has shown up intact in the directory `broken_data`. Unfortunately, the data is now no longer stored in a single file, but has been **split up** into **multiple files** and stored in **different subdirectories**.\n",
    "\n",
    "You will now create a function to help parse all the data stored within this directory."
   ]
  },
  {
   "cell_type": "markdown",
   "id": "58cdf18b",
   "metadata": {
    "deletable": false,
    "editable": false
   },
   "source": [
    "### Function 1:  `get_all_paths_in(directory)`\n",
    "\n",
    "You **must** write this function that takes in the **relative path** of a `directory` as its input, and returns a **list** of **relative paths** of all the **files** inside `directory` and its subdirectories.\n",
    "\n",
    "In other words, if a directory `small_data` looks like this:\n",
    "```\n",
    "+-- sample_data\n",
    "|   +-- .DS_Store\n",
    "|   +-- file_1.json\n",
    "|   +-- sample_1\n",
    "|   |   +-- .ipynb_checkpoints\n",
    "|   |   +-- file_2.json\n",
    "|   |   +-- file_3.json\n",
    "|   +-- sample_2\n",
    "|   |   +-- file_4.json\n",
    "|   |   +-- sample_3\n",
    "|   |   |   +-- .DS_Store\n",
    "|   |   |   +-- file_5.json\n",
    "```\n",
    "\n",
    "then the output of the function call `get_all_paths_in(\"sample_data\")` **must** be a **list** containing the **relative paths** of the files `file_1.json`, `files_2.json`, `file_3.json`, `file_4.json`, and `file_5.json`.\n",
    "\n",
    "You **must** **ignore** all files that start with `\".\"`, and your output **must** be **explicitly** sorted in **alphabetical** order.\n",
    "\n",
    "**Important Warning:** You **must** write a **recursive** function here. You are **only allowed** to use the functions from the `os` module, which have been covered in lecture. Here is a list of these functions (you will only need a few of these functions to define `get_all_paths_in`):\n",
    "* `os.mkdir`\n",
    "* `os.path.join`\n",
    "* `os.listdir`\n",
    "* `os.path.exists`\n",
    "* `os.path.isfile`\n",
    "* `os.path.isdir`"
   ]
  },
  {
   "cell_type": "code",
   "execution_count": 34,
   "id": "f0d8b603",
   "metadata": {
    "lines_to_next_cell": 0,
    "tags": []
   },
   "outputs": [],
   "source": [
    "# define the function 'get_all_paths_in' here\n",
    "\n",
    "def get_all_paths_in(directory):\n",
    "    new_list = []\n",
    "    for item in os.listdir(directory):\n",
    "        if item[0] != \".\":\n",
    "            if os.path.isdir(os.path.join(directory, item)) == True:\n",
    "                direc_list = get_all_paths_in(os.path.join(directory, item))\n",
    "                new_list.extend(direc_list)\n",
    "            if os.path.isfile(os.path.join(directory, item)) == True:\n",
    "                new_list.append(os.path.join(directory, item))\n",
    "    sort_list = sorted(new_list)\n",
    "    return sort_list"
   ]
  },
  {
   "cell_type": "markdown",
   "id": "e2254fd9",
   "metadata": {
    "deletable": false,
    "editable": false
   },
   "source": [
    "**Question 10:** What are the **paths** of the files in the `others` directory of the `broken_data` directory?\n",
    "\n",
    "Your output **must** be a **list** of **relative paths**. You **must** answer this question by calling the `get_paths_in` function.\n",
    "\n",
    "**Warning:** Remember that you **must** only use `os.path.join` to create paths."
   ]
  },
  {
   "cell_type": "code",
   "execution_count": 35,
   "id": "120958a2",
   "metadata": {
    "lines_to_next_cell": 0,
    "tags": []
   },
   "outputs": [
    {
     "data": {
      "text/plain": [
       "['broken_data/others/gjs.json',\n",
       " 'broken_data/others/others.json',\n",
       " 'broken_data/others/tois/tois.json']"
      ]
     },
     "execution_count": 35,
     "metadata": {},
     "output_type": "execute_result"
    }
   ],
   "source": [
    "# compute and store the answer in the variable 'broken_data_others', then display it\n",
    "broken_data_others = get_all_paths_in(os.path.join(\"broken_data\", \"others\"))\n",
    "broken_data_others"
   ]
  },
  {
   "cell_type": "code",
   "execution_count": 36,
   "id": "e9a83adf",
   "metadata": {
    "deletable": false,
    "editable": false
   },
   "outputs": [
    {
     "data": {
      "text/html": [
       "<p><strong><pre style='display: inline;'>q10</pre></strong> passed! 🙌</p>"
      ],
      "text/plain": [
       "q10 results: All test cases passed!"
      ]
     },
     "execution_count": 36,
     "metadata": {},
     "output_type": "execute_result"
    }
   ],
   "source": [
    "grader.check(\"q10\")"
   ]
  },
  {
   "cell_type": "markdown",
   "id": "9c357739",
   "metadata": {
    "deletable": false,
    "editable": false
   },
   "source": [
    "**Question 11:** What are the **paths** of the files in the `kepler_100s` directory of the `keplers` directory of the `broken_data` directory?\n",
    "\n",
    "Your output **must** be a **list** of **relative paths**. You **must** answer this question by calling the `get_all_paths_in` function.\n",
    "\n",
    "**Hint:** You can pass multiple **strings** as arguments to `os.path.join` to join them together at the same time. For example, to get the path of the required directory here, you could say\n",
    "```python\n",
    "os.path.join(\"broken_data\", \"keplers\", \"kepler_100s\")\n",
    "```"
   ]
  },
  {
   "cell_type": "code",
   "execution_count": 37,
   "id": "eabfca6b",
   "metadata": {
    "lines_to_next_cell": 0,
    "tags": []
   },
   "outputs": [
    {
     "data": {
      "text/plain": [
       "['broken_data/keplers/kepler_100s/kepler_100s/kepler_100s/kepler_100s.json',\n",
       " 'broken_data/keplers/kepler_100s/kepler_100s/others.json',\n",
       " 'broken_data/keplers/kepler_100s/kepler_200s/kepler_220s.json',\n",
       " 'broken_data/keplers/kepler_100s/kepler_200s/kepler_290s.json',\n",
       " 'broken_data/keplers/kepler_100s/kepler_200s/others/others.json',\n",
       " 'broken_data/keplers/kepler_100s/others.json']"
      ]
     },
     "execution_count": 37,
     "metadata": {},
     "output_type": "execute_result"
    }
   ],
   "source": [
    "# compute and store the answer in the variable 'broken_data_keplers_kepler_100s', then display it\n",
    "broken_data_keplers_kepler_100s = get_all_paths_in(os.path.join(\"broken_data\", \"keplers\", \"kepler_100s\"))\n",
    "broken_data_keplers_kepler_100s"
   ]
  },
  {
   "cell_type": "code",
   "execution_count": 38,
   "id": "2e186ec3",
   "metadata": {
    "deletable": false,
    "editable": false
   },
   "outputs": [
    {
     "data": {
      "text/html": [
       "<p><strong><pre style='display: inline;'>q11</pre></strong> passed! 🎉</p>"
      ],
      "text/plain": [
       "q11 results: All test cases passed!"
      ]
     },
     "execution_count": 38,
     "metadata": {},
     "output_type": "execute_result"
    }
   ],
   "source": [
    "grader.check(\"q11\")"
   ]
  },
  {
   "cell_type": "markdown",
   "id": "2e94fe77",
   "metadata": {
    "deletable": false,
    "editable": false
   },
   "source": [
    "**Question 12:** What are the **paths** of the files in the `others` directory of the `kepler_10s` directory of the `keplers` directory of the `broken_data` directory?\n",
    "\n",
    "Your output **must** be a **list** of **relative paths**. You **must** answer this question by calling the `get_all_paths_in` function."
   ]
  },
  {
   "cell_type": "code",
   "execution_count": 39,
   "id": "d3ae1714",
   "metadata": {
    "lines_to_next_cell": 0,
    "tags": []
   },
   "outputs": [
    {
     "data": {
      "text/plain": [
       "['broken_data/keplers/kepler_10s/others/kepler_20s.json',\n",
       " 'broken_data/keplers/kepler_10s/others/kepler_30s.json',\n",
       " 'broken_data/keplers/kepler_10s/others/others.json']"
      ]
     },
     "execution_count": 39,
     "metadata": {},
     "output_type": "execute_result"
    }
   ],
   "source": [
    "# compute and store the answer in the variable 'broken_data_keplers_kepler_10s_others', then display it\n",
    "broken_data_keplers_kepler_10s_others = get_all_paths_in(os.path.join(\"broken_data\", \"keplers\", \"kepler_10s\", \"others\"))\n",
    "broken_data_keplers_kepler_10s_others"
   ]
  },
  {
   "cell_type": "code",
   "execution_count": 40,
   "id": "b53ed2fe",
   "metadata": {
    "deletable": false,
    "editable": false
   },
   "outputs": [
    {
     "data": {
      "text/html": [
       "<p><strong><pre style='display: inline;'>q12</pre></strong> passed! 🙌</p>"
      ],
      "text/plain": [
       "q12 results: All test cases passed!"
      ]
     },
     "execution_count": 40,
     "metadata": {},
     "output_type": "execute_result"
    }
   ],
   "source": [
    "grader.check(\"q12\")"
   ]
  },
  {
   "cell_type": "markdown",
   "id": "f3cbf6d8",
   "metadata": {
    "deletable": false,
    "editable": false
   },
   "source": [
    "**Question 13:** What are the **paths** of the files in the `broken_data` directory?\n",
    "\n",
    "Your output **must** be a **list** of **relative paths**. You **must** answer this question by calling the `get_paths_in` function."
   ]
  },
  {
   "cell_type": "code",
   "execution_count": 41,
   "id": "345fbf22",
   "metadata": {
    "lines_to_next_cell": 0,
    "tags": []
   },
   "outputs": [
    {
     "data": {
      "text/plain": [
       "['broken_data/hds/hd_10000s/hd_10000s.json',\n",
       " 'broken_data/hds/others.json',\n",
       " 'broken_data/k2s.json',\n",
       " 'broken_data/keplers/kepler_100s/kepler_100s/kepler_100s/kepler_100s.json',\n",
       " 'broken_data/keplers/kepler_100s/kepler_100s/others.json',\n",
       " 'broken_data/keplers/kepler_100s/kepler_200s/kepler_220s.json',\n",
       " 'broken_data/keplers/kepler_100s/kepler_200s/kepler_290s.json',\n",
       " 'broken_data/keplers/kepler_100s/kepler_200s/others/others.json',\n",
       " 'broken_data/keplers/kepler_100s/others.json',\n",
       " 'broken_data/keplers/kepler_10s/kepler_80s/kepler_80s.json',\n",
       " 'broken_data/keplers/kepler_10s/others/kepler_20s.json',\n",
       " 'broken_data/keplers/kepler_10s/others/kepler_30s.json',\n",
       " 'broken_data/keplers/kepler_10s/others/others.json',\n",
       " 'broken_data/keplers/others/others.json',\n",
       " 'broken_data/others/gjs.json',\n",
       " 'broken_data/others/others.json',\n",
       " 'broken_data/others/tois/tois.json']"
      ]
     },
     "execution_count": 41,
     "metadata": {},
     "output_type": "execute_result"
    }
   ],
   "source": [
    "# compute and store the answer in the variable 'broken_data', then display it\n",
    "broken_data = get_all_paths_in(\"broken_data\")\n",
    "broken_data"
   ]
  },
  {
   "cell_type": "code",
   "execution_count": 42,
   "id": "cf3b041b",
   "metadata": {
    "deletable": false,
    "editable": false
   },
   "outputs": [
    {
     "data": {
      "text/html": [
       "<p><strong><pre style='display: inline;'>q13</pre></strong> passed! 🙌</p>"
      ],
      "text/plain": [
       "q13 results: All test cases passed!"
      ]
     },
     "execution_count": 42,
     "metadata": {},
     "output_type": "execute_result"
    }
   ],
   "source": [
    "grader.check(\"q13\")"
   ]
  },
  {
   "cell_type": "markdown",
   "id": "ad157bfb",
   "metadata": {
    "deletable": false,
    "editable": false
   },
   "source": [
    "### Data Structure 2: `all_planets_list`\n",
    "\n",
    "We want to read the data that is stored inside the directory `broken_data`. We already have a function `get_planets` (from p10) which can read a CSV file and a JSON file and combine them to create a **list** of `Planet` objects. So, we can repeatedly call `get_planets` on the CSV file `planets_5.csv` and each of the JSON files inside `broken_data` to get a **list** of `Planet` objects of **all** the planets in `planets_5.csv`.\n",
    "\n",
    "You **must** **create** the **list** `all_planets_list` by adding in all `Planet` objects from `planets_list`, and then also adding in the `Planet` objects in `planets_5.csv` and the directory `broken_data`.\n",
    "\n",
    "**Hint:** You **must** loop through every file in the list `broken_data`, and use `get_planets` on `planets_5.csv` (inside the `data` directory), and this file (from the loop) to create a list of `Planet` objects, and then **extend** `all_planets_list` by the list of new `Planet` objects.\n",
    "\n",
    "**Warning:** Do **not** update the value of the **list** `planets_list` when you do this. Otherwise, your answers to some of the previous questions will become incorrect. Instead, make sure that the new `Planet` objects are only added to `all_planets_list` and **not** to `planets_list`."
   ]
  },
  {
   "cell_type": "code",
   "execution_count": 43,
   "id": "1f470ef3",
   "metadata": {
    "tags": []
   },
   "outputs": [],
   "source": [
    "# create the variable 'all_planets_list' here,\n",
    "# but do NOT display the variable at the end\n",
    "all_planets_list = []\n",
    "all_planets_list.extend(planets_list)\n",
    "for file in broken_data:\n",
    "    new_list = get_planets(os.path.join(\"data\", \"planets_5.csv\"), file)\n",
    "    all_planets_list.extend(new_list)\n",
    "# TODO: initialize 'all_planets_list'\n",
    "# TODO: add the planets in 'planets_list' to 'all_planets_list'\n",
    "# TODO: loop through all paths in 'broken_data'\n",
    "    # TODO: use 'get_planets' to get the planets in this file and add them to 'all_planets_list'"
   ]
  },
  {
   "cell_type": "markdown",
   "id": "a3b023db",
   "metadata": {
    "deletable": false,
    "editable": false
   },
   "source": [
    "You can verify that you have not made any mistakes by confirming that `all_planets_list` now has *5174* `Planet` objects in it."
   ]
  },
  {
   "cell_type": "markdown",
   "id": "9e94b7c9",
   "metadata": {
    "deletable": false,
    "editable": false
   },
   "source": [
    "### Exploring habitability of exoplanets:\n",
    "\n",
    "Now that we have gathered the data on all the `Planet` objects, we are ready to have some fun with this dataset. Over the course of the rest of this project, we will try to find out if there are any planets in our dataset which could potentially support human habitation. Naturally, we cannot say with any certainty that any particular planet is habitable, but we can say with some confidence when a planet is **not** habitable (notwithstanding major technological gains). That is exactly what we will do now."
   ]
  },
  {
   "cell_type": "markdown",
   "id": "ad603705",
   "metadata": {
    "deletable": false,
    "editable": false
   },
   "source": [
    "#### Surface Gravitational Force:\n",
    "\n",
    "It seems reasonable to expect that for humans to be able to survive on a planet, the gravitational force of the planet on its surface is not too different from that of the Earth.\n",
    "\n",
    "We note that this is because the `planet_mass` and `planet_radius` attributes of the `Planet` objects already stores these values in units of the mass of the Earth, and the radius of the Earth respectively. So, the **ratio** of the gravitational force experienced on the surface of a given planet to the force experienced on the surface of the Earth can be computed as:\n",
    "\n",
    "$$\\frac{g_{\\texttt{planet}}}{g_{\\texttt{earth}}} = \\frac{\\texttt{planet mass}}{\\texttt{planet radius}^{2}}$$\n",
    "\n",
    "So, a **ratio** greater than 1 would imply that a person on the planet's surface would experience a greater force due to gravity than on Earth, while a value lower than 1 would imply that a person on the planet's surface would experience a lesser force due to gravity than on Earth."
   ]
  },
  {
   "cell_type": "markdown",
   "id": "93266f13",
   "metadata": {
    "deletable": false,
    "editable": false
   },
   "source": [
    "### Function 2: `get_surface_gravity(planet)`\n",
    "\n",
    "You **must** define this function which takes in a `Planet` object as its input, and then **returns** the **ratio** of the gravitational force experienced on the surface of a given planet to the force experienced on the surface of the Earth. If either the `planet_mass` or `planet_radius` data is **missing**, then your function **must** return `None`."
   ]
  },
  {
   "cell_type": "code",
   "execution_count": 44,
   "id": "6ea5178d",
   "metadata": {
    "tags": []
   },
   "outputs": [],
   "source": [
    "# define the function 'get_surface_gravity' here\n",
    "def get_surface_gravity(planet):\n",
    "    mass = planet.planet_mass\n",
    "    radius = planet.planet_radius\n",
    "    if mass == None or radius == None:\n",
    "        return None\n",
    "    else:\n",
    "        ratio = mass/(radius**2)\n",
    "        return ratio"
   ]
  },
  {
   "cell_type": "markdown",
   "id": "0aecb82f",
   "metadata": {
    "deletable": false,
    "editable": false
   },
   "source": [
    "**Question 14:** What is the **ratio** of gravitational force experienced on the surface of the planet *GJ 674 b* to the gravitational force experienced on the surface of the Earth?\n",
    "\n",
    "**Hint:** You will have to first loop through `all_planets_list` to identify the correct `Planet` object. Remember to `break` out of your loop after you identify the correct `Planet` object."
   ]
  },
  {
   "cell_type": "code",
   "execution_count": 45,
   "id": "3e9d5ad6",
   "metadata": {
    "tags": []
   },
   "outputs": [
    {
     "data": {
      "text/plain": [
       "1.0000991982973964"
      ]
     },
     "execution_count": 45,
     "metadata": {},
     "output_type": "execute_result"
    }
   ],
   "source": [
    "# compute and store the answer in the variable 'gj_674_b_gravity', then display it\n",
    "gj_674_b_gravity = 0\n",
    "for planet in all_planets_list:\n",
    "    if planet.planet_name == \"GJ 674 b\":\n",
    "        gj_674_b_gravity = get_surface_gravity(planet)\n",
    "gj_674_b_gravity"
   ]
  },
  {
   "cell_type": "code",
   "execution_count": 46,
   "id": "5dcb4898",
   "metadata": {
    "deletable": false,
    "editable": false
   },
   "outputs": [
    {
     "data": {
      "text/html": [
       "<p><strong><pre style='display: inline;'>q14</pre></strong> passed! 🌈</p>"
      ],
      "text/plain": [
       "q14 results: All test cases passed!"
      ]
     },
     "execution_count": 46,
     "metadata": {},
     "output_type": "execute_result"
    }
   ],
   "source": [
    "grader.check(\"q14\")"
   ]
  },
  {
   "cell_type": "markdown",
   "id": "d50dc41f",
   "metadata": {
    "deletable": false,
    "editable": false
   },
   "source": [
    "#### Distance to the star:\n",
    "\n",
    "Planets follow **elliptical** orbits around their host star. The `eccentricity` of a planet's orbit is a number that measures *how* elliptical the orbit is. An eccentricity of *0* would imply that the orbit is in fact perfectly circular, while an eccentricity close to *1* would imply that the orbit is very skewed and elliptical. As you may expect, if a planet has a highly eccentric orbit, its distance to its host star would vary wildly, leading to a highly variable climate. To determine if a planet could support human habitation, it is therefore important to know the closest and shortest distances between the planet and its host star.\n",
    "\n",
    "We can compute these quantities using the attributes `eccentricity` and `semi_major_radius` of each `Planet` object. These distances can be computed as:\n",
    "\n",
    "$$\\texttt{shortest distance} = \\texttt{semi major radius} \\times (1 - \\texttt{abs}(\\texttt{eccentricity}))$$\n",
    "\n",
    "$$\\texttt{longest distance} = \\texttt{semi major radius} \\times (1 + \\texttt{abs}(\\texttt{eccentricity}))$$"
   ]
  },
  {
   "cell_type": "markdown",
   "id": "20766746",
   "metadata": {
    "deletable": false,
    "editable": false
   },
   "source": [
    "### Function 3: `get_distances_to_star(planet)`\n",
    "\n",
    "You **must** define this function which takes in a `Planet` object as its input, and then **returns** a **list** of two **floats**. The first float should be the **shortest distance** of the `Planet` object to its host star, and the second float should be the **longest distance** to its host star. If either the `eccentricity` or `semi_major_radius` data of the `Planet` is missing, then the function **must** return `None`."
   ]
  },
  {
   "cell_type": "code",
   "execution_count": 47,
   "id": "d8c12ed8",
   "metadata": {
    "tags": []
   },
   "outputs": [],
   "source": [
    "# define the function 'get_distances_to_star' here\n",
    "def get_distances_to_star(planet):\n",
    "    smr = planet.semi_major_radius\n",
    "    eccen = planet.eccentricity\n",
    "    if smr == None or eccen == None:\n",
    "        return None\n",
    "    else:\n",
    "        list_1 = []\n",
    "        short = smr * (1 - abs(eccen))\n",
    "        long = smr * (1 + abs(eccen))\n",
    "        list_1.append(short)\n",
    "        list_1.append(long)\n",
    "        return list_1"
   ]
  },
  {
   "cell_type": "markdown",
   "id": "089e51ff",
   "metadata": {
    "deletable": false,
    "editable": false
   },
   "source": [
    "**Question 15:** Find the **shortest** and **longest** distances for the planet *b Cen AB b* to its host star.\n",
    "\n",
    "Your output **must** be a **list** of two **floats** representing the **shortest** and **longest** distances to its host star."
   ]
  },
  {
   "cell_type": "code",
   "execution_count": 48,
   "id": "42de2cc5",
   "metadata": {
    "tags": []
   },
   "outputs": [
    {
     "data": {
      "text/plain": [
       "[333.59999999999997, 778.4]"
      ]
     },
     "execution_count": 48,
     "metadata": {},
     "output_type": "execute_result"
    }
   ],
   "source": [
    "# compute and store the answer in the variable 'distances_to_star_b_cen_ab_b', then display it\n",
    "distances_to_star_b_cen_ab_b = 0\n",
    "for planet in all_planets_list:\n",
    "    if planet.planet_name == \"b Cen AB b\":\n",
    "        distances_to_star_b_cen_ab_b = get_distances_to_star(planet)\n",
    "distances_to_star_b_cen_ab_b"
   ]
  },
  {
   "cell_type": "code",
   "execution_count": 49,
   "id": "84df9fad",
   "metadata": {
    "deletable": false,
    "editable": false
   },
   "outputs": [
    {
     "data": {
      "text/html": [
       "<p><strong><pre style='display: inline;'>q15</pre></strong> passed! 🌈</p>"
      ],
      "text/plain": [
       "q15 results: All test cases passed!"
      ]
     },
     "execution_count": 49,
     "metadata": {},
     "output_type": "execute_result"
    }
   ],
   "source": [
    "grader.check(\"q15\")"
   ]
  },
  {
   "cell_type": "markdown",
   "id": "d20ef431",
   "metadata": {
    "deletable": false,
    "editable": false
   },
   "source": [
    "#### Presence of Liquid Water :\n",
    "\n",
    "It is safe to say that planets which cannot sustain liquid are inhabitable. While we do not have any data on whether the `Planet` objects in our dataset have naturally occurring water, we are able to determine whether the planet can *support* liquid water based on its distance to its host star, and the luminosity of this star. \n",
    "\n",
    "Astronomers have [computed](https://pubmed.ncbi.nlm.nih.gov/11536936/) that for Earth-like planets, there is a certain range of distances that a planet can have to its host star, which depends on the `luminosity` of the star, within which, water on the planet's surface can stay in liquid form. These distances are as follows:\n",
    "\n",
    "$$\\texttt{liquid water shortest dist} = \\sqrt{\\frac{\\texttt{absolute luminosity}}{1.15}}$$\n",
    "\n",
    "$$\\texttt{liquid water longest dist} = \\sqrt{\\frac{\\texttt{absolute luminosity}}{0.53}}$$\n",
    "\n",
    "In our dataset, the `stellar_luminosity` is stored in units of the logarithm of the absolute luminosity. So, the distances can be computed from our dataset as follows:\n",
    "\n",
    "$$\\texttt{liquid water shortest dist} = \\sqrt{\\frac{10^{\\texttt{stellar luminosity}}}{1.15}}$$\n",
    "\n",
    "$$\\texttt{liquid water longest dist} = \\sqrt{\\frac{10^{\\texttt{stellar luminosity}}}{0.53}}$$"
   ]
  },
  {
   "cell_type": "markdown",
   "id": "8957b82c",
   "metadata": {
    "deletable": false,
    "editable": false
   },
   "source": [
    "### Function 4: `get_liquid_water_distances(planet)`\n",
    "\n",
    "You **must** define this function which takes in a `Planet` object as its input, and then **returns** a **list** of two **floats**. The first float should be the **shortest distance** the `Planet` object can be to its host star while being able to support liquid water, and the second float should be the **longest distance** it can be to its host star while being able to support liquid water. If the `stellar_luminosity` data of the host `Star` object is missing, then the function **must** return `None`."
   ]
  },
  {
   "cell_type": "code",
   "execution_count": 50,
   "id": "0f1a6ff1",
   "metadata": {
    "tags": []
   },
   "outputs": [],
   "source": [
    "# define the function 'get_liquid_water_distances' here\n",
    "def get_liquid_water_distances(planet):\n",
    "    host = planet.host_name\n",
    "    lum = stars_dict[host].stellar_luminosity\n",
    "    if host == None or lum == None:\n",
    "        return None\n",
    "    else:\n",
    "        list_1 = []\n",
    "        short = (10**lum/1.15)**0.5\n",
    "        long = (10**lum/0.53)**0.5\n",
    "        list_1.append(short)\n",
    "        list_1.append(long)\n",
    "        return list_1"
   ]
  },
  {
   "cell_type": "markdown",
   "id": "a278b784",
   "metadata": {
    "deletable": false,
    "editable": false
   },
   "source": [
    "**Question 16:** Find the **shortest** and **longest** distances for the planet *Kepler-197 e* from its host star, at which it can support liquid water.\n",
    "\n",
    "Your output **must** be a **list** of two **floats** representing the **shortest** and **longest** distances that the planet can be from its host star and still support liquid water."
   ]
  },
  {
   "cell_type": "code",
   "execution_count": 51,
   "id": "9226415f",
   "metadata": {
    "tags": []
   },
   "outputs": [
    {
     "data": {
      "text/plain": [
       "[1.204068181137186, 1.7736260760497164]"
      ]
     },
     "execution_count": 51,
     "metadata": {},
     "output_type": "execute_result"
    }
   ],
   "source": [
    "# compute and store the answer in the variable 'liquid_water_distances_kepler_197_e', then display it\n",
    "liquid_water_distances_kepler_197_e = 0\n",
    "for planet in all_planets_list:\n",
    "    if planet.planet_name == \"Kepler-197 e\":\n",
    "        liquid_water_distances_kepler_197_e = get_liquid_water_distances(planet)\n",
    "liquid_water_distances_kepler_197_e"
   ]
  },
  {
   "cell_type": "code",
   "execution_count": 52,
   "id": "9bf476c9",
   "metadata": {
    "deletable": false,
    "editable": false
   },
   "outputs": [
    {
     "data": {
      "text/html": [
       "<p><strong><pre style='display: inline;'>q16</pre></strong> passed! 🍀</p>"
      ],
      "text/plain": [
       "q16 results: All test cases passed!"
      ]
     },
     "execution_count": 52,
     "metadata": {},
     "output_type": "execute_result"
    }
   ],
   "source": [
    "grader.check(\"q16\")"
   ]
  },
  {
   "cell_type": "markdown",
   "id": "c507c8b6",
   "metadata": {
    "deletable": false,
    "editable": false
   },
   "source": [
    "**Question 17:** **List** the `planet_name` of all the `Planet` objects which can support liquid water when they are at **both** their **shortest** and **longest** distances to their host star.\n",
    "\n",
    "Your output **must** be a **list**. You **must** ignore `Planet` objects with missing `eccentricity`, or `semi_major_radius` data and planets whose host `Star` has missing `stellar_luminosity` data.\n",
    "\n",
    "**Hint:** You can find the actual shortest and longest distances of the planet with the `get_distances_to_star` function, and the shortest and longest distances at which liquid water can be supported with the `get_liquid_water_distances` function. You must consider `Planet` objects for which the actual distances to their host star lie **within** the distances at which liquid water can be supported."
   ]
  },
  {
   "cell_type": "code",
   "execution_count": 53,
   "id": "cd75c6b6",
   "metadata": {
    "tags": []
   },
   "outputs": [
    {
     "data": {
      "text/plain": [
       "['GJ 422 b',\n",
       " 'HD 10697 b',\n",
       " 'HD 111998 b',\n",
       " 'HD 114729 b',\n",
       " 'HD 145934 b',\n",
       " 'HD 17674 b',\n",
       " 'HD 188015 b',\n",
       " 'HD 564 b',\n",
       " 'Kepler-1341 b',\n",
       " 'Kepler-1410 b',\n",
       " 'Kepler-1540 b',\n",
       " 'Kepler-1544 b',\n",
       " 'Kepler-1554 b',\n",
       " 'Kepler-1593 b',\n",
       " 'Kepler-1628 b',\n",
       " 'Kepler-1647 b',\n",
       " 'Kepler-1652 b',\n",
       " 'Kepler-1653 b',\n",
       " 'Kepler-1661 b',\n",
       " 'Kepler-1690 b',\n",
       " 'Kepler-1868 b',\n",
       " 'Kepler-22 b',\n",
       " 'Kepler-442 b',\n",
       " 'Kepler-443 b',\n",
       " 'Kepler-452 b',\n",
       " 'Kepler-453 b',\n",
       " 'Kepler-705 b',\n",
       " 'HD 159868 b',\n",
       " 'HD 28185 b',\n",
       " 'HD 45364 c',\n",
       " 'Kepler-1086 c',\n",
       " 'Kepler-1143 c',\n",
       " 'Kepler-155 c',\n",
       " 'Kepler-283 c',\n",
       " 'Kepler-553 c',\n",
       " 'Kepler-712 c',\n",
       " \"Teegarden's Star b\",\n",
       " 'Kepler-174 d',\n",
       " 'Kepler-47 c',\n",
       " 'Kepler-68 d',\n",
       " 'TOI-700 d',\n",
       " 'HD 34445 f',\n",
       " 'HD 160691 b',\n",
       " 'GJ 667 C c',\n",
       " 'GJ 667 C f',\n",
       " 'TRAPPIST-1 d',\n",
       " 'TRAPPIST-1 e']"
      ]
     },
     "execution_count": 53,
     "metadata": {},
     "output_type": "execute_result"
    }
   ],
   "source": [
    "# compute and store the answer in the variable 'planets_with_liquid_water', then display it\n",
    "planets_with_liquid_water = []\n",
    "for planet in all_planets_list:\n",
    "    host = planet.host_name\n",
    "    eccen = planet.eccentricity\n",
    "    smr = planet.semi_major_radius\n",
    "    lum = stars_dict[host].stellar_luminosity\n",
    "    if host != None and eccen != None and smr != None and lum != None:\n",
    "        liq_list = get_liquid_water_distances(planet)\n",
    "        dis_list = get_distances_to_star(planet)\n",
    "        if liq_list[0] <= dis_list[0] <= liq_list[1] and liq_list[0] <= dis_list[1] <= liq_list[1]:\n",
    "            planets_with_liquid_water.append(planet.planet_name)\n",
    "            \n",
    "planets_with_liquid_water"
   ]
  },
  {
   "cell_type": "code",
   "execution_count": 54,
   "id": "814f9467",
   "metadata": {
    "deletable": false,
    "editable": false
   },
   "outputs": [
    {
     "data": {
      "text/html": [
       "<p><strong><pre style='display: inline;'>q17</pre></strong> passed! ✨</p>"
      ],
      "text/plain": [
       "q17 results: All test cases passed!"
      ]
     },
     "execution_count": 54,
     "metadata": {},
     "output_type": "execute_result"
    }
   ],
   "source": [
    "grader.check(\"q17\")"
   ]
  },
  {
   "cell_type": "markdown",
   "id": "a023eeff",
   "metadata": {
    "deletable": false,
    "editable": false
   },
   "source": [
    "#### Surface temperature:\n",
    "\n",
    "The temperature on the surface of the planet is another important criteria for deciding whether a planet is habitable. The `equilibrium_temperature` of a `Planet` is the temperature that the planet if it were a [black body](https://en.wikipedia.org/wiki/Black_body), i.e., if it were able to absorb all the radiation it receives from its host star. However, most planets are not perfect black bodies and reflect some of the radiation that they receive from their host star. Astronomers use the quantity [albedo](https://en.wikipedia.org/wiki/Albedo) to measure how much radiation is reflected by the planet. An albedo of *0* implies that the planet is a perfect black body which absorbs all its radiation, while an albedo of *1* implies that the planet is perfectly reflective, and does not retain any radiation. In the real world, most planets have an albedo value between *0* and *0.5*.\n",
    "\n",
    "Using the albedo of a planet, we can compute the temperature on the surface of a planet as follows\n",
    "\n",
    "$$ \\texttt{surface temperature} = \\left(1- \\texttt{albedo}\\right) ^{1/4} \\times \\texttt{equilibrium temperature}$$\n",
    "\n",
    "Unfortunately, we do **not** have the albedo values of the `Planet` objects in our dataset. So, we will instead make some educated guesses and find the **maximum** and **minimum** surface temperatures, assuming that the albedo is within the range of *0* to *0.5* (which is known to be the case for most planets)."
   ]
  },
  {
   "cell_type": "markdown",
   "id": "9cc932b8",
   "metadata": {
    "deletable": false,
    "editable": false
   },
   "source": [
    "### Function 5: `get_surface_temperatures(planet)`\n",
    "\n",
    "You **must** define this function which takes in a `Planet` object as its input, and then **returns** a **list** of two **floats**. The first float should be the **minimum surface temperature** of the `Planet` object (which can be computed by assuming a **albedo** value of *0.5*), and the second float should be the **maximum surface temperature** (which can be computed by assuming a **albedo** value of *0.0*). If the `equilibrium_temperature` data of the `Planet` is missing, then the function **must** return `None`."
   ]
  },
  {
   "cell_type": "code",
   "execution_count": 55,
   "id": "a9ebd0f3",
   "metadata": {
    "tags": []
   },
   "outputs": [],
   "source": [
    "# define the function 'get_surface_temperatures' here\n",
    "def get_surface_temperatures(planet):\n",
    "    eq_temp = planet.equilibrium_temperature\n",
    "    if eq_temp == None:\n",
    "        return None\n",
    "    else:\n",
    "        surf_list = []\n",
    "        surf_temp1 = (0.5**0.25)*eq_temp\n",
    "        surf_temp2 = (1**0.25)*eq_temp\n",
    "        surf_list.append(surf_temp1)\n",
    "        surf_list.append(surf_temp2)\n",
    "        return surf_list"
   ]
  },
  {
   "cell_type": "markdown",
   "id": "a8cbb68e",
   "metadata": {
    "deletable": false,
    "editable": false
   },
   "source": [
    "**Question 18:** Find the **minimum** and **maximum** surface temperatures for the planet *HD 20794 d*.\n",
    "\n",
    "Your output **must** be a **list** of two **floats** representing the **minimum** and **maximum** surface temperatures."
   ]
  },
  {
   "cell_type": "code",
   "execution_count": 56,
   "id": "4bf690a3",
   "metadata": {
    "tags": []
   },
   "outputs": [
    {
     "data": {
      "text/plain": [
       "[326.2678091184412, 388.0]"
      ]
     },
     "execution_count": 56,
     "metadata": {},
     "output_type": "execute_result"
    }
   ],
   "source": [
    "# compute and store the answer in the variable 'surface_temp_hd_20794_d', then display it\n",
    "surface_temp_hd_20794_d = []\n",
    "for planet in all_planets_list:\n",
    "    if planet.planet_name == \"HD 20794 d\":\n",
    "        surface_temp_hd_20794_d = get_surface_temperatures(planet)\n",
    "surface_temp_hd_20794_d"
   ]
  },
  {
   "cell_type": "code",
   "execution_count": 57,
   "id": "4bb3adcc",
   "metadata": {
    "deletable": false,
    "editable": false
   },
   "outputs": [
    {
     "data": {
      "text/html": [
       "<p><strong><pre style='display: inline;'>q18</pre></strong> passed! 💯</p>"
      ],
      "text/plain": [
       "q18 results: All test cases passed!"
      ]
     },
     "execution_count": 57,
     "metadata": {},
     "output_type": "execute_result"
    }
   ],
   "source": [
    "grader.check(\"q18\")"
   ]
  },
  {
   "cell_type": "markdown",
   "id": "6c4dcfcf",
   "metadata": {
    "deletable": false,
    "editable": false
   },
   "source": [
    "**Question 19:** **List** the `planet_name` of all the `Planet` objects whose **minimum surface temperature** is **greater** than *263* (Kelvin) and **maximum surface temperature** is **less** than *323* (Kelvin).\n",
    "\n",
    "Your output **must** be a **list**. You **must** ignore `Planet` objects with missing `equilibrium_temperature` data."
   ]
  },
  {
   "cell_type": "code",
   "execution_count": 58,
   "id": "c4565a90",
   "metadata": {
    "tags": []
   },
   "outputs": [
    {
     "data": {
      "text/plain": [
       "['K2-323 b',\n",
       " 'K2-9 b',\n",
       " 'Kepler-1503 b',\n",
       " 'Kepler-1512 b',\n",
       " 'Kepler-505 b',\n",
       " 'Kepler-577 b',\n",
       " 'EPIC 212737443 c',\n",
       " 'GJ 3929 c',\n",
       " 'KOI-1783.02',\n",
       " 'Kepler-1085 b',\n",
       " 'Kepler-436 b',\n",
       " 'Kepler-610 c',\n",
       " 'Kepler-281 d',\n",
       " 'Kepler-351 d',\n",
       " 'TOI-712 d',\n",
       " 'Kepler-169 f',\n",
       " 'Kepler-186 e']"
      ]
     },
     "execution_count": 58,
     "metadata": {},
     "output_type": "execute_result"
    }
   ],
   "source": [
    "# compute and store the answer in the variable 'pleasant_planets', then display it\n",
    "pleasant_planets = []\n",
    "for planet in all_planets_list:\n",
    "    eq_temp = planet.equilibrium_temperature\n",
    "    if eq_temp != None:\n",
    "        temp_list = get_surface_temperatures(planet)\n",
    "        if temp_list[0] > 263 and temp_list[1] < 323:\n",
    "            pleasant_planets.append(planet.planet_name)\n",
    "            \n",
    "pleasant_planets"
   ]
  },
  {
   "cell_type": "code",
   "execution_count": 59,
   "id": "7eb04ded",
   "metadata": {
    "deletable": false,
    "editable": false
   },
   "outputs": [
    {
     "data": {
      "text/html": [
       "<p><strong><pre style='display: inline;'>q19</pre></strong> passed! 🌈</p>"
      ],
      "text/plain": [
       "q19 results: All test cases passed!"
      ]
     },
     "execution_count": 59,
     "metadata": {},
     "output_type": "execute_result"
    }
   ],
   "source": [
    "grader.check(\"q19\")"
   ]
  },
  {
   "cell_type": "markdown",
   "id": "f9fea139",
   "metadata": {
    "deletable": false,
    "editable": false
   },
   "source": [
    "#### Putting it all together:\n",
    "\n",
    "We are finally ready to combine all our various criteria of habitability to make a list of planets which satisfy all the criteria above, and could potentially be habitable. Unsurprisingly, if we are too strict with our expectations, no planets in the dataset will meet them. So, allowing for some technological improvements in the future, we will make more modest requests of the planets in our dataset."
   ]
  },
  {
   "cell_type": "markdown",
   "id": "14fa1a59",
   "metadata": {
    "deletable": false,
    "editable": false
   },
   "source": [
    "**Question 20:** List the `planet_name` of all the `Planet` objects which satisfy the criteria below:\n",
    "\n",
    "1. The gravitational force experienced on the surface of the `Planet` must be **greater** than *0.75* and **less** than *1.25* times that of the Earth.\n",
    "2. The planet must always **lie within** the range at which it is able to support liquid water.\n",
    "3. The **minimum** surface temperature must be **greater** than *200* and the **maximum** surface temperature must be **less** than *350*.\n",
    "\n",
    "Your output **must** be a **list** of **strings**. You **must** ignore any `Planet` objects for which you cannot determine if any of these criteria are met."
   ]
  },
  {
   "cell_type": "code",
   "execution_count": 60,
   "id": "fc77a0f0",
   "metadata": {
    "tags": []
   },
   "outputs": [
    {
     "data": {
      "text/plain": [
       "['Kepler-1341 b',\n",
       " 'Kepler-1410 b',\n",
       " 'Kepler-1540 b',\n",
       " 'Kepler-1544 b',\n",
       " 'Kepler-1554 b',\n",
       " 'Kepler-1593 b',\n",
       " 'Kepler-1628 b',\n",
       " 'Kepler-1652 b',\n",
       " 'Kepler-1653 b',\n",
       " 'Kepler-1661 b',\n",
       " 'Kepler-1690 b',\n",
       " 'Kepler-452 b',\n",
       " 'Kepler-705 b',\n",
       " 'Kepler-155 c',\n",
       " 'Kepler-283 c',\n",
       " 'TOI-700 d',\n",
       " 'TRAPPIST-1 e']"
      ]
     },
     "execution_count": 60,
     "metadata": {},
     "output_type": "execute_result"
    }
   ],
   "source": [
    "# compute and store the answer in the variable 'habitable_planets', then display it\n",
    "habitable_planets = []\n",
    "for planet in all_planets_list:\n",
    "    mass = planet.planet_mass\n",
    "    radius = planet.planet_radius\n",
    "    host = planet.host_name\n",
    "    eccen = planet.eccentricity\n",
    "    smr = planet.semi_major_radius\n",
    "    lum = stars_dict[host].stellar_luminosity\n",
    "    eq_temp = planet.equilibrium_temperature\n",
    "    if mass != None and radius != None and host != None and eccen != None and smr != None and lum != None and eq_temp != None:\n",
    "        gravity = get_surface_gravity(planet)\n",
    "        liq_list = get_liquid_water_distances(planet)\n",
    "        dis_list = get_distances_to_star(planet)\n",
    "        temp_list = get_surface_temperatures(planet)\n",
    "        if 0.75 < gravity < 1.25:\n",
    "            if liq_list[0] <= dis_list[0] <= liq_list[1] and liq_list[0] <= dis_list[1] <= liq_list[1]:\n",
    "                if temp_list[0] > 200 and temp_list[1] < 350:\n",
    "                    habitable_planets.append(planet.planet_name)\n",
    "\n",
    "habitable_planets"
   ]
  },
  {
   "cell_type": "code",
   "execution_count": 61,
   "id": "f41dfc1f",
   "metadata": {
    "deletable": false,
    "editable": false
   },
   "outputs": [
    {
     "data": {
      "text/html": [
       "<p><strong><pre style='display: inline;'>q20</pre></strong> passed! 🌟</p>"
      ],
      "text/plain": [
       "q20 results: All test cases passed!"
      ]
     },
     "execution_count": 61,
     "metadata": {},
     "output_type": "execute_result"
    }
   ],
   "source": [
    "grader.check(\"q20\")"
   ]
  },
  {
   "cell_type": "markdown",
   "id": "c06ab4a6",
   "metadata": {
    "deletable": false,
    "editable": false
   },
   "source": [
    "**Food for thought:** If you are interested, you can play around these values more, and introduce more stringent requirements to try and find the single **most** habitable planet."
   ]
  },
  {
   "cell_type": "markdown",
   "id": "1f196b52",
   "metadata": {
    "deletable": false,
    "editable": false
   },
   "source": [
    "## Submission\n",
    "Make sure you have run all cells in your notebook in order before running the following cells, so that all images/graphs appear in the output.\n",
    "It is recommended that at this stage, you Restart and Run all Cells in your notebook.\n",
    "That will automatically save your work and generate a zip file for you to submit.\n",
    "\n",
    "If the last cell fails to run because of the file size, delete the images that we have provided in this notebook as examples, and run the last cell again.\n",
    "\n",
    "**SUBMISSION INSTRUCTIONS**:\n",
    "1. **Upload** the zipfile to Gradescope.\n",
    "2. Check **Gradescope otter** results as soon as the auto-grader execution gets completed. Don't worry about the score showing up as -/100.0. You only need to check that the test cases passed."
   ]
  },
  {
   "cell_type": "code",
   "execution_count": 62,
   "id": "4eb77e04",
   "metadata": {
    "cell_type": "code",
    "deletable": false,
    "editable": false
   },
   "outputs": [
    {
     "data": {
      "application/javascript": [
       "IPython.notebook.save_checkpoint();"
      ],
      "text/plain": [
       "<IPython.core.display.Javascript object>"
      ]
     },
     "metadata": {},
     "output_type": "display_data"
    }
   ],
   "source": [
    "# running this cell will create a new save checkpoint for your notebook\n",
    "from IPython.display import display, Javascript\n",
    "display(Javascript('IPython.notebook.save_checkpoint();'))"
   ]
  },
  {
   "cell_type": "code",
   "execution_count": 63,
   "id": "ff9c4186",
   "metadata": {
    "cell_type": "code",
    "deletable": false,
    "editable": false
   },
   "outputs": [
    {
     "name": "stdout",
     "output_type": "stream",
     "text": [
      "[jupytext] Reading p11.ipynb in format ipynb\n",
      "[jupytext] Writing p11.py (destination file replaced)\n"
     ]
    }
   ],
   "source": [
    "!jupytext --to py p11.ipynb"
   ]
  },
  {
   "cell_type": "code",
   "execution_count": 64,
   "id": "462d836f",
   "metadata": {
    "cell_type": "code",
    "deletable": false,
    "editable": false
   },
   "outputs": [
    {
     "name": "stdout",
     "output_type": "stream",
     "text": [
      "Running your submission against local test cases...\n",
      "\n",
      "\n",
      "Your submission received the following results when run against available test cases:\n",
      "\n",
      "    q1 results: All test cases passed!\n",
      "\n",
      "    q2 results: All test cases passed!\n",
      "\n",
      "    q3 results: All test cases passed!\n",
      "\n",
      "    q4 results: All test cases passed!\n",
      "\n",
      "    q5 results: All test cases passed!\n",
      "\n",
      "    q6 results: All test cases passed!\n",
      "\n",
      "    q7 results: All test cases passed!\n",
      "\n",
      "    q8 results: All test cases passed!\n",
      "\n",
      "    q9 results: All test cases passed!\n",
      "\n",
      "    q10 results: All test cases passed!\n",
      "\n",
      "    q11 results: All test cases passed!\n",
      "\n",
      "    q12 results: All test cases passed!\n",
      "\n",
      "    q13 results: All test cases passed!\n",
      "\n",
      "    q14 results: All test cases passed!\n",
      "\n",
      "    q15 results: All test cases passed!\n",
      "\n",
      "    q16 results: All test cases passed!\n",
      "\n",
      "    q17 results: All test cases passed!\n",
      "\n",
      "    q18 results: All test cases passed!\n",
      "\n",
      "    q19 results: All test cases passed!\n",
      "\n",
      "    q20 results: All test cases passed!\n"
     ]
    },
    {
     "data": {
      "text/html": [
       "\n",
       "                    <p>\n",
       "                        Your submission has been exported. Click\n",
       "                        <a href=\"p11_2025_09_03T20_34_36_054379.zip\" download=\"p11_2025_09_03T20_34_36_054379.zip\" target=\"_blank\">here</a> to download\n",
       "                        the zip file.\n",
       "                    </p>\n",
       "                "
      ],
      "text/plain": [
       "<IPython.core.display.HTML object>"
      ]
     },
     "metadata": {},
     "output_type": "display_data"
    }
   ],
   "source": [
    "p11_test.check_file_size(\"p11.ipynb\")\n",
    "grader.export(pdf=False, run_tests=True, files=[py_filename])"
   ]
  },
  {
   "cell_type": "markdown",
   "id": "6a8be918",
   "metadata": {
    "deletable": false,
    "editable": false
   },
   "source": [
    " "
   ]
  }
 ],
 "metadata": {
  "jupytext": {
   "cell_metadata_filter": "-all",
   "encoding": "# coding: utf-8",
   "executable": "/usr/bin/env python",
   "notebook_metadata_filter": "-all"
  },
  "kernelspec": {
   "display_name": "Python 3 (ipykernel)",
   "language": "python",
   "name": "python3"
  },
  "language_info": {
   "codemirror_mode": {
    "name": "ipython",
    "version": 3
   },
   "file_extension": ".py",
   "mimetype": "text/x-python",
   "name": "python",
   "nbconvert_exporter": "python",
   "pygments_lexer": "ipython3",
   "version": "3.12.7"
  },
  "otter": {
   "OK_FORMAT": true,
   "tests": {
    "q1": {
     "name": "q1",
     "points": 5,
     "suites": [
      {
       "cases": [
        {
         "code": ">>> p11_test.check(\"q1\", ratios_gj9827)\nTrue",
         "hidden": false,
         "locked": false
        }
       ],
       "scored": true,
       "setup": "",
       "teardown": "",
       "type": "doctest"
      }
     ]
    },
    "q10": {
     "name": "q10",
     "points": 5,
     "suites": [
      {
       "cases": [
        {
         "code": ">>> p11_test.check(\"q10\", broken_data_others)\nTrue",
         "hidden": false,
         "locked": false
        }
       ],
       "scored": true,
       "setup": "",
       "teardown": "",
       "type": "doctest"
      }
     ]
    },
    "q11": {
     "name": "q11",
     "points": 5,
     "suites": [
      {
       "cases": [
        {
         "code": ">>> p11_test.check(\"q11\", broken_data_keplers_kepler_100s)\nTrue",
         "hidden": false,
         "locked": false
        }
       ],
       "scored": true,
       "setup": "",
       "teardown": "",
       "type": "doctest"
      }
     ]
    },
    "q12": {
     "name": "q12",
     "points": 5,
     "suites": [
      {
       "cases": [
        {
         "code": ">>> p11_test.check(\"q12\", broken_data_keplers_kepler_10s_others)\nTrue",
         "hidden": false,
         "locked": false
        }
       ],
       "scored": true,
       "setup": "",
       "teardown": "",
       "type": "doctest"
      }
     ]
    },
    "q13": {
     "name": "q13",
     "points": 5,
     "suites": [
      {
       "cases": [
        {
         "code": ">>> p11_test.check(\"q13\", broken_data)\nTrue",
         "hidden": false,
         "locked": false
        }
       ],
       "scored": true,
       "setup": "",
       "teardown": "",
       "type": "doctest"
      }
     ]
    },
    "q14": {
     "name": "q14",
     "points": 5,
     "suites": [
      {
       "cases": [
        {
         "code": ">>> p11_test.check(\"q14\", gj_674_b_gravity)\nTrue",
         "hidden": false,
         "locked": false
        }
       ],
       "scored": true,
       "setup": "",
       "teardown": "",
       "type": "doctest"
      }
     ]
    },
    "q15": {
     "name": "q15",
     "points": 5,
     "suites": [
      {
       "cases": [
        {
         "code": ">>> p11_test.check(\"q15\", distances_to_star_b_cen_ab_b)\nTrue",
         "hidden": false,
         "locked": false
        }
       ],
       "scored": true,
       "setup": "",
       "teardown": "",
       "type": "doctest"
      }
     ]
    },
    "q16": {
     "name": "q16",
     "points": 5,
     "suites": [
      {
       "cases": [
        {
         "code": ">>> p11_test.check(\"q16\", liquid_water_distances_kepler_197_e)\nTrue",
         "hidden": false,
         "locked": false
        }
       ],
       "scored": true,
       "setup": "",
       "teardown": "",
       "type": "doctest"
      }
     ]
    },
    "q17": {
     "name": "q17",
     "points": 5,
     "suites": [
      {
       "cases": [
        {
         "code": ">>> p11_test.check(\"q17\", planets_with_liquid_water)\nTrue",
         "hidden": false,
         "locked": false
        }
       ],
       "scored": true,
       "setup": "",
       "teardown": "",
       "type": "doctest"
      }
     ]
    },
    "q18": {
     "name": "q18",
     "points": 5,
     "suites": [
      {
       "cases": [
        {
         "code": ">>> p11_test.check(\"q18\", surface_temp_hd_20794_d)\nTrue",
         "hidden": false,
         "locked": false
        }
       ],
       "scored": true,
       "setup": "",
       "teardown": "",
       "type": "doctest"
      }
     ]
    },
    "q19": {
     "name": "q19",
     "points": 5,
     "suites": [
      {
       "cases": [
        {
         "code": ">>> p11_test.check(\"q19\", pleasant_planets)\nTrue",
         "hidden": false,
         "locked": false
        }
       ],
       "scored": true,
       "setup": "",
       "teardown": "",
       "type": "doctest"
      }
     ]
    },
    "q2": {
     "name": "q2",
     "points": 5,
     "suites": [
      {
       "cases": [
        {
         "code": ">>> p11_test.check(\"q2\", coeff_gj9827)\nTrue",
         "hidden": false,
         "locked": false
        }
       ],
       "scored": true,
       "setup": "",
       "teardown": "",
       "type": "doctest"
      }
     ]
    },
    "q20": {
     "name": "q20",
     "points": 5,
     "suites": [
      {
       "cases": [
        {
         "code": ">>> p11_test.check(\"q20\", habitable_planets)\nTrue",
         "hidden": false,
         "locked": false
        }
       ],
       "scored": true,
       "setup": "",
       "teardown": "",
       "type": "doctest"
      }
     ]
    },
    "q3": {
     "name": "q3",
     "points": 5,
     "suites": [
      {
       "cases": [
        {
         "code": ">>> p11_test.check(\"q3\", percentage_change)\nTrue",
         "hidden": false,
         "locked": false
        }
       ],
       "scored": true,
       "setup": "",
       "teardown": "",
       "type": "doctest"
      }
     ]
    },
    "q4": {
     "name": "q4",
     "points": 5,
     "suites": [
      {
       "cases": [
        {
         "code": ">>> p11_test.check(\"q4\", {'flux_list': flux_list, 'temp_4th_power_list': temp_4th_power_list})\nTrue",
         "hidden": false,
         "locked": false
        }
       ],
       "scored": true,
       "setup": "",
       "teardown": "",
       "type": "doctest"
      }
     ]
    },
    "q5": {
     "name": "q5",
     "points": 5,
     "suites": [
      {
       "cases": [
        {
         "code": ">>> p11_test.check(\"q5\", {'flux_list_no_outliers': flux_list_no_outliers, 'temp_4th_power_list_no_outliers': temp_4th_power_list_no_outliers})\nTrue",
         "hidden": false,
         "locked": false
        }
       ],
       "scored": true,
       "setup": "",
       "teardown": "",
       "type": "doctest"
      }
     ]
    },
    "q6": {
     "name": "q6",
     "points": 5,
     "suites": [
      {
       "cases": [
        {
         "code": ">>> p11_test.check(\"q6\", star_classes_avg_lum)\nTrue",
         "hidden": false,
         "locked": false
        }
       ],
       "scored": true,
       "setup": "",
       "teardown": "",
       "type": "doctest"
      }
     ]
    },
    "q7": {
     "name": "q7",
     "points": 5,
     "suites": [
      {
       "cases": [
        {
         "code": ">>> p11_test.check(\"q7\", {'density_dict': density_dict, 'lum_dict': lum_dict})\nTrue",
         "hidden": false,
         "locked": false
        }
       ],
       "scored": true,
       "setup": "",
       "teardown": "",
       "type": "doctest"
      }
     ]
    },
    "q8": {
     "name": "q8",
     "points": 5,
     "suites": [
      {
       "cases": [
        {
         "code": ">>> p11_test.check(\"q8\", {'density_dict_no_outliers': density_dict_no_outliers, 'lum_dict_no_outliers': lum_dict_no_outliers})\nTrue",
         "hidden": false,
         "locked": false
        }
       ],
       "scored": true,
       "setup": "",
       "teardown": "",
       "type": "doctest"
      }
     ]
    },
    "q9": {
     "name": "q9",
     "points": 5,
     "suites": [
      {
       "cases": [
        {
         "code": ">>> p11_test.check(\"q9\", {'temp_list': temp_list, 'lum_list': lum_list, 'age_list': age_list, 'mass_list': mass_list})\nTrue",
         "hidden": false,
         "locked": false
        }
       ],
       "scored": true,
       "setup": "",
       "teardown": "",
       "type": "doctest"
      }
     ]
    }
   }
  }
 },
 "nbformat": 4,
 "nbformat_minor": 5
}
