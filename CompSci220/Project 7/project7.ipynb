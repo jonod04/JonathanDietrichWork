{
 "cells": [
  {
   "cell_type": "code",
   "execution_count": 1,
   "id": "8a8e80d7",
   "metadata": {
    "deletable": false,
    "editable": false
   },
   "outputs": [],
   "source": [
    "# Initialize Otter\n",
    "import otter\n",
    "grader = otter.Notebook(\"p7.ipynb\")"
   ]
  },
  {
   "cell_type": "code",
   "execution_count": 2,
   "id": "ec9598fe",
   "metadata": {},
   "outputs": [],
   "source": [
    "import p7_test"
   ]
  },
  {
   "cell_type": "markdown",
   "id": "4e247a2c",
   "metadata": {},
   "source": [
    "# Project 7: Drinking Water Accessibility"
   ]
  },
  {
   "cell_type": "markdown",
   "id": "b5a9dab5",
   "metadata": {},
   "source": [
    "## Learning Objectives:\n",
    "\n",
    "In this project you will demonstrate how to:\n",
    "\n",
    "- Write programs to interpret data present in csv files,\n",
    "- Use lists and dictionaries effectively to manage data,\n",
    "- **Develop good coding styling habits (points may be deducted for bad coding styles)**"
   ]
  },
  {
   "cell_type": "markdown",
   "id": "3d10aa40",
   "metadata": {},
   "source": [
    "## Testing your code:\n",
    "\n",
    "Along with this notebook, you must have downloaded the file `p7_test.py`. If you are curious about how we test your code, you can explore this file, and specifically the value of the variable `expected_json`, to understand the expected answers to the questions. You can have a look at [p2](https://git.doit.wisc.edu/cdis/cs/courses/cs220/cs220-f22-projects/-/tree/main/p2/p2.ipynb) if you have forgotten how to read the outputs of the `grader.check` function calls."
   ]
  },
  {
   "cell_type": "markdown",
   "id": "1f02855e",
   "metadata": {},
   "source": [
    "**Please go through [lab-p7](https://git.doit.wisc.edu/cdis/cs/courses/cs220/cs220-f22-projects/-/tree/main/lab-p7) before starting this project.** The lab introduces some useful techniques necessary for this project."
   ]
  },
  {
   "cell_type": "markdown",
   "id": "59162236",
   "metadata": {},
   "source": [
    "## Project Description:\n",
    "\n",
    "Universal access to safe drinking water is a fundamental need and human right. Securing access for all would go a long way in reducing illness and death, especially among children. \"Safely managed\" drinking water services represent an ambitious new rung on the ladder used to track progress on drinking water. Since 2000, 2 billion people have gained access to safely managed services (i.e., accessible on-premises, available when needed, and free from contamination). In 2020, 5.8 billion people used safely managed services and a further 2 billion people used basic services. However, 771 million people still lacked even a basic level of service, including 282 million who used a “limited” water service (source from which water collection time exceeds 30 minutes), 367 million who used unimproved sources and 122 million who still collected drinking water directly from rivers, lakes, and other surface water sources. The data reveal pronounced disparities, with the poorest and those living in rural areas least likely to use a basic service. In most countries, the burden of water collection continues to fall mainly to women and girls.\n",
    "\n",
    "[The Unicef website](https://data.unicef.org/) states that \"consistent, credible data about children’s situations are critical to the improvement of their lives – and indispensable to realizing the rights of every child.\" Data Scientists will play an important role in reaching this goal.\n",
    "\n",
    "For this project, you'll be analyzing data drawn from multiple sources. Our data is primarily drawn from the report titled [\"Progress on Household Drinking Water, Sanitation and Hygiene\"](https://washdata.org/sites/default/files/2021-07/jmp-2021-wash-households.pdf) data published by the Unicef/WHO Joint Monitoring Programme for Water Supply, Sanitation and Hygiene (2021). The original dataset can be found [here](https://data.unicef.org/topic/water-and-sanitation/drinking-water/) if you are interested in exploring the dataset yourself. Our dataset is further augmented by data from The World Bank on the [income levels of each country](https://datatopics.worldbank.org/world-development-indicators/the-world-by-income-and-region.html)."
   ]
  },
  {
   "cell_type": "markdown",
   "id": "ef7100c7",
   "metadata": {},
   "source": [
    "## Dataset:\n",
    "\n",
    "The JMP report defines *people who have access to an [improved source of water](https://www.cdc.gov/healthywater/global/assessing.html#ImprovedDrinking) within 30 minutes round trip collection time* as having [at least basic access](https://www.cdc.gov/healthywater/global/assessing.html#DrinkingWaterSources) to water. For this project, we will focus on the **percentage of population** of each country who had **at least basic** water supply in the years **2015** and **2020**. Open `water_accessibility.csv` with Microsoft Excel or some other Spreadsheet viewer and look at the list of countries in the dataset. Data for each country appears twice, one row for the year *2015* and the other row for year *2020*. Countries which had incomplete data have been **omitted** from the dataset, and we will **ignore** those countries in this project. You do **not** have to deal with any **missing data** in the dataset.\n",
    "\n",
    "The data shows:\n",
    "- `country_code` : the unique country code that consists of three alphabet letters\n",
    "- `country_name` : the name of the country\n",
    "- `region` : the geographical location of the country (does not equal to its corresponding continents, but follows the administrative groupings from [The World Bank](https://datahelpdesk.worldbank.org/knowledgebase/articles/906519-world-bank-country-and-lending-groups))\n",
    "- `year` : the year in which it was subject to data collection\n",
    "- `income_level` : the classification of income level based on GNI per capita in US dollars ([The World Bank Atlas Method](https://datahelpdesk.worldbank.org/knowledgebase/articles/378834-how-does-the-world-bank-classify-countries))\n",
    "- `pop` : population of the country in a specific year (in thousands)\n",
    "- `urban_percent` : the percentage of population in a given country that is urban\n",
    "- `national_alb` : the percentage of a country's population that has access to at least basic water supply\n",
    "- `urban_alb` : the percentage of a country's urban population that has access to at least basic water supply"
   ]
  },
  {
   "cell_type": "markdown",
   "id": "518b6e01",
   "metadata": {},
   "source": [
    "## Project Requirements:\n",
    "\n",
    "You **may not** hardcode indices in your code, unless the question explicitly . If you open your `.csv` file with Excel, manually count through the rows and use this number to loop through the dataset, this is also considered as hardcoding. We'll **manually deduct** points from your autograder score on Gradescope during code review.\n",
    "\n",
    "**Store** your final answer for each question in the **variable specified for each question**. This step is important because Otter grades your work by comparing the value of this variable against the correct answer.\n",
    "\n",
    "For some of the questions, we'll ask you to write (then use) a function to compute the answer. If you compute the answer **without** creating the function we ask you to write, we'll **manually deduct** points from your autograder score on Gradescope, even if the way you did it produced the correct answer. \n",
    "\n",
    "Required Functions:\n",
    "- cell\n",
    "- get_col_dict\n",
    "\n",
    "In this project, you will also be required to define certain **data structures**. If you do not create these data structures exactly as specified, we'll **manually deduct** points from your autograder score on Gradescope, even if the way you did it produced the correct answer.\n",
    "\n",
    "Required Data Structures:\n",
    "- dict_2015\n",
    "- dict_2020\n",
    "- rural_non_alb_bin_2015_dict\n",
    "- rural_non_alb_bin_2020_dict\n",
    "    \n",
    "Students are only allowed to use Python commands and concepts that have been taught in the course prior to the release of p7. Therefore, **you should not use the pandas module**.  We will **manually deduct** points from your autograder score on Gradescope otherwise.\n",
    "\n",
    "For more details on what will cause you to lose points during code review and specific requirements, please take a look at the [Grading rubric](https://git.doit.wisc.edu/cdis/cs/courses/cs220/cs220-f22-projects/-/blob/main/p7/rubric.md)."
   ]
  },
  {
   "cell_type": "markdown",
   "id": "a900d754",
   "metadata": {},
   "source": [
    "## Incremental Coding and Testing:\n",
    "\n",
    "You should always strive to do incremental coding. **Incremental coding enables you to avoid challenging bugs.** Always write a few lines of code and then test those lines of code, before proceeding to write further code. You can call the `print` function to test intermediate step outputs.\n",
    "\n",
    "We also recommend you do incremental testing: make sure to run the local tests as soon as you are done with a question. This will ensure that you haven't made a big mistake that might potentially impact the rest of your project solution. Please refrain from making multiple submissions on Gradescope for testing individual questions' answers. Instead use the local tests, to test your solution on your laptop.\n",
    "\n",
    "That said, it is **important** that you check the Gradescope test results as soon as you submit your project on Gradescope. Test results on Gradescope are typically available somewhere between 2 to 10 minutes after the submission.\n",
    "\n",
    "Also, remember to check with the [p7 rubric](https://git.doit.wisc.edu/cdis/cs/courses/cs220/cs220-f22-projects/-/blob/main/p7/rubric.md) to verify that you will not be losing any points during manual review."
   ]
  },
  {
   "cell_type": "markdown",
   "id": "e83e952a",
   "metadata": {},
   "source": [
    "## Project Questions and Functions:"
   ]
  },
  {
   "cell_type": "code",
   "execution_count": 3,
   "id": "2398e7fe",
   "metadata": {
    "tags": []
   },
   "outputs": [],
   "source": [
    "# it is considered a good coding practice to place all import statements at the top of the notebook\n",
    "# please place all your import statements in this cell if you need to import any more modules for this project\n",
    "import csv"
   ]
  },
  {
   "cell_type": "markdown",
   "id": "5f11c98c",
   "metadata": {},
   "source": [
    "First, read the data stored in `water_accessibility.csv` and store it in a suitable variable. You can follow the same procedure you used in p6."
   ]
  },
  {
   "cell_type": "code",
   "execution_count": 4,
   "id": "93b28af9",
   "metadata": {
    "tags": []
   },
   "outputs": [],
   "source": [
    "# read the data stored in water_accessibility.csv\n",
    "def process_csv(filename):\n",
    "    example_file = open(filename, encoding=\"utf-8\")\n",
    "    example_reader = csv.reader(example_file)\n",
    "    example_data = list(example_reader)\n",
    "    example_file.close()\n",
    "    return example_data\n",
    "\n",
    "csv_data = process_csv(\"water_accessibility.csv\")\n",
    "\n",
    "csv_header = csv_data[0]\n",
    "csv_header\n",
    "\n",
    "csv_rows = csv_data[1:]\n",
    "csv_rows\n",
    "\n",
    "num_rows = len(csv_rows)"
   ]
  },
  {
   "cell_type": "markdown",
   "id": "44be4e8f",
   "metadata": {},
   "source": [
    "### Function 1: `cell(row_idx, col_name)` \n",
    "\n",
    "This function must take in a row index, `row_idx` and a column name, `col_name` as its inputs, and return the value in `water_accessibility.csv` stored there. There is **no missing data** in this dataset.\n",
    "\n",
    "You **must** define the variables `csv_header` and `csv_rows` as in lab-p7, and you **must** copy/paste your `cell` function from lab-p7.\n",
    "\n",
    "**Important:** You **must** only use the `cell` function to extract data from the dataset. If you extract any data without explicitly using this function, you will **lose points** during manual review."
   ]
  },
  {
   "cell_type": "code",
   "execution_count": 5,
   "id": "d9375c56",
   "metadata": {
    "tags": []
   },
   "outputs": [],
   "source": [
    "# define the cell function here\n",
    "def cell(row_idx, col_name):\n",
    "    col_idx = csv_header.index(col_name)\n",
    "    val = csv_rows[row_idx][col_idx]\n",
    "    if val == \"\":\n",
    "        return None\n",
    "    elif col_name == 'year' or col_name == 'urban_percent' or col_name == 'national_alb' or col_name == 'urban_alb':\n",
    "        val = int(val)\n",
    "    elif col_name == 'reviews_per_month' or col_name == 'latitude' or col_name == 'longitude':\n",
    "        val = float(val)\n",
    "    elif col_name == 'pop':\n",
    "        val = int(val) * 1000\n",
    "    return val"
   ]
  },
  {
   "cell_type": "markdown",
   "id": "31941314",
   "metadata": {},
   "source": [
    "You are all set! You are now ready to start solving the questions."
   ]
  },
  {
   "cell_type": "markdown",
   "id": "48025962",
   "metadata": {},
   "source": [
    "**Question 1:** Which country had the highest population (`pop`) in *2020*?"
   ]
  },
  {
   "cell_type": "code",
   "execution_count": 6,
   "id": "a0f6aff9",
   "metadata": {
    "tags": []
   },
   "outputs": [
    {
     "data": {
      "text/plain": [
       "'China'"
      ]
     },
     "execution_count": 6,
     "metadata": {},
     "output_type": "execute_result"
    }
   ],
   "source": [
    "# compute and store the answer in the variable 'highest_pop_country', then display it\n",
    "high_num = 0\n",
    "for idx in range(1, num_rows, 2):\n",
    "    population = cell(idx, \"pop\")\n",
    "    if population > high_num:\n",
    "        high_num = population\n",
    "        highest_pop_country = cell(idx, \"country_name\")\n",
    "highest_pop_country"
   ]
  },
  {
   "cell_type": "code",
   "execution_count": 7,
   "id": "2e815811",
   "metadata": {
    "deletable": false,
    "editable": false
   },
   "outputs": [
    {
     "data": {
      "text/html": [
       "<p><strong><pre style='display: inline;'>q1</pre></strong> passed! 🌟</p>"
      ],
      "text/plain": [
       "q1 results: All test cases passed!"
      ]
     },
     "execution_count": 7,
     "metadata": {},
     "output_type": "execute_result"
    }
   ],
   "source": [
    "grader.check(\"q1\")"
   ]
  },
  {
   "cell_type": "markdown",
   "id": "014b296b",
   "metadata": {},
   "source": [
    "**Question 2:** Which country had the highest population (`pop`) **increase** between *2015* and *2020*?\n",
    "\n",
    "There is a **unique** country in this dataset whose population increased the most. You **do not** have to worry about ties.\n",
    "\n",
    "**Hint:** Recall how to loop through the dataset and extract data from each year from [lab-p7](https://git.doit.wisc.edu/cdis/cs/courses/cs220/cs220-f22-projects/-/tree/main/lab-p7)."
   ]
  },
  {
   "cell_type": "code",
   "execution_count": 8,
   "id": "50bae682",
   "metadata": {
    "tags": []
   },
   "outputs": [
    {
     "data": {
      "text/plain": [
       "'India'"
      ]
     },
     "execution_count": 8,
     "metadata": {},
     "output_type": "execute_result"
    }
   ],
   "source": [
    "# compute and store the answer in the variable 'highest_pop_inc_country', then display it\n",
    "inc_great = 0\n",
    "for idx in range(0, num_rows, 2):\n",
    "    pop_2015 = cell(idx, \"pop\")\n",
    "    pop_2020 = cell(idx + 1, \"pop\")\n",
    "    inc_pop = pop_2020 - pop_2015\n",
    "    if inc_pop > inc_great:\n",
    "        inc_great = inc_pop\n",
    "        highest_pop_inc_country = cell(idx, \"country_name\")\n",
    "highest_pop_inc_country"
   ]
  },
  {
   "cell_type": "code",
   "execution_count": 9,
   "id": "cab54382",
   "metadata": {
    "deletable": false,
    "editable": false
   },
   "outputs": [
    {
     "data": {
      "text/html": [
       "<p><strong><pre style='display: inline;'>q2</pre></strong> passed! 🌈</p>"
      ],
      "text/plain": [
       "q2 results: All test cases passed!"
      ]
     },
     "execution_count": 9,
     "metadata": {},
     "output_type": "execute_result"
    }
   ],
   "source": [
    "grader.check(\"q2\")"
   ]
  },
  {
   "cell_type": "markdown",
   "id": "d20308e4",
   "metadata": {},
   "source": [
    "**Question 3:** Which country had the highest **increase** in at least basic (`national_alb`) water supply between the years of *2015* and *2020*? \n",
    "\n",
    "There is a **unique** country in this dataset whose `national_alb` value increased the most. You **do not** have to worry about ties.\n",
    "\n",
    "**Hint:** Take a look at q7 in lab-p7 to see how to compute the change in `national_alb` between *2015* and *2020* for each country."
   ]
  },
  {
   "cell_type": "code",
   "execution_count": 10,
   "id": "c74753f3",
   "metadata": {
    "tags": []
   },
   "outputs": [
    {
     "data": {
      "text/plain": [
       "'Afghanistan'"
      ]
     },
     "execution_count": 10,
     "metadata": {},
     "output_type": "execute_result"
    }
   ],
   "source": [
    "# compute and store the answer in the variable 'highest_nat_alb_inc_country', then display it\n",
    "alb_great = 0\n",
    "for idx in range(0, num_rows, 2):\n",
    "    alb_2015 = cell(idx, \"national_alb\")\n",
    "    alb_2020 = cell(idx + 1, \"national_alb\")\n",
    "    inc_alb = alb_2020 - alb_2015\n",
    "    if inc_alb > alb_great:\n",
    "        alb_great = inc_alb\n",
    "        highest_nat_alb_inc_country = cell(idx, \"country_name\")\n",
    "highest_nat_alb_inc_country"
   ]
  },
  {
   "cell_type": "code",
   "execution_count": 11,
   "id": "8e821bca",
   "metadata": {
    "deletable": false,
    "editable": false
   },
   "outputs": [
    {
     "data": {
      "text/html": [
       "<p><strong><pre style='display: inline;'>q3</pre></strong> passed! 💯</p>"
      ],
      "text/plain": [
       "q3 results: All test cases passed!"
      ]
     },
     "execution_count": 11,
     "metadata": {},
     "output_type": "execute_result"
    }
   ],
   "source": [
    "grader.check(\"q3\")"
   ]
  },
  {
   "cell_type": "markdown",
   "id": "c261877a",
   "metadata": {},
   "source": [
    "**Question 4:** What was the `income_level` in *2020* of the country with the highest increase in at least basic (`national_alb`) water supply between *2015* and *2020*?"
   ]
  },
  {
   "cell_type": "code",
   "execution_count": 12,
   "id": "bfd79c67",
   "metadata": {
    "tags": []
   },
   "outputs": [
    {
     "data": {
      "text/plain": [
       "'Low income'"
      ]
     },
     "execution_count": 12,
     "metadata": {},
     "output_type": "execute_result"
    }
   ],
   "source": [
    "# compute and store the answer in the variable 'highest_alb_inc_income_level', then display it\n",
    "alb_great = 0\n",
    "for idx in range(0, num_rows, 2):\n",
    "    alb_2015 = cell(idx, \"national_alb\")\n",
    "    alb_2020 = cell(idx + 1, \"national_alb\")\n",
    "    inc_alb = alb_2020 - alb_2015\n",
    "    if inc_alb > alb_great:\n",
    "        alb_great = inc_alb\n",
    "        highest_alb_inc_income_level = cell(idx, \"income_level\")\n",
    "highest_alb_inc_income_level"
   ]
  },
  {
   "cell_type": "code",
   "execution_count": 13,
   "id": "801e8266",
   "metadata": {
    "deletable": false,
    "editable": false
   },
   "outputs": [
    {
     "data": {
      "text/html": [
       "<p><strong><pre style='display: inline;'>q4</pre></strong> passed! 🌟</p>"
      ],
      "text/plain": [
       "q4 results: All test cases passed!"
      ]
     },
     "execution_count": 13,
     "metadata": {},
     "output_type": "execute_result"
    }
   ],
   "source": [
    "grader.check(\"q4\")"
   ]
  },
  {
   "cell_type": "markdown",
   "id": "2372cfca",
   "metadata": {},
   "source": [
    "**Question 5:** What is the **total** population (`pop`) of **all** the countries (in the dataset) in the `year` *2020*?\n",
    "\n",
    "The `pop` column stores the population in thousands. So, you will have to multiply the population of each country by *1000* to get (an approximation of) the actual number.\n",
    "\n",
    "**Hint:** You may modify your `cell` function, so that it automatically multiplies the values in the `pop` column by *1000* before returning."
   ]
  },
  {
   "cell_type": "code",
   "execution_count": 14,
   "id": "2d2cb2ae",
   "metadata": {
    "tags": []
   },
   "outputs": [
    {
     "data": {
      "text/plain": [
       "6861226000"
      ]
     },
     "execution_count": 14,
     "metadata": {},
     "output_type": "execute_result"
    }
   ],
   "source": [
    "# compute and store the answer in the variable 'total_pop_2020', then display it\n",
    "total_pop_2020 = 0\n",
    "for idx in range(1, num_rows, 2):\n",
    "    total_pop_2020 += cell(idx, \"pop\")\n",
    "total_pop_2020"
   ]
  },
  {
   "cell_type": "code",
   "execution_count": 15,
   "id": "b11c00dd",
   "metadata": {
    "deletable": false,
    "editable": false
   },
   "outputs": [
    {
     "data": {
      "text/html": [
       "<p><strong><pre style='display: inline;'>q5</pre></strong> passed! 💯</p>"
      ],
      "text/plain": [
       "q5 results: All test cases passed!"
      ]
     },
     "execution_count": 15,
     "metadata": {},
     "output_type": "execute_result"
    }
   ],
   "source": [
    "grader.check(\"q5\")"
   ]
  },
  {
   "cell_type": "markdown",
   "id": "9c7ba440",
   "metadata": {},
   "source": [
    "**Question 6:** What was the global **percentage** of urban population (`urban_percent`) across **all** countries (in the dataset) in the `year` *2020*?\n",
    "\n",
    "You need to find the **total** urban population by *multiplying* the `pop` and `urban_percent` columns of each country and *adding* it up. Then you need to *divide* by the **total** population to get the percentage of urban population across all the countries.\n",
    "\n",
    "Your output **must** be an **int**. You **must** use the `round` function to round your answer to the nearest integer."
   ]
  },
  {
   "cell_type": "code",
   "execution_count": 16,
   "id": "b10e0b02",
   "metadata": {
    "tags": []
   },
   "outputs": [
    {
     "data": {
      "text/plain": [
       "55"
      ]
     },
     "execution_count": 16,
     "metadata": {},
     "output_type": "execute_result"
    }
   ],
   "source": [
    "# compute and store the answer in the variable 'urban_pop_percent_2020', then display it\n",
    "urban_pop = 0\n",
    "total_pop = 0\n",
    "for idx in range(1, num_rows, 2):\n",
    "    pop = cell(idx, \"pop\")\n",
    "    urb_per = (cell(idx, \"urban_percent\"))/100\n",
    "    urb = pop * urb_per\n",
    "    urban_pop += urb\n",
    "    total_pop += pop\n",
    "urban_pop_percent_2020 = round((urban_pop/total_pop)*100)\n",
    "urban_pop_percent_2020"
   ]
  },
  {
   "cell_type": "code",
   "execution_count": 17,
   "id": "a39adce3",
   "metadata": {
    "deletable": false,
    "editable": false
   },
   "outputs": [
    {
     "data": {
      "text/html": [
       "<p><strong><pre style='display: inline;'>q6</pre></strong> passed! 🌈</p>"
      ],
      "text/plain": [
       "q6 results: All test cases passed!"
      ]
     },
     "execution_count": 17,
     "metadata": {},
     "output_type": "execute_result"
    }
   ],
   "source": [
    "grader.check(\"q6\")"
   ]
  },
  {
   "cell_type": "markdown",
   "id": "f26afbc0",
   "metadata": {},
   "source": [
    "**Question 7:** What was the **total** population (`pop`) of countries that were in the *High income* group (`income_level`) in the `year` *2015*?\n",
    "\n",
    "Your output **must** be an **int**."
   ]
  },
  {
   "cell_type": "code",
   "execution_count": 18,
   "id": "2b77975b",
   "metadata": {
    "tags": []
   },
   "outputs": [
    {
     "data": {
      "text/plain": [
       "848304000"
      ]
     },
     "execution_count": 18,
     "metadata": {},
     "output_type": "execute_result"
    }
   ],
   "source": [
    "# compute and store the answer in the variable 'high_income_pop', then display it\n",
    "high_income_pop = 0\n",
    "for idx in range(0, num_rows, 2):\n",
    "    if cell(idx, \"income_level\") == \"High income\":\n",
    "        high_income_pop += cell(idx, \"pop\")\n",
    "high_income_pop"
   ]
  },
  {
   "cell_type": "code",
   "execution_count": 19,
   "id": "83319447",
   "metadata": {
    "deletable": false,
    "editable": false
   },
   "outputs": [
    {
     "data": {
      "text/html": [
       "<p><strong><pre style='display: inline;'>q7</pre></strong> passed! 🎉</p>"
      ],
      "text/plain": [
       "q7 results: All test cases passed!"
      ]
     },
     "execution_count": 19,
     "metadata": {},
     "output_type": "execute_result"
    }
   ],
   "source": [
    "grader.check(\"q7\")"
   ]
  },
  {
   "cell_type": "markdown",
   "id": "e35aba24",
   "metadata": {},
   "source": [
    "**Question 8:** Which *income group* (`income_level`) had the **least** population (`pop`) in the `year` *2015*?\n",
    "\n",
    "You must find the **total** population (`pop`) for each `income_level`, and find the `income_level` which has the **least** total population.\n",
    "\n",
    "**Hint:** There are several ways to solve this problem efficiently (including using `dicts`). You can try to solve this problem using dicts if you want to. However, another approach that you might already be familiar with from p6 is to first create a *list* of all the **unique** income levels, and then loop through the entire dataset for **each** income level to find the total population of that income level, before comparing these numbers to find the income level with the least population."
   ]
  },
  {
   "cell_type": "code",
   "execution_count": 20,
   "id": "e06ca080",
   "metadata": {
    "tags": []
   },
   "outputs": [
    {
     "data": {
      "text/plain": [
       "'Low income'"
      ]
     },
     "execution_count": 20,
     "metadata": {},
     "output_type": "execute_result"
    }
   ],
   "source": [
    "# compute and store the answer in the variable 'least_pop_income_group', then display it\n",
    "high_inc = []\n",
    "low_inc = []\n",
    "up_mid_inc = []\n",
    "low_mid_inc = []\n",
    "for idx in range(0, num_rows, 2):\n",
    "    income_level = cell(idx, \"income_level\")\n",
    "    pop = cell(idx, \"pop\")\n",
    "    if income_level == \"Low income\":\n",
    "        low_inc.append(pop)\n",
    "    if income_level == \"High income\":\n",
    "        high_inc.append(pop)\n",
    "    if income_level == \"Upper middle income\":\n",
    "        up_mid_inc.append(pop)\n",
    "    if income_level == \"Lower middle income\":\n",
    "        low_mid_inc.append(pop)\n",
    "totals = [sum(high_inc), sum(low_inc), sum(up_mid_inc), sum(low_mid_inc)]\n",
    "min_inc_num = min(totals)\n",
    "if min_inc_num == sum(high_inc):\n",
    "    least_pop_income_group = \"High income\"\n",
    "elif min_inc_num == sum(low_inc):\n",
    "    least_pop_income_group = \"Low income\"\n",
    "elif min_inc_num == sum(up_mid_inc):\n",
    "    least_pop_income_group = \"Upper middle income\"\n",
    "elif min_inc_num == sum(low_mid_inc):\n",
    "    least_pop_income_group = \"Lower middle income\"\n",
    "\n",
    "least_pop_income_group"
   ]
  },
  {
   "cell_type": "code",
   "execution_count": 21,
   "id": "07f8b1f2",
   "metadata": {
    "deletable": false,
    "editable": false
   },
   "outputs": [
    {
     "data": {
      "text/html": [
       "<p><strong><pre style='display: inline;'>q8</pre></strong> passed! 🌟</p>"
      ],
      "text/plain": [
       "q8 results: All test cases passed!"
      ]
     },
     "execution_count": 21,
     "metadata": {},
     "output_type": "execute_result"
    }
   ],
   "source": [
    "grader.check(\"q8\")"
   ]
  },
  {
   "cell_type": "markdown",
   "id": "9bd9c162",
   "metadata": {},
   "source": [
    "**Question 9:** Create a **list** of the names (`country_name`) of all countries in the *North America* `region` that **tied** for the **maximum** `national_alb` in *2015*.\n",
    "\n",
    "You need to first find the **maximum** value of `national_alb` among all countries in the `region` *North America*, and then make a `list` of **all** the countries in this region having this `national_alb` value. **Multiple** countries from *North America* have the same maximum `national_alb` value, so your output **must** be a `list` of **all** those countries."
   ]
  },
  {
   "cell_type": "code",
   "execution_count": 22,
   "id": "b0ea7e4e",
   "metadata": {
    "tags": []
   },
   "outputs": [
    {
     "data": {
      "text/plain": [
       "['Bermuda', 'Canada', 'United States of America']"
      ]
     },
     "execution_count": 22,
     "metadata": {},
     "output_type": "execute_result"
    }
   ],
   "source": [
    "# compute and store the answer in the variable 'na_max_alb_countries', then display it\n",
    "max_nat_alb = 0\n",
    "na_max_alb_countries = []\n",
    "for idx in range(0, num_rows, 2):\n",
    "    if cell(idx, \"region\") == \"North America\":\n",
    "        if cell(idx, \"national_alb\") > max_nat_alb:\n",
    "            max_nat_alb = cell(idx, \"national_alb\")\n",
    "for idx in range(0, num_rows, 2):\n",
    "    if cell(idx, \"region\") == \"North America\":\n",
    "        if cell(idx, \"national_alb\") >= (max_nat_alb):\n",
    "            na_max_alb_countries.append(cell(idx, \"country_name\"))\n",
    "            \n",
    "na_max_alb_countries"
   ]
  },
  {
   "cell_type": "code",
   "execution_count": 23,
   "id": "8102455a",
   "metadata": {
    "deletable": false,
    "editable": false
   },
   "outputs": [
    {
     "data": {
      "text/html": [
       "<p><strong><pre style='display: inline;'>q9</pre></strong> passed! 🌟</p>"
      ],
      "text/plain": [
       "q9 results: All test cases passed!"
      ]
     },
     "execution_count": 23,
     "metadata": {},
     "output_type": "execute_result"
    }
   ],
   "source": [
    "grader.check(\"q9\")"
   ]
  },
  {
   "cell_type": "markdown",
   "id": "397c51c5",
   "metadata": {},
   "source": [
    "### Function 2: `get_col_dict(col_name, year)` \n",
    "\n",
    "This function should take in a column `col_name` and a `year` (*2015* or *2020*) as its inputs, and return a `dict` where each key is a `country_code` and the corresponding value is the value under the given `col_name` for the country with the said `country_code` in the given `year`.\n",
    "\n",
    "For example, the value returned by `get_col_dict('country_name', 2015)` should be something like the following:\n",
    "```python\n",
    "{'AFG': 'Afghanistan',\n",
    " 'ALB': 'Albania',\n",
    " 'DZA': 'Algeria',\n",
    " 'AND': 'Andorra',\n",
    " 'AGO': 'Angola',\n",
    " 'ARM': 'Armenia',\n",
    " 'AUS': 'Australia',\n",
    " 'AUT': 'Austria',\n",
    " 'AZE': 'Azerbaijan',\n",
    " 'BGD': 'Bangladesh',\n",
    " ...\n",
    "}\n",
    "```\n",
    "\n",
    "and the value returned by `get_col_dict('pop', 2020)` should be something like the following:\n",
    "```python\n",
    "{'AFG': 38928000,\n",
    " 'ALB': 2878000,\n",
    " 'DZA': 43851000,\n",
    " 'AND': 77000,\n",
    " 'AGO': 32866000,\n",
    " 'ARM': 2963000,\n",
    " 'AUS': 25500000,\n",
    " 'AUT': 9006000,\n",
    " 'AZE': 10139000,\n",
    " 'BGD': 164689000,\n",
    " ...\n",
    "}\n",
    "```\n",
    "\n",
    "Start with the following code snippet and complete the function."
   ]
  },
  {
   "cell_type": "code",
   "execution_count": 24,
   "id": "fb5377bd",
   "metadata": {
    "tags": []
   },
   "outputs": [],
   "source": [
    "# replace the ... with your code\n",
    "def get_col_dict(col_name, year):\n",
    "    col_dict = {}\n",
    "    if year == 2015:\n",
    "        for idx in range (0, len(csv_rows), 2):\n",
    "            col_dict[cell(idx, \"country_code\")] = cell(idx, col_name) \n",
    "    elif year == 2020:\n",
    "        for idx in range (1, len(csv_rows), 2):\n",
    "            col_dict[cell(idx, \"country_code\")] = cell(idx, col_name) \n",
    "    return col_dict"
   ]
  },
  {
   "cell_type": "code",
   "execution_count": 25,
   "id": "4cc57971",
   "metadata": {},
   "outputs": [
    {
     "data": {
      "text/plain": [
       "{'AFG': 61,\n",
       " 'ALB': 93,\n",
       " 'DZA': 93,\n",
       " 'AND': 100,\n",
       " 'AGO': 54,\n",
       " 'ARM': 100,\n",
       " 'AUS': 100,\n",
       " 'AUT': 100,\n",
       " 'AZE': 92,\n",
       " 'BGD': 97,\n",
       " 'BLR': 96,\n",
       " 'BEL': 100,\n",
       " 'BLZ': 97,\n",
       " 'BEN': 65,\n",
       " 'BMU': 100,\n",
       " 'BTN': 96,\n",
       " 'BIH': 96,\n",
       " 'BWA': 88,\n",
       " 'BRA': 98,\n",
       " 'BRN': 100,\n",
       " 'BGR': 100,\n",
       " 'BFA': 50,\n",
       " 'BDI': 60,\n",
       " 'CPV': 85,\n",
       " 'KHM': 68,\n",
       " 'CMR': 64,\n",
       " 'CAN': 100,\n",
       " 'CAF': 42,\n",
       " 'TCD': 44,\n",
       " 'CHL': 100,\n",
       " 'CHN': 92,\n",
       " 'COL': 96,\n",
       " 'CRI': 100,\n",
       " 'CIV': 71,\n",
       " 'CUB': 96,\n",
       " 'CYP': 100,\n",
       " 'CZE': 100,\n",
       " 'DNK': 100,\n",
       " 'DJI': 76,\n",
       " 'DOM': 96,\n",
       " 'ECU': 93,\n",
       " 'SLV': 96,\n",
       " 'EST': 100,\n",
       " 'SWZ': 67,\n",
       " 'ETH': 42,\n",
       " 'FJI': 94,\n",
       " 'FIN': 100,\n",
       " 'FRA': 100,\n",
       " 'GAB': 84,\n",
       " 'GEO': 96,\n",
       " 'DEU': 100,\n",
       " 'GHA': 80,\n",
       " 'GIB': 100,\n",
       " 'GRC': 100,\n",
       " 'GRL': 100,\n",
       " 'GTM': 92,\n",
       " 'GIN': 64,\n",
       " 'GNB': 59,\n",
       " 'GUY': 95,\n",
       " 'HTI': 65,\n",
       " 'HND': 93,\n",
       " 'HUN': 100,\n",
       " 'ISL': 100,\n",
       " 'IND': 88,\n",
       " 'IDN': 89,\n",
       " 'IRQ': 94,\n",
       " 'IRL': 97,\n",
       " 'ISR': 100,\n",
       " 'JAM': 90,\n",
       " 'JOR': 100,\n",
       " 'KAZ': 95,\n",
       " 'KEN': 58,\n",
       " 'KIR': 74,\n",
       " 'LVA': 99,\n",
       " 'LSO': 71,\n",
       " 'LBR': 73,\n",
       " 'LTU': 97,\n",
       " 'LUX': 100,\n",
       " 'MDG': 49,\n",
       " 'MWI': 66,\n",
       " 'MYS': 97,\n",
       " 'MDV': 99,\n",
       " 'MLI': 74,\n",
       " 'MLT': 100,\n",
       " 'MHL': 88,\n",
       " 'MRT': 67,\n",
       " 'MUS': 100,\n",
       " 'MEX': 98,\n",
       " 'MCO': 100,\n",
       " 'MNG': 81,\n",
       " 'MNE': 97,\n",
       " 'MAR': 84,\n",
       " 'MOZ': 51,\n",
       " 'MMR': 74,\n",
       " 'NAM': 83,\n",
       " 'NRU': 100,\n",
       " 'NPL': 88,\n",
       " 'NLD': 100,\n",
       " 'NZL': 100,\n",
       " 'NIC': 81,\n",
       " 'NER': 45,\n",
       " 'NGA': 69,\n",
       " 'MKD': 97,\n",
       " 'NOR': 100,\n",
       " 'OMN': 90,\n",
       " 'PAK': 89,\n",
       " 'PLW': 100,\n",
       " 'PAN': 93,\n",
       " 'PNG': 41,\n",
       " 'PRY': 97,\n",
       " 'PER': 90,\n",
       " 'PHL': 92,\n",
       " 'POL': 100,\n",
       " 'PRT': 100,\n",
       " 'ROU': 100,\n",
       " 'RUS': 97,\n",
       " 'RWA': 57,\n",
       " 'WSM': 91,\n",
       " 'SEN': 79,\n",
       " 'SRB': 93,\n",
       " 'SLE': 58,\n",
       " 'SGP': 100,\n",
       " 'SLB': 69,\n",
       " 'SOM': 49,\n",
       " 'ZAF': 92,\n",
       " 'SSD': 41,\n",
       " 'ESP': 100,\n",
       " 'LKA': 90,\n",
       " 'SDN': 59,\n",
       " 'SUR': 96,\n",
       " 'SWE': 100,\n",
       " 'CHE': 100,\n",
       " 'SYR': 94,\n",
       " 'TJK': 76,\n",
       " 'THA': 100,\n",
       " 'TLS': 75,\n",
       " 'TGO': 64,\n",
       " 'TON': 99,\n",
       " 'TUN': 95,\n",
       " 'TKM': 98,\n",
       " 'TUV': 100,\n",
       " 'UGA': 48,\n",
       " 'UKR': 94,\n",
       " 'GBR': 100,\n",
       " 'USA': 100,\n",
       " 'URY': 100,\n",
       " 'UZB': 98,\n",
       " 'VUT': 90,\n",
       " 'VNM': 93,\n",
       " 'ZMB': 61,\n",
       " 'ZWE': 65}"
      ]
     },
     "execution_count": 25,
     "metadata": {},
     "output_type": "execute_result"
    }
   ],
   "source": [
    "get_col_dict('national_alb', 2015)"
   ]
  },
  {
   "cell_type": "markdown",
   "id": "dbd91286",
   "metadata": {},
   "source": [
    "After you define the function `get_col_dict`, run the following two cells to test whether it works."
   ]
  },
  {
   "cell_type": "code",
   "execution_count": 26,
   "id": "b2cb240c",
   "metadata": {},
   "outputs": [
    {
     "data": {
      "text/plain": [
       "{'AFG': 38928000,\n",
       " 'ALB': 2878000,\n",
       " 'DZA': 43851000,\n",
       " 'AND': 77000,\n",
       " 'AGO': 32866000,\n",
       " 'ARM': 2963000,\n",
       " 'AUS': 25500000,\n",
       " 'AUT': 9006000,\n",
       " 'AZE': 10139000,\n",
       " 'BGD': 164689000,\n",
       " 'BLR': 9449000,\n",
       " 'BEL': 11590000,\n",
       " 'BLZ': 398000,\n",
       " 'BEN': 12123000,\n",
       " 'BMU': 62000,\n",
       " 'BTN': 772000,\n",
       " 'BIH': 3281000,\n",
       " 'BWA': 2352000,\n",
       " 'BRA': 212559000,\n",
       " 'BRN': 437000,\n",
       " 'BGR': 6948000,\n",
       " 'BFA': 20903000,\n",
       " 'BDI': 11891000,\n",
       " 'CPV': 556000,\n",
       " 'KHM': 16719000,\n",
       " 'CMR': 26546000,\n",
       " 'CAN': 37742000,\n",
       " 'CAF': 4830000,\n",
       " 'TCD': 16426000,\n",
       " 'CHL': 19116000,\n",
       " 'CHN': 1463141000,\n",
       " 'COL': 50883000,\n",
       " 'CRI': 5094000,\n",
       " 'CIV': 26378000,\n",
       " 'CUB': 11327000,\n",
       " 'CYP': 1207000,\n",
       " 'CZE': 10709000,\n",
       " 'DNK': 5792000,\n",
       " 'DJI': 988000,\n",
       " 'DOM': 10848000,\n",
       " 'ECU': 17643000,\n",
       " 'SLV': 6486000,\n",
       " 'EST': 1327000,\n",
       " 'SWZ': 1160000,\n",
       " 'ETH': 114964000,\n",
       " 'FJI': 896000,\n",
       " 'FIN': 5541000,\n",
       " 'FRA': 65274000,\n",
       " 'GAB': 2226000,\n",
       " 'GEO': 3989000,\n",
       " 'DEU': 83784000,\n",
       " 'GHA': 31073000,\n",
       " 'GIB': 34000,\n",
       " 'GRC': 10423000,\n",
       " 'GRL': 57000,\n",
       " 'GTM': 17916000,\n",
       " 'GIN': 13133000,\n",
       " 'GNB': 1968000,\n",
       " 'GUY': 787000,\n",
       " 'HTI': 11403000,\n",
       " 'HND': 9905000,\n",
       " 'HUN': 9660000,\n",
       " 'ISL': 341000,\n",
       " 'IND': 1380004000,\n",
       " 'IDN': 273524000,\n",
       " 'IRQ': 40223000,\n",
       " 'IRL': 4938000,\n",
       " 'ISR': 8656000,\n",
       " 'JAM': 2961000,\n",
       " 'JOR': 10203000,\n",
       " 'KAZ': 18777000,\n",
       " 'KEN': 53771000,\n",
       " 'KIR': 119000,\n",
       " 'LVA': 1886000,\n",
       " 'LSO': 2142000,\n",
       " 'LBR': 5058000,\n",
       " 'LTU': 2722000,\n",
       " 'LUX': 626000,\n",
       " 'MDG': 27691000,\n",
       " 'MWI': 19130000,\n",
       " 'MYS': 32366000,\n",
       " 'MDV': 541000,\n",
       " 'MLI': 20251000,\n",
       " 'MLT': 442000,\n",
       " 'MHL': 59000,\n",
       " 'MRT': 4650000,\n",
       " 'MUS': 1272000,\n",
       " 'MEX': 128933000,\n",
       " 'MCO': 39000,\n",
       " 'MNG': 3278000,\n",
       " 'MNE': 628000,\n",
       " 'MAR': 36911000,\n",
       " 'MOZ': 31255000,\n",
       " 'MMR': 54410000,\n",
       " 'NAM': 2541000,\n",
       " 'NRU': 11000,\n",
       " 'NPL': 29137000,\n",
       " 'NLD': 17135000,\n",
       " 'NZL': 4822000,\n",
       " 'NIC': 6625000,\n",
       " 'NER': 24207000,\n",
       " 'NGA': 206140000,\n",
       " 'MKD': 2083000,\n",
       " 'NOR': 5421000,\n",
       " 'OMN': 5107000,\n",
       " 'PAK': 220892000,\n",
       " 'PLW': 18000,\n",
       " 'PAN': 4315000,\n",
       " 'PNG': 8947000,\n",
       " 'PRY': 7133000,\n",
       " 'PER': 32972000,\n",
       " 'PHL': 109581000,\n",
       " 'POL': 37847000,\n",
       " 'PRT': 10197000,\n",
       " 'ROU': 19238000,\n",
       " 'RUS': 145934000,\n",
       " 'RWA': 12952000,\n",
       " 'WSM': 198000,\n",
       " 'SEN': 16744000,\n",
       " 'SRB': 8737000,\n",
       " 'SLE': 7977000,\n",
       " 'SGP': 5850000,\n",
       " 'SLB': 687000,\n",
       " 'SOM': 15893000,\n",
       " 'ZAF': 59309000,\n",
       " 'SSD': 11194000,\n",
       " 'ESP': 46755000,\n",
       " 'LKA': 21413000,\n",
       " 'SDN': 43849000,\n",
       " 'SUR': 587000,\n",
       " 'SWE': 10099000,\n",
       " 'CHE': 8655000,\n",
       " 'SYR': 17501000,\n",
       " 'TJK': 9538000,\n",
       " 'THA': 69800000,\n",
       " 'TLS': 1318000,\n",
       " 'TGO': 8279000,\n",
       " 'TON': 106000,\n",
       " 'TUN': 11819000,\n",
       " 'TKM': 6031000,\n",
       " 'TUV': 12000,\n",
       " 'UGA': 45741000,\n",
       " 'UKR': 43734000,\n",
       " 'GBR': 67886000,\n",
       " 'USA': 331003000,\n",
       " 'URY': 3474000,\n",
       " 'UZB': 33469000,\n",
       " 'VUT': 307000,\n",
       " 'VNM': 97339000,\n",
       " 'ZMB': 18384000,\n",
       " 'ZWE': 14863000}"
      ]
     },
     "execution_count": 26,
     "metadata": {},
     "output_type": "execute_result"
    }
   ],
   "source": [
    "get_col_dict_test1 = get_col_dict('region', 2020)\n",
    "get_col_dict_test2 = get_col_dict('national_alb', 2015)\n",
    "get_col_dict_test3 = get_col_dict('pop', 2020)\n",
    "\n",
    "get_col_dict_test1\n",
    "get_col_dict_test2\n",
    "get_col_dict_test3"
   ]
  },
  {
   "cell_type": "code",
   "execution_count": 27,
   "id": "9ec9b77f",
   "metadata": {
    "deletable": false,
    "editable": false
   },
   "outputs": [
    {
     "data": {
      "text/html": [
       "<p><strong><pre style='display: inline;'>get_col_dict</pre></strong> passed! ✨</p>"
      ],
      "text/plain": [
       "get_col_dict results: All test cases passed!"
      ]
     },
     "execution_count": 27,
     "metadata": {},
     "output_type": "execute_result"
    }
   ],
   "source": [
    "grader.check(\"get_col_dict\")"
   ]
  },
  {
   "cell_type": "markdown",
   "id": "474ffcde",
   "metadata": {},
   "source": [
    "### Data Structures 1: `dict_2015`\n",
    "\n",
    "You must now create a data structure named `dict_2015`. This data structure must be a **dict**. Each key must be a `country_code`, and the corresponding value must be another **dict**. As for the inner dictionary, the keys must be the various column names, and the values must be the values under the column name for `country_code` in the `year` *2015*.\n",
    "\n",
    "The keys for each of the *inner* dictionary are the column names:\n",
    "- `'country_name'`\n",
    "- `'region'`\n",
    "- `'income_level'`\n",
    "- `'year'`\n",
    "- `'pop'`\n",
    "- `'urban_percent'`\n",
    "- `'national_alb'`\n",
    "- `'urban_alb'`\n",
    "\n",
    "You are **allowed** to *hardcode* the **names** of all these columns (i.e., the keys of the *inner* dictionaries).\n",
    "\n",
    "The data structure `dict_2015` should look something like this:\n",
    "```python\n",
    "{'AFG': {'country_name': 'Afghanistan',\n",
    "  'region': 'South Asia',\n",
    "  'income_level': 'Low income',\n",
    "  'year': 2015,\n",
    "  'pop': 34414000,\n",
    "  'urban_percent': 25,\n",
    "  'national_alb': 61,\n",
    "  'urban_alb': 87},\n",
    " 'ALB': {'country_name': 'Albania',\n",
    "  'region': 'Europe & Central Asia',\n",
    "  'income_level': 'Upper middle income',\n",
    "  'year': 2015,\n",
    "  'pop': 2891000,\n",
    "  'urban_percent': 57,\n",
    "  'national_alb': 93,\n",
    "  'urban_alb': 95},\n",
    "  ...\n",
    "}\n",
    "```"
   ]
  },
  {
   "cell_type": "code",
   "execution_count": 28,
   "id": "40853d94",
   "metadata": {
    "tags": []
   },
   "outputs": [
    {
     "data": {
      "text/plain": [
       "{'AFG': {'country_name': 'Afghanistan',\n",
       "  'region': 'South Asia',\n",
       "  'income_level': 'Low income',\n",
       "  'year': 2015,\n",
       "  'pop': 34414000,\n",
       "  'urban_percent': 25,\n",
       "  'national_alb': 61,\n",
       "  'urban_alb': 87},\n",
       " 'ALB': {'country_name': 'Albania',\n",
       "  'region': 'Europe & Central Asia',\n",
       "  'income_level': 'Upper middle income',\n",
       "  'year': 2015,\n",
       "  'pop': 2891000,\n",
       "  'urban_percent': 57,\n",
       "  'national_alb': 93,\n",
       "  'urban_alb': 95},\n",
       " 'DZA': {'country_name': 'Algeria',\n",
       "  'region': 'Middle East & North Africa',\n",
       "  'income_level': 'Upper middle income',\n",
       "  'year': 2015,\n",
       "  'pop': 39728000,\n",
       "  'urban_percent': 71,\n",
       "  'national_alb': 93,\n",
       "  'urban_alb': 95},\n",
       " 'AND': {'country_name': 'Andorra',\n",
       "  'region': 'Europe & Central Asia',\n",
       "  'income_level': 'High income',\n",
       "  'year': 2015,\n",
       "  'pop': 78000,\n",
       "  'urban_percent': 88,\n",
       "  'national_alb': 100,\n",
       "  'urban_alb': 100},\n",
       " 'AGO': {'country_name': 'Angola',\n",
       "  'region': 'Sub-Saharan Africa',\n",
       "  'income_level': 'Upper middle income',\n",
       "  'year': 2015,\n",
       "  'pop': 27884000,\n",
       "  'urban_percent': 63,\n",
       "  'national_alb': 54,\n",
       "  'urban_alb': 70},\n",
       " 'ARM': {'country_name': 'Armenia',\n",
       "  'region': 'Europe & Central Asia',\n",
       "  'income_level': 'Lower middle income',\n",
       "  'year': 2015,\n",
       "  'pop': 2926000,\n",
       "  'urban_percent': 63,\n",
       "  'national_alb': 100,\n",
       "  'urban_alb': 100},\n",
       " 'AUS': {'country_name': 'Australia',\n",
       "  'region': 'East Asia & Pacific',\n",
       "  'income_level': 'High income',\n",
       "  'year': 2015,\n",
       "  'pop': 23932000,\n",
       "  'urban_percent': 86,\n",
       "  'national_alb': 100,\n",
       "  'urban_alb': 100},\n",
       " 'AUT': {'country_name': 'Austria',\n",
       "  'region': 'Europe & Central Asia',\n",
       "  'income_level': 'High income',\n",
       "  'year': 2015,\n",
       "  'pop': 8679000,\n",
       "  'urban_percent': 58,\n",
       "  'national_alb': 100,\n",
       "  'urban_alb': 100},\n",
       " 'AZE': {'country_name': 'Azerbaijan',\n",
       "  'region': 'Europe & Central Asia',\n",
       "  'income_level': 'Upper middle income',\n",
       "  'year': 2015,\n",
       "  'pop': 9623000,\n",
       "  'urban_percent': 55,\n",
       "  'national_alb': 92,\n",
       "  'urban_alb': 100},\n",
       " 'BGD': {'country_name': 'Bangladesh',\n",
       "  'region': 'South Asia',\n",
       "  'income_level': 'Lower middle income',\n",
       "  'year': 2015,\n",
       "  'pop': 156256000,\n",
       "  'urban_percent': 34,\n",
       "  'national_alb': 97,\n",
       "  'urban_alb': 98},\n",
       " 'BLR': {'country_name': 'Belarus',\n",
       "  'region': 'Europe & Central Asia',\n",
       "  'income_level': 'Upper middle income',\n",
       "  'year': 2015,\n",
       "  'pop': 9439000,\n",
       "  'urban_percent': 77,\n",
       "  'national_alb': 96,\n",
       "  'urban_alb': 96},\n",
       " 'BEL': {'country_name': 'Belgium',\n",
       "  'region': 'Europe & Central Asia',\n",
       "  'income_level': 'High income',\n",
       "  'year': 2015,\n",
       "  'pop': 11288000,\n",
       "  'urban_percent': 98,\n",
       "  'national_alb': 100,\n",
       "  'urban_alb': 100},\n",
       " 'BLZ': {'country_name': 'Belize',\n",
       "  'region': 'Latin America & Caribbean',\n",
       "  'income_level': 'Upper middle income',\n",
       "  'year': 2015,\n",
       "  'pop': 361000,\n",
       "  'urban_percent': 45,\n",
       "  'national_alb': 97,\n",
       "  'urban_alb': 100},\n",
       " 'BEN': {'country_name': 'Benin',\n",
       "  'region': 'Sub-Saharan Africa',\n",
       "  'income_level': 'Low income',\n",
       "  'year': 2015,\n",
       "  'pop': 10576000,\n",
       "  'urban_percent': 46,\n",
       "  'national_alb': 65,\n",
       "  'urban_alb': 74},\n",
       " 'BMU': {'country_name': 'Bermuda',\n",
       "  'region': 'North America',\n",
       "  'income_level': 'High income',\n",
       "  'year': 2015,\n",
       "  'pop': 64000,\n",
       "  'urban_percent': 100,\n",
       "  'national_alb': 100,\n",
       "  'urban_alb': 100},\n",
       " 'BTN': {'country_name': 'Bhutan',\n",
       "  'region': 'South Asia',\n",
       "  'income_level': 'Lower middle income',\n",
       "  'year': 2015,\n",
       "  'pop': 728000,\n",
       "  'urban_percent': 39,\n",
       "  'national_alb': 96,\n",
       "  'urban_alb': 98},\n",
       " 'BIH': {'country_name': 'Bosnia and Herzegovina',\n",
       "  'region': 'Europe & Central Asia',\n",
       "  'income_level': 'Upper middle income',\n",
       "  'year': 2015,\n",
       "  'pop': 3429000,\n",
       "  'urban_percent': 47,\n",
       "  'national_alb': 96,\n",
       "  'urban_alb': 95},\n",
       " 'BWA': {'country_name': 'Botswana',\n",
       "  'region': 'Sub-Saharan Africa',\n",
       "  'income_level': 'Upper middle income',\n",
       "  'year': 2015,\n",
       "  'pop': 2121000,\n",
       "  'urban_percent': 67,\n",
       "  'national_alb': 88,\n",
       "  'urban_alb': 97},\n",
       " 'BRA': {'country_name': 'Brazil',\n",
       "  'region': 'Latin America & Caribbean',\n",
       "  'income_level': 'Upper middle income',\n",
       "  'year': 2015,\n",
       "  'pop': 204472000,\n",
       "  'urban_percent': 86,\n",
       "  'national_alb': 98,\n",
       "  'urban_alb': 100},\n",
       " 'BRN': {'country_name': 'Brunei Darussalam',\n",
       "  'region': 'East Asia & Pacific',\n",
       "  'income_level': 'High income',\n",
       "  'year': 2015,\n",
       "  'pop': 415000,\n",
       "  'urban_percent': 77,\n",
       "  'national_alb': 100,\n",
       "  'urban_alb': 100},\n",
       " 'BGR': {'country_name': 'Bulgaria',\n",
       "  'region': 'Europe & Central Asia',\n",
       "  'income_level': 'Upper middle income',\n",
       "  'year': 2015,\n",
       "  'pop': 7200000,\n",
       "  'urban_percent': 74,\n",
       "  'national_alb': 100,\n",
       "  'urban_alb': 100},\n",
       " 'BFA': {'country_name': 'Burkina Faso',\n",
       "  'region': 'Sub-Saharan Africa',\n",
       "  'income_level': 'Low income',\n",
       "  'year': 2015,\n",
       "  'pop': 18111000,\n",
       "  'urban_percent': 28,\n",
       "  'national_alb': 50,\n",
       "  'urban_alb': 80},\n",
       " 'BDI': {'country_name': 'Burundi',\n",
       "  'region': 'Sub-Saharan Africa',\n",
       "  'income_level': 'Low income',\n",
       "  'year': 2015,\n",
       "  'pop': 10160000,\n",
       "  'urban_percent': 12,\n",
       "  'national_alb': 60,\n",
       "  'urban_alb': 89},\n",
       " 'CPV': {'country_name': 'Cabo Verde',\n",
       "  'region': 'Sub-Saharan Africa',\n",
       "  'income_level': 'Lower middle income',\n",
       "  'year': 2015,\n",
       "  'pop': 525000,\n",
       "  'urban_percent': 64,\n",
       "  'national_alb': 85,\n",
       "  'urban_alb': 92},\n",
       " 'KHM': {'country_name': 'Cambodia',\n",
       "  'region': 'East Asia & Pacific',\n",
       "  'income_level': 'Lower middle income',\n",
       "  'year': 2015,\n",
       "  'pop': 15521000,\n",
       "  'urban_percent': 22,\n",
       "  'national_alb': 68,\n",
       "  'urban_alb': 89},\n",
       " 'CMR': {'country_name': 'Cameroon',\n",
       "  'region': 'Sub-Saharan Africa',\n",
       "  'income_level': 'Lower middle income',\n",
       "  'year': 2015,\n",
       "  'pop': 23298000,\n",
       "  'urban_percent': 55,\n",
       "  'national_alb': 64,\n",
       "  'urban_alb': 82},\n",
       " 'CAN': {'country_name': 'Canada',\n",
       "  'region': 'North America',\n",
       "  'income_level': 'High income',\n",
       "  'year': 2015,\n",
       "  'pop': 36027000,\n",
       "  'urban_percent': 81,\n",
       "  'national_alb': 100,\n",
       "  'urban_alb': 100},\n",
       " 'CAF': {'country_name': 'Central African Republic',\n",
       "  'region': 'Sub-Saharan Africa',\n",
       "  'income_level': 'Low income',\n",
       "  'year': 2015,\n",
       "  'pop': 4493000,\n",
       "  'urban_percent': 40,\n",
       "  'national_alb': 42,\n",
       "  'urban_alb': 58},\n",
       " 'TCD': {'country_name': 'Chad',\n",
       "  'region': 'Sub-Saharan Africa',\n",
       "  'income_level': 'Low income',\n",
       "  'year': 2015,\n",
       "  'pop': 14111000,\n",
       "  'urban_percent': 23,\n",
       "  'national_alb': 44,\n",
       "  'urban_alb': 75},\n",
       " 'CHL': {'country_name': 'Chile',\n",
       "  'region': 'Latin America & Caribbean',\n",
       "  'income_level': 'High income',\n",
       "  'year': 2015,\n",
       "  'pop': 17969000,\n",
       "  'urban_percent': 87,\n",
       "  'national_alb': 100,\n",
       "  'urban_alb': 100},\n",
       " 'CHN': {'country_name': 'China',\n",
       "  'region': 'East Asia & Pacific',\n",
       "  'income_level': 'Upper middle income',\n",
       "  'year': 2015,\n",
       "  'pop': 1430405000,\n",
       "  'urban_percent': 56,\n",
       "  'national_alb': 92,\n",
       "  'urban_alb': 98},\n",
       " 'COL': {'country_name': 'Colombia',\n",
       "  'region': 'Latin America & Caribbean',\n",
       "  'income_level': 'Upper middle income',\n",
       "  'year': 2015,\n",
       "  'pop': 47521000,\n",
       "  'urban_percent': 80,\n",
       "  'national_alb': 96,\n",
       "  'urban_alb': 100},\n",
       " 'CRI': {'country_name': 'Costa Rica',\n",
       "  'region': 'Latin America & Caribbean',\n",
       "  'income_level': 'Upper middle income',\n",
       "  'year': 2015,\n",
       "  'pop': 4848000,\n",
       "  'urban_percent': 77,\n",
       "  'national_alb': 100,\n",
       "  'urban_alb': 100},\n",
       " 'CIV': {'country_name': \"Côte d'Ivoire\",\n",
       "  'region': 'Sub-Saharan Africa',\n",
       "  'income_level': 'Lower middle income',\n",
       "  'year': 2015,\n",
       "  'pop': 23226000,\n",
       "  'urban_percent': 49,\n",
       "  'national_alb': 71,\n",
       "  'urban_alb': 87},\n",
       " 'CUB': {'country_name': 'Cuba',\n",
       "  'region': 'Latin America & Caribbean',\n",
       "  'income_level': 'Upper middle income',\n",
       "  'year': 2015,\n",
       "  'pop': 11325000,\n",
       "  'urban_percent': 77,\n",
       "  'national_alb': 96,\n",
       "  'urban_alb': 98},\n",
       " 'CYP': {'country_name': 'Cyprus',\n",
       "  'region': 'Europe & Central Asia',\n",
       "  'income_level': 'High income',\n",
       "  'year': 2015,\n",
       "  'pop': 1161000,\n",
       "  'urban_percent': 67,\n",
       "  'national_alb': 100,\n",
       "  'urban_alb': 100},\n",
       " 'CZE': {'country_name': 'Czech Republic',\n",
       "  'region': 'Europe & Central Asia',\n",
       "  'income_level': 'High income',\n",
       "  'year': 2015,\n",
       "  'pop': 10601000,\n",
       "  'urban_percent': 73,\n",
       "  'national_alb': 100,\n",
       "  'urban_alb': 100},\n",
       " 'DNK': {'country_name': 'Denmark',\n",
       "  'region': 'Europe & Central Asia',\n",
       "  'income_level': 'High income',\n",
       "  'year': 2015,\n",
       "  'pop': 5689000,\n",
       "  'urban_percent': 88,\n",
       "  'national_alb': 100,\n",
       "  'urban_alb': 100},\n",
       " 'DJI': {'country_name': 'Djibouti',\n",
       "  'region': 'Middle East & North Africa',\n",
       "  'income_level': 'Lower middle income',\n",
       "  'year': 2015,\n",
       "  'pop': 914000,\n",
       "  'urban_percent': 77,\n",
       "  'national_alb': 76,\n",
       "  'urban_alb': 84},\n",
       " 'DOM': {'country_name': 'Dominican Republic',\n",
       "  'region': 'Latin America & Caribbean',\n",
       "  'income_level': 'Upper middle income',\n",
       "  'year': 2015,\n",
       "  'pop': 10282000,\n",
       "  'urban_percent': 79,\n",
       "  'national_alb': 96,\n",
       "  'urban_alb': 98},\n",
       " 'ECU': {'country_name': 'Ecuador',\n",
       "  'region': 'Latin America & Caribbean',\n",
       "  'income_level': 'Upper middle income',\n",
       "  'year': 2015,\n",
       "  'pop': 16212000,\n",
       "  'urban_percent': 63,\n",
       "  'national_alb': 93,\n",
       "  'urban_alb': 100},\n",
       " 'SLV': {'country_name': 'El Salvador',\n",
       "  'region': 'Latin America & Caribbean',\n",
       "  'income_level': 'Lower middle income',\n",
       "  'year': 2015,\n",
       "  'pop': 6325000,\n",
       "  'urban_percent': 70,\n",
       "  'national_alb': 96,\n",
       "  'urban_alb': 99},\n",
       " 'EST': {'country_name': 'Estonia',\n",
       "  'region': 'Europe & Central Asia',\n",
       "  'income_level': 'High income',\n",
       "  'year': 2015,\n",
       "  'pop': 1315000,\n",
       "  'urban_percent': 68,\n",
       "  'national_alb': 100,\n",
       "  'urban_alb': 100},\n",
       " 'SWZ': {'country_name': 'Eswatini',\n",
       "  'region': 'Sub-Saharan Africa',\n",
       "  'income_level': 'Lower middle income',\n",
       "  'year': 2015,\n",
       "  'pop': 1104000,\n",
       "  'urban_percent': 23,\n",
       "  'national_alb': 67,\n",
       "  'urban_alb': 95},\n",
       " 'ETH': {'country_name': 'Ethiopia',\n",
       "  'region': 'Sub-Saharan Africa',\n",
       "  'income_level': 'Low income',\n",
       "  'year': 2015,\n",
       "  'pop': 100835000,\n",
       "  'urban_percent': 19,\n",
       "  'national_alb': 42,\n",
       "  'urban_alb': 82},\n",
       " 'FJI': {'country_name': 'Fiji',\n",
       "  'region': 'East Asia & Pacific',\n",
       "  'income_level': 'Upper middle income',\n",
       "  'year': 2015,\n",
       "  'pop': 869000,\n",
       "  'urban_percent': 55,\n",
       "  'national_alb': 94,\n",
       "  'urban_alb': 98},\n",
       " 'FIN': {'country_name': 'Finland',\n",
       "  'region': 'Europe & Central Asia',\n",
       "  'income_level': 'High income',\n",
       "  'year': 2015,\n",
       "  'pop': 5481000,\n",
       "  'urban_percent': 85,\n",
       "  'national_alb': 100,\n",
       "  'urban_alb': 100},\n",
       " 'FRA': {'country_name': 'France',\n",
       "  'region': 'Europe & Central Asia',\n",
       "  'income_level': 'High income',\n",
       "  'year': 2015,\n",
       "  'pop': 64453000,\n",
       "  'urban_percent': 80,\n",
       "  'national_alb': 100,\n",
       "  'urban_alb': 100},\n",
       " 'GAB': {'country_name': 'Gabon',\n",
       "  'region': 'Sub-Saharan Africa',\n",
       "  'income_level': 'Upper middle income',\n",
       "  'year': 2015,\n",
       "  'pop': 1948000,\n",
       "  'urban_percent': 88,\n",
       "  'national_alb': 84,\n",
       "  'urban_alb': 89},\n",
       " 'GEO': {'country_name': 'Georgia',\n",
       "  'region': 'Europe & Central Asia',\n",
       "  'income_level': 'Upper middle income',\n",
       "  'year': 2015,\n",
       "  'pop': 4024000,\n",
       "  'urban_percent': 57,\n",
       "  'national_alb': 96,\n",
       "  'urban_alb': 100},\n",
       " 'DEU': {'country_name': 'Germany',\n",
       "  'region': 'Europe & Central Asia',\n",
       "  'income_level': 'High income',\n",
       "  'year': 2015,\n",
       "  'pop': 81787000,\n",
       "  'urban_percent': 77,\n",
       "  'national_alb': 100,\n",
       "  'urban_alb': 100},\n",
       " 'GHA': {'country_name': 'Ghana',\n",
       "  'region': 'Sub-Saharan Africa',\n",
       "  'income_level': 'Lower middle income',\n",
       "  'year': 2015,\n",
       "  'pop': 27849000,\n",
       "  'urban_percent': 54,\n",
       "  'national_alb': 80,\n",
       "  'urban_alb': 91},\n",
       " 'GIB': {'country_name': 'Gibraltar',\n",
       "  'region': 'Europe & Central Asia',\n",
       "  'income_level': 'High income',\n",
       "  'year': 2015,\n",
       "  'pop': 34000,\n",
       "  'urban_percent': 100,\n",
       "  'national_alb': 100,\n",
       "  'urban_alb': 100},\n",
       " 'GRC': {'country_name': 'Greece',\n",
       "  'region': 'Europe & Central Asia',\n",
       "  'income_level': 'High income',\n",
       "  'year': 2015,\n",
       "  'pop': 10660000,\n",
       "  'urban_percent': 78,\n",
       "  'national_alb': 100,\n",
       "  'urban_alb': 100},\n",
       " 'GRL': {'country_name': 'Greenland',\n",
       "  'region': 'Europe & Central Asia',\n",
       "  'income_level': 'High income',\n",
       "  'year': 2015,\n",
       "  'pop': 56000,\n",
       "  'urban_percent': 86,\n",
       "  'national_alb': 100,\n",
       "  'urban_alb': 100},\n",
       " 'GTM': {'country_name': 'Guatemala',\n",
       "  'region': 'Latin America & Caribbean',\n",
       "  'income_level': 'Lower middle income',\n",
       "  'year': 2015,\n",
       "  'pop': 16252000,\n",
       "  'urban_percent': 50,\n",
       "  'national_alb': 92,\n",
       "  'urban_alb': 97},\n",
       " 'GIN': {'country_name': 'Guinea',\n",
       "  'region': 'Sub-Saharan Africa',\n",
       "  'income_level': 'Low income',\n",
       "  'year': 2015,\n",
       "  'pop': 11432000,\n",
       "  'urban_percent': 35,\n",
       "  'national_alb': 64,\n",
       "  'urban_alb': 85},\n",
       " 'GNB': {'country_name': 'Guinea-Bissau',\n",
       "  'region': 'Sub-Saharan Africa',\n",
       "  'income_level': 'Low income',\n",
       "  'year': 2015,\n",
       "  'pop': 1737000,\n",
       "  'urban_percent': 42,\n",
       "  'national_alb': 59,\n",
       "  'urban_alb': 73},\n",
       " 'GUY': {'country_name': 'Guyana',\n",
       "  'region': 'Latin America & Caribbean',\n",
       "  'income_level': 'Upper middle income',\n",
       "  'year': 2015,\n",
       "  'pop': 767000,\n",
       "  'urban_percent': 26,\n",
       "  'national_alb': 95,\n",
       "  'urban_alb': 100},\n",
       " 'HTI': {'country_name': 'Haiti',\n",
       "  'region': 'Latin America & Caribbean',\n",
       "  'income_level': 'Low income',\n",
       "  'year': 2015,\n",
       "  'pop': 10696000,\n",
       "  'urban_percent': 52,\n",
       "  'national_alb': 65,\n",
       "  'urban_alb': 85},\n",
       " 'HND': {'country_name': 'Honduras',\n",
       "  'region': 'Latin America & Caribbean',\n",
       "  'income_level': 'Lower middle income',\n",
       "  'year': 2015,\n",
       "  'pop': 9113000,\n",
       "  'urban_percent': 55,\n",
       "  'national_alb': 93,\n",
       "  'urban_alb': 99},\n",
       " 'HUN': {'country_name': 'Hungary',\n",
       "  'region': 'Europe & Central Asia',\n",
       "  'income_level': 'High income',\n",
       "  'year': 2015,\n",
       "  'pop': 9778000,\n",
       "  'urban_percent': 71,\n",
       "  'national_alb': 100,\n",
       "  'urban_alb': 100},\n",
       " 'ISL': {'country_name': 'Iceland',\n",
       "  'region': 'Europe & Central Asia',\n",
       "  'income_level': 'High income',\n",
       "  'year': 2015,\n",
       "  'pop': 330000,\n",
       "  'urban_percent': 94,\n",
       "  'national_alb': 100,\n",
       "  'urban_alb': 100},\n",
       " 'IND': {'country_name': 'India',\n",
       "  'region': 'South Asia',\n",
       "  'income_level': 'Lower middle income',\n",
       "  'year': 2015,\n",
       "  'pop': 1310152000,\n",
       "  'urban_percent': 33,\n",
       "  'national_alb': 88,\n",
       "  'urban_alb': 93},\n",
       " 'IDN': {'country_name': 'Indonesia',\n",
       "  'region': 'East Asia & Pacific',\n",
       "  'income_level': 'Lower middle income',\n",
       "  'year': 2015,\n",
       "  'pop': 258383000,\n",
       "  'urban_percent': 53,\n",
       "  'national_alb': 89,\n",
       "  'urban_alb': 95},\n",
       " 'IRQ': {'country_name': 'Iraq',\n",
       "  'region': 'Middle East & North Africa',\n",
       "  'income_level': 'Upper middle income',\n",
       "  'year': 2015,\n",
       "  'pop': 35572000,\n",
       "  'urban_percent': 70,\n",
       "  'national_alb': 94,\n",
       "  'urban_alb': 98},\n",
       " 'IRL': {'country_name': 'Ireland',\n",
       "  'region': 'Europe & Central Asia',\n",
       "  'income_level': 'High income',\n",
       "  'year': 2015,\n",
       "  'pop': 4652000,\n",
       "  'urban_percent': 63,\n",
       "  'national_alb': 97,\n",
       "  'urban_alb': 97},\n",
       " 'ISR': {'country_name': 'Israel',\n",
       "  'region': 'Middle East & North Africa',\n",
       "  'income_level': 'High income',\n",
       "  'year': 2015,\n",
       "  'pop': 7978000,\n",
       "  'urban_percent': 92,\n",
       "  'national_alb': 100,\n",
       "  'urban_alb': 100},\n",
       " 'JAM': {'country_name': 'Jamaica',\n",
       "  'region': 'Latin America & Caribbean',\n",
       "  'income_level': 'Upper middle income',\n",
       "  'year': 2015,\n",
       "  'pop': 2891000,\n",
       "  'urban_percent': 55,\n",
       "  'national_alb': 90,\n",
       "  'urban_alb': 95},\n",
       " 'JOR': {'country_name': 'Jordan',\n",
       "  'region': 'Middle East & North Africa',\n",
       "  'income_level': 'Upper middle income',\n",
       "  'year': 2015,\n",
       "  'pop': 9267000,\n",
       "  'urban_percent': 90,\n",
       "  'national_alb': 100,\n",
       "  'urban_alb': 100},\n",
       " 'KAZ': {'country_name': 'Kazakhstan',\n",
       "  'region': 'Europe & Central Asia',\n",
       "  'income_level': 'Upper middle income',\n",
       "  'year': 2015,\n",
       "  'pop': 17572000,\n",
       "  'urban_percent': 57,\n",
       "  'national_alb': 95,\n",
       "  'urban_alb': 98},\n",
       " 'KEN': {'country_name': 'Kenya',\n",
       "  'region': 'Sub-Saharan Africa',\n",
       "  'income_level': 'Lower middle income',\n",
       "  'year': 2015,\n",
       "  'pop': 47878000,\n",
       "  'urban_percent': 26,\n",
       "  'national_alb': 58,\n",
       "  'urban_alb': 87},\n",
       " 'KIR': {'country_name': 'Kiribati',\n",
       "  'region': 'East Asia & Pacific',\n",
       "  'income_level': 'Lower middle income',\n",
       "  'year': 2015,\n",
       "  'pop': 111000,\n",
       "  'urban_percent': 52,\n",
       "  'national_alb': 74,\n",
       "  'urban_alb': 89},\n",
       " 'LVA': {'country_name': 'Latvia',\n",
       "  'region': 'Europe & Central Asia',\n",
       "  'income_level': 'High income',\n",
       "  'year': 2015,\n",
       "  'pop': 1998000,\n",
       "  'urban_percent': 68,\n",
       "  'national_alb': 99,\n",
       "  'urban_alb': 99},\n",
       " 'LSO': {'country_name': 'Lesotho',\n",
       "  'region': 'Sub-Saharan Africa',\n",
       "  'income_level': 'Lower middle income',\n",
       "  'year': 2015,\n",
       "  'pop': 2059000,\n",
       "  'urban_percent': 27,\n",
       "  'national_alb': 71,\n",
       "  'urban_alb': 90},\n",
       " 'LBR': {'country_name': 'Liberia',\n",
       "  'region': 'Sub-Saharan Africa',\n",
       "  'income_level': 'Low income',\n",
       "  'year': 2015,\n",
       "  'pop': 4472000,\n",
       "  'urban_percent': 50,\n",
       "  'national_alb': 73,\n",
       "  'urban_alb': 84},\n",
       " 'LTU': {'country_name': 'Lithuania',\n",
       "  'region': 'Europe & Central Asia',\n",
       "  'income_level': 'High income',\n",
       "  'year': 2015,\n",
       "  'pop': 2932000,\n",
       "  'urban_percent': 67,\n",
       "  'national_alb': 97,\n",
       "  'urban_alb': 100},\n",
       " 'LUX': {'country_name': 'Luxembourg',\n",
       "  'region': 'Europe & Central Asia',\n",
       "  'income_level': 'High income',\n",
       "  'year': 2015,\n",
       "  'pop': 567000,\n",
       "  'urban_percent': 90,\n",
       "  'national_alb': 100,\n",
       "  'urban_alb': 100},\n",
       " 'MDG': {'country_name': 'Madagascar',\n",
       "  'region': 'Sub-Saharan Africa',\n",
       "  'income_level': 'Low income',\n",
       "  'year': 2015,\n",
       "  'pop': 24234000,\n",
       "  'urban_percent': 35,\n",
       "  'national_alb': 49,\n",
       "  'urban_alb': 78},\n",
       " 'MWI': {'country_name': 'Malawi',\n",
       "  'region': 'Sub-Saharan Africa',\n",
       "  'income_level': 'Low income',\n",
       "  'year': 2015,\n",
       "  'pop': 16745000,\n",
       "  'urban_percent': 16,\n",
       "  'national_alb': 66,\n",
       "  'urban_alb': 86},\n",
       " 'MYS': {'country_name': 'Malaysia',\n",
       "  'region': 'East Asia & Pacific',\n",
       "  'income_level': 'Upper middle income',\n",
       "  'year': 2015,\n",
       "  'pop': 30271000,\n",
       "  'urban_percent': 74,\n",
       "  'national_alb': 97,\n",
       "  'urban_alb': 100},\n",
       " 'MDV': {'country_name': 'Maldives',\n",
       "  'region': 'South Asia',\n",
       "  'income_level': 'Upper middle income',\n",
       "  'year': 2015,\n",
       "  'pop': 455000,\n",
       "  'urban_percent': 39,\n",
       "  'national_alb': 99,\n",
       "  'urban_alb': 99},\n",
       " 'MLI': {'country_name': 'Mali',\n",
       "  'region': 'Sub-Saharan Africa',\n",
       "  'income_level': 'Low income',\n",
       "  'year': 2015,\n",
       "  'pop': 17439000,\n",
       "  'urban_percent': 40,\n",
       "  'national_alb': 74,\n",
       "  'urban_alb': 91},\n",
       " 'MLT': {'country_name': 'Malta',\n",
       "  'region': 'Middle East & North Africa',\n",
       "  'income_level': 'High income',\n",
       "  'year': 2015,\n",
       "  'pop': 434000,\n",
       "  'urban_percent': 94,\n",
       "  'national_alb': 100,\n",
       "  'urban_alb': 100},\n",
       " 'MHL': {'country_name': 'Marshall Islands',\n",
       "  'region': 'East Asia & Pacific',\n",
       "  'income_level': 'Upper middle income',\n",
       "  'year': 2015,\n",
       "  'pop': 57000,\n",
       "  'urban_percent': 76,\n",
       "  'national_alb': 88,\n",
       "  'urban_alb': 86},\n",
       " 'MRT': {'country_name': 'Mauritania',\n",
       "  'region': 'Sub-Saharan Africa',\n",
       "  'income_level': 'Lower middle income',\n",
       "  'year': 2015,\n",
       "  'pop': 4046000,\n",
       "  'urban_percent': 51,\n",
       "  'national_alb': 67,\n",
       "  'urban_alb': 86},\n",
       " 'MUS': {'country_name': 'Mauritius',\n",
       "  'region': 'Sub-Saharan Africa',\n",
       "  'income_level': 'Upper middle income',\n",
       "  'year': 2015,\n",
       "  'pop': 1259000,\n",
       "  'urban_percent': 41,\n",
       "  'national_alb': 100,\n",
       "  'urban_alb': 100},\n",
       " 'MEX': {'country_name': 'Mexico',\n",
       "  'region': 'Latin America & Caribbean',\n",
       "  'income_level': 'Upper middle income',\n",
       "  'year': 2015,\n",
       "  'pop': 121858000,\n",
       "  'urban_percent': 79,\n",
       "  'national_alb': 98,\n",
       "  'urban_alb': 100},\n",
       " 'MCO': {'country_name': 'Monaco',\n",
       "  'region': 'Europe & Central Asia',\n",
       "  'income_level': 'High income',\n",
       "  'year': 2015,\n",
       "  'pop': 38000,\n",
       "  'urban_percent': 100,\n",
       "  'national_alb': 100,\n",
       "  'urban_alb': 100},\n",
       " 'MNG': {'country_name': 'Mongolia',\n",
       "  'region': 'East Asia & Pacific',\n",
       "  'income_level': 'Lower middle income',\n",
       "  'year': 2015,\n",
       "  'pop': 2998000,\n",
       "  'urban_percent': 68,\n",
       "  'national_alb': 81,\n",
       "  'urban_alb': 94},\n",
       " 'MNE': {'country_name': 'Montenegro',\n",
       "  'region': 'Europe & Central Asia',\n",
       "  'income_level': 'Upper middle income',\n",
       "  'year': 2015,\n",
       "  'pop': 627000,\n",
       "  'urban_percent': 66,\n",
       "  'national_alb': 97,\n",
       "  'urban_alb': 98},\n",
       " 'MAR': {'country_name': 'Morocco',\n",
       "  'region': 'Middle East & North Africa',\n",
       "  'income_level': 'Lower middle income',\n",
       "  'year': 2015,\n",
       "  'pop': 34664000,\n",
       "  'urban_percent': 61,\n",
       "  'national_alb': 84,\n",
       "  'urban_alb': 96},\n",
       " 'MOZ': {'country_name': 'Mozambique',\n",
       "  'region': 'Sub-Saharan Africa',\n",
       "  'income_level': 'Low income',\n",
       "  'year': 2015,\n",
       "  'pop': 27042000,\n",
       "  'urban_percent': 34,\n",
       "  'national_alb': 51,\n",
       "  'urban_alb': 80},\n",
       " 'MMR': {'country_name': 'Myanmar',\n",
       "  'region': 'East Asia & Pacific',\n",
       "  'income_level': 'Lower middle income',\n",
       "  'year': 2015,\n",
       "  'pop': 52681000,\n",
       "  'urban_percent': 30,\n",
       "  'national_alb': 74,\n",
       "  'urban_alb': 88},\n",
       " 'NAM': {'country_name': 'Namibia',\n",
       "  'region': 'Sub-Saharan Africa',\n",
       "  'income_level': 'Upper middle income',\n",
       "  'year': 2015,\n",
       "  'pop': 2315000,\n",
       "  'urban_percent': 47,\n",
       "  'national_alb': 83,\n",
       "  'urban_alb': 97},\n",
       " 'NRU': {'country_name': 'Nauru',\n",
       "  'region': 'East Asia & Pacific',\n",
       "  'income_level': 'High income',\n",
       "  'year': 2015,\n",
       "  'pop': 10000,\n",
       "  'urban_percent': 100,\n",
       "  'national_alb': 100,\n",
       "  'urban_alb': 100},\n",
       " 'NPL': {'country_name': 'Nepal',\n",
       "  'region': 'South Asia',\n",
       "  'income_level': 'Low income',\n",
       "  'year': 2015,\n",
       "  'pop': 27015000,\n",
       "  'urban_percent': 19,\n",
       "  'national_alb': 88,\n",
       "  'urban_alb': 90},\n",
       " 'NLD': {'country_name': 'Netherlands',\n",
       "  'region': 'Europe & Central Asia',\n",
       "  'income_level': 'High income',\n",
       "  'year': 2015,\n",
       "  'pop': 16938000,\n",
       "  'urban_percent': 90,\n",
       "  'national_alb': 100,\n",
       "  'urban_alb': 100},\n",
       " 'NZL': {'country_name': 'New Zealand',\n",
       "  'region': 'East Asia & Pacific',\n",
       "  'income_level': 'High income',\n",
       "  'year': 2015,\n",
       "  'pop': 4615000,\n",
       "  'urban_percent': 86,\n",
       "  'national_alb': 100,\n",
       "  'urban_alb': 100},\n",
       " 'NIC': {'country_name': 'Nicaragua',\n",
       "  'region': 'Latin America & Caribbean',\n",
       "  'income_level': 'Lower middle income',\n",
       "  'year': 2015,\n",
       "  'pop': 6223000,\n",
       "  'urban_percent': 58,\n",
       "  'national_alb': 81,\n",
       "  'urban_alb': 97},\n",
       " 'NER': {'country_name': 'Niger',\n",
       "  'region': 'Sub-Saharan Africa',\n",
       "  'income_level': 'Low income',\n",
       "  'year': 2015,\n",
       "  'pop': 20002000,\n",
       "  'urban_percent': 16,\n",
       "  'national_alb': 45,\n",
       "  'urban_alb': 88},\n",
       " 'NGA': {'country_name': 'Nigeria',\n",
       "  'region': 'Sub-Saharan Africa',\n",
       "  'income_level': 'Lower middle income',\n",
       "  'year': 2015,\n",
       "  'pop': 181137000,\n",
       "  'urban_percent': 48,\n",
       "  'national_alb': 69,\n",
       "  'urban_alb': 85},\n",
       " 'MKD': {'country_name': 'North Macedonia',\n",
       "  'region': 'Europe & Central Asia',\n",
       "  'income_level': 'Upper middle income',\n",
       "  'year': 2015,\n",
       "  'pop': 2079000,\n",
       "  'urban_percent': 57,\n",
       "  'national_alb': 97,\n",
       "  'urban_alb': 97},\n",
       " 'NOR': {'country_name': 'Norway',\n",
       "  'region': 'Europe & Central Asia',\n",
       "  'income_level': 'High income',\n",
       "  'year': 2015,\n",
       "  'pop': 5200000,\n",
       "  'urban_percent': 81,\n",
       "  'national_alb': 100,\n",
       "  'urban_alb': 100},\n",
       " 'OMN': {'country_name': 'Oman',\n",
       "  'region': 'Middle East & North Africa',\n",
       "  'income_level': 'High income',\n",
       "  'year': 2015,\n",
       "  'pop': 4267000,\n",
       "  'urban_percent': 81,\n",
       "  'national_alb': 90,\n",
       "  'urban_alb': 94},\n",
       " 'PAK': {'country_name': 'Pakistan',\n",
       "  'region': 'South Asia',\n",
       "  'income_level': 'Lower middle income',\n",
       "  'year': 2015,\n",
       "  'pop': 199427000,\n",
       "  'urban_percent': 36,\n",
       "  'national_alb': 89,\n",
       "  'urban_alb': 94},\n",
       " 'PLW': {'country_name': 'Palau',\n",
       "  'region': 'East Asia & Pacific',\n",
       "  'income_level': 'Upper middle income',\n",
       "  'year': 2015,\n",
       "  'pop': 18000,\n",
       "  'urban_percent': 78,\n",
       "  'national_alb': 100,\n",
       "  'urban_alb': 100},\n",
       " 'PAN': {'country_name': 'Panama',\n",
       "  'region': 'Latin America & Caribbean',\n",
       "  'income_level': 'Upper middle income',\n",
       "  'year': 2015,\n",
       "  'pop': 3968000,\n",
       "  'urban_percent': 67,\n",
       "  'national_alb': 93,\n",
       "  'urban_alb': 98},\n",
       " 'PNG': {'country_name': 'Papua New Guinea',\n",
       "  'region': 'East Asia & Pacific',\n",
       "  'income_level': 'Lower middle income',\n",
       "  'year': 2015,\n",
       "  'pop': 8108000,\n",
       "  'urban_percent': 13,\n",
       "  'national_alb': 41,\n",
       "  'urban_alb': 85},\n",
       " 'PRY': {'country_name': 'Paraguay',\n",
       "  'region': 'Latin America & Caribbean',\n",
       "  'income_level': 'Upper middle income',\n",
       "  'year': 2015,\n",
       "  'pop': 6689000,\n",
       "  'urban_percent': 61,\n",
       "  'national_alb': 97,\n",
       "  'urban_alb': 100},\n",
       " 'PER': {'country_name': 'Peru',\n",
       "  'region': 'Latin America & Caribbean',\n",
       "  'income_level': 'Upper middle income',\n",
       "  'year': 2015,\n",
       "  'pop': 30471000,\n",
       "  'urban_percent': 77,\n",
       "  'national_alb': 90,\n",
       "  'urban_alb': 95},\n",
       " 'PHL': {'country_name': 'Philippines',\n",
       "  'region': 'East Asia & Pacific',\n",
       "  'income_level': 'Lower middle income',\n",
       "  'year': 2015,\n",
       "  'pop': 102113000,\n",
       "  'urban_percent': 46,\n",
       "  'national_alb': 92,\n",
       "  'urban_alb': 96},\n",
       " 'POL': {'country_name': 'Poland',\n",
       "  'region': 'Europe & Central Asia',\n",
       "  'income_level': 'High income',\n",
       "  'year': 2015,\n",
       "  'pop': 38034000,\n",
       "  'urban_percent': 60,\n",
       "  'national_alb': 100,\n",
       "  'urban_alb': 100},\n",
       " 'PRT': {'country_name': 'Portugal',\n",
       "  'region': 'Europe & Central Asia',\n",
       "  'income_level': 'High income',\n",
       "  'year': 2015,\n",
       "  'pop': 10368000,\n",
       "  'urban_percent': 64,\n",
       "  'national_alb': 100,\n",
       "  'urban_alb': 100},\n",
       " 'ROU': {'country_name': 'Romania',\n",
       "  'region': 'Europe & Central Asia',\n",
       "  'income_level': 'Upper middle income',\n",
       "  'year': 2015,\n",
       "  'pop': 19925000,\n",
       "  'urban_percent': 54,\n",
       "  'national_alb': 100,\n",
       "  'urban_alb': 100},\n",
       " 'RUS': {'country_name': 'Russian Federation',\n",
       "  'region': 'Europe & Central Asia',\n",
       "  'income_level': 'Upper middle income',\n",
       "  'year': 2015,\n",
       "  'pop': 144985000,\n",
       "  'urban_percent': 74,\n",
       "  'national_alb': 97,\n",
       "  'urban_alb': 99},\n",
       " 'RWA': {'country_name': 'Rwanda',\n",
       "  'region': 'Sub-Saharan Africa',\n",
       "  'income_level': 'Low income',\n",
       "  'year': 2015,\n",
       "  'pop': 11369000,\n",
       "  'urban_percent': 17,\n",
       "  'national_alb': 57,\n",
       "  'urban_alb': 80},\n",
       " 'WSM': {'country_name': 'Samoa',\n",
       "  'region': 'East Asia & Pacific',\n",
       "  'income_level': 'Lower middle income',\n",
       "  'year': 2015,\n",
       "  'pop': 194000,\n",
       "  'urban_percent': 19,\n",
       "  'national_alb': 91,\n",
       "  'urban_alb': 91},\n",
       " 'SEN': {'country_name': 'Senegal',\n",
       "  'region': 'Sub-Saharan Africa',\n",
       "  'income_level': 'Low income',\n",
       "  'year': 2015,\n",
       "  'pop': 14578000,\n",
       "  'urban_percent': 46,\n",
       "  'national_alb': 79,\n",
       "  'urban_alb': 94},\n",
       " 'SRB': {'country_name': 'Serbia',\n",
       "  'region': 'Europe & Central Asia',\n",
       "  'income_level': 'Upper middle income',\n",
       "  'year': 2015,\n",
       "  'pop': 8877000,\n",
       "  'urban_percent': 56,\n",
       "  'national_alb': 93,\n",
       "  'urban_alb': 92},\n",
       " 'SLE': {'country_name': 'Sierra Leone',\n",
       "  'region': 'Sub-Saharan Africa',\n",
       "  'income_level': 'Low income',\n",
       "  'year': 2015,\n",
       "  'pop': 7172000,\n",
       "  'urban_percent': 41,\n",
       "  'national_alb': 58,\n",
       "  'urban_alb': 76},\n",
       " 'SGP': {'country_name': 'Singapore',\n",
       "  'region': 'East Asia & Pacific',\n",
       "  'income_level': 'High income',\n",
       "  'year': 2015,\n",
       "  'pop': 5592000,\n",
       "  'urban_percent': 100,\n",
       "  'national_alb': 100,\n",
       "  'urban_alb': 100},\n",
       " 'SLB': {'country_name': 'Solomon Islands',\n",
       "  'region': 'East Asia & Pacific',\n",
       "  'income_level': 'Lower middle income',\n",
       "  'year': 2015,\n",
       "  'pop': 603000,\n",
       "  'urban_percent': 22,\n",
       "  'national_alb': 69,\n",
       "  'urban_alb': 91},\n",
       " 'SOM': {'country_name': 'Somalia',\n",
       "  'region': 'Sub-Saharan Africa',\n",
       "  'income_level': 'Low income',\n",
       "  'year': 2015,\n",
       "  'pop': 13797000,\n",
       "  'urban_percent': 43,\n",
       "  'national_alb': 49,\n",
       "  'urban_alb': 74},\n",
       " 'ZAF': {'country_name': 'South Africa',\n",
       "  'region': 'Sub-Saharan Africa',\n",
       "  'income_level': 'Upper middle income',\n",
       "  'year': 2015,\n",
       "  'pop': 55386000,\n",
       "  'urban_percent': 65,\n",
       "  'national_alb': 92,\n",
       "  'urban_alb': 99},\n",
       " 'SSD': {'country_name': 'South Sudan',\n",
       "  'region': 'Sub-Saharan Africa',\n",
       "  'income_level': 'Low income',\n",
       "  'year': 2015,\n",
       "  'pop': 10716000,\n",
       "  'urban_percent': 19,\n",
       "  'national_alb': 41,\n",
       "  'urban_alb': 61},\n",
       " 'ESP': {'country_name': 'Spain',\n",
       "  'region': 'Europe & Central Asia',\n",
       "  'income_level': 'High income',\n",
       "  'year': 2015,\n",
       "  'pop': 46672000,\n",
       "  'urban_percent': 80,\n",
       "  'national_alb': 100,\n",
       "  'urban_alb': 100},\n",
       " 'LKA': {'country_name': 'Sri Lanka',\n",
       "  'region': 'South Asia',\n",
       "  'income_level': 'Lower middle income',\n",
       "  'year': 2015,\n",
       "  'pop': 20908000,\n",
       "  'urban_percent': 18,\n",
       "  'national_alb': 90,\n",
       "  'urban_alb': 98},\n",
       " 'SDN': {'country_name': 'Sudan',\n",
       "  'region': 'Sub-Saharan Africa',\n",
       "  'income_level': 'Lower middle income',\n",
       "  'year': 2015,\n",
       "  'pop': 38903000,\n",
       "  'urban_percent': 34,\n",
       "  'national_alb': 59,\n",
       "  'urban_alb': 73},\n",
       " 'SUR': {'country_name': 'Suriname',\n",
       "  'region': 'Latin America & Caribbean',\n",
       "  'income_level': 'Upper middle income',\n",
       "  'year': 2015,\n",
       "  'pop': 559000,\n",
       "  'urban_percent': 66,\n",
       "  'national_alb': 96,\n",
       "  'urban_alb': 98},\n",
       " 'SWE': {'country_name': 'Sweden',\n",
       "  'region': 'Europe & Central Asia',\n",
       "  'income_level': 'High income',\n",
       "  'year': 2015,\n",
       "  'pop': 9765000,\n",
       "  'urban_percent': 87,\n",
       "  'national_alb': 100,\n",
       "  'urban_alb': 100},\n",
       " 'CHE': {'country_name': 'Switzerland',\n",
       "  'region': 'Europe & Central Asia',\n",
       "  'income_level': 'High income',\n",
       "  'year': 2015,\n",
       "  'pop': 8297000,\n",
       "  'urban_percent': 74,\n",
       "  'national_alb': 100,\n",
       "  'urban_alb': 100},\n",
       " 'SYR': {'country_name': 'Syrian Arab Republic',\n",
       "  'region': 'Middle East & North Africa',\n",
       "  'income_level': 'Lower middle income',\n",
       "  'year': 2015,\n",
       "  'pop': 17997000,\n",
       "  'urban_percent': 52,\n",
       "  'national_alb': 94,\n",
       "  'urban_alb': 95},\n",
       " 'TJK': {'country_name': 'Tajikistan',\n",
       "  'region': 'Europe & Central Asia',\n",
       "  'income_level': 'Lower middle income',\n",
       "  'year': 2015,\n",
       "  'pop': 8454000,\n",
       "  'urban_percent': 27,\n",
       "  'national_alb': 76,\n",
       "  'urban_alb': 95},\n",
       " 'THA': {'country_name': 'Thailand',\n",
       "  'region': 'East Asia & Pacific',\n",
       "  'income_level': 'Upper middle income',\n",
       "  'year': 2015,\n",
       "  'pop': 68715000,\n",
       "  'urban_percent': 48,\n",
       "  'national_alb': 100,\n",
       "  'urban_alb': 100},\n",
       " 'TLS': {'country_name': 'Timor-Leste',\n",
       "  'region': 'East Asia & Pacific',\n",
       "  'income_level': 'Lower middle income',\n",
       "  'year': 2015,\n",
       "  'pop': 1196000,\n",
       "  'urban_percent': 29,\n",
       "  'national_alb': 75,\n",
       "  'urban_alb': 90},\n",
       " 'TGO': {'country_name': 'Togo',\n",
       "  'region': 'Sub-Saharan Africa',\n",
       "  'income_level': 'Low income',\n",
       "  'year': 2015,\n",
       "  'pop': 7323000,\n",
       "  'urban_percent': 40,\n",
       "  'national_alb': 64,\n",
       "  'urban_alb': 88},\n",
       " 'TON': {'country_name': 'Tonga',\n",
       "  'region': 'East Asia & Pacific',\n",
       "  'income_level': 'Lower middle income',\n",
       "  'year': 2015,\n",
       "  'pop': 101000,\n",
       "  'urban_percent': 23,\n",
       "  'national_alb': 99,\n",
       "  'urban_alb': 100},\n",
       " 'TUN': {'country_name': 'Tunisia',\n",
       "  'region': 'Middle East & North Africa',\n",
       "  'income_level': 'Lower middle income',\n",
       "  'year': 2015,\n",
       "  'pop': 11180000,\n",
       "  'urban_percent': 68,\n",
       "  'national_alb': 95,\n",
       "  'urban_alb': 100},\n",
       " 'TKM': {'country_name': 'Turkmenistan',\n",
       "  'region': 'Europe & Central Asia',\n",
       "  'income_level': 'Upper middle income',\n",
       "  'year': 2015,\n",
       "  'pop': 5565000,\n",
       "  'urban_percent': 50,\n",
       "  'national_alb': 98,\n",
       "  'urban_alb': 100},\n",
       " 'TUV': {'country_name': 'Tuvalu',\n",
       "  'region': 'East Asia & Pacific',\n",
       "  'income_level': 'Upper middle income',\n",
       "  'year': 2015,\n",
       "  'pop': 11000,\n",
       "  'urban_percent': 60,\n",
       "  'national_alb': 100,\n",
       "  'urban_alb': 100},\n",
       " 'UGA': {'country_name': 'Uganda',\n",
       "  'region': 'Sub-Saharan Africa',\n",
       "  'income_level': 'Low income',\n",
       "  'year': 2015,\n",
       "  'pop': 38225000,\n",
       "  'urban_percent': 22,\n",
       "  'national_alb': 48,\n",
       "  'urban_alb': 77},\n",
       " 'UKR': {'country_name': 'Ukraine',\n",
       "  'region': 'Europe & Central Asia',\n",
       "  'income_level': 'Lower middle income',\n",
       "  'year': 2015,\n",
       "  'pop': 44922000,\n",
       "  'urban_percent': 69,\n",
       "  'national_alb': 94,\n",
       "  'urban_alb': 92},\n",
       " 'GBR': {'country_name': 'United Kingdom',\n",
       "  'region': 'Europe & Central Asia',\n",
       "  'income_level': 'High income',\n",
       "  'year': 2015,\n",
       "  'pop': 65860000,\n",
       "  'urban_percent': 83,\n",
       "  'national_alb': 100,\n",
       "  'urban_alb': 100},\n",
       " 'USA': {'country_name': 'United States of America',\n",
       "  'region': 'North America',\n",
       "  'income_level': 'High income',\n",
       "  'year': 2015,\n",
       "  'pop': 320878000,\n",
       "  'urban_percent': 82,\n",
       "  'national_alb': 100,\n",
       "  'urban_alb': 100},\n",
       " 'URY': {'country_name': 'Uruguay',\n",
       "  'region': 'Latin America & Caribbean',\n",
       "  'income_level': 'High income',\n",
       "  'year': 2015,\n",
       "  'pop': 3412000,\n",
       "  'urban_percent': 95,\n",
       "  'national_alb': 100,\n",
       "  'urban_alb': 100},\n",
       " 'UZB': {'country_name': 'Uzbekistan',\n",
       "  'region': 'Europe & Central Asia',\n",
       "  'income_level': 'Lower middle income',\n",
       "  'year': 2015,\n",
       "  'pop': 30930000,\n",
       "  'urban_percent': 51,\n",
       "  'national_alb': 98,\n",
       "  'urban_alb': 100},\n",
       " 'VUT': {'country_name': 'Vanuatu',\n",
       "  'region': 'East Asia & Pacific',\n",
       "  'income_level': 'Lower middle income',\n",
       "  'year': 2015,\n",
       "  'pop': 271000,\n",
       "  'urban_percent': 25,\n",
       "  'national_alb': 90,\n",
       "  'urban_alb': 100},\n",
       " 'VNM': {'country_name': 'Vietnam',\n",
       "  'region': 'East Asia & Pacific',\n",
       "  'income_level': 'Lower middle income',\n",
       "  'year': 2015,\n",
       "  'pop': 92677000,\n",
       "  'urban_percent': 34,\n",
       "  'national_alb': 93,\n",
       "  'urban_alb': 98},\n",
       " 'ZMB': {'country_name': 'Zambia',\n",
       "  'region': 'Sub-Saharan Africa',\n",
       "  'income_level': 'Lower middle income',\n",
       "  'year': 2015,\n",
       "  'pop': 15879000,\n",
       "  'urban_percent': 42,\n",
       "  'national_alb': 61,\n",
       "  'urban_alb': 86},\n",
       " 'ZWE': {'country_name': 'Zimbabwe',\n",
       "  'region': 'Sub-Saharan Africa',\n",
       "  'income_level': 'Low income',\n",
       "  'year': 2015,\n",
       "  'pop': 13815000,\n",
       "  'urban_percent': 32,\n",
       "  'national_alb': 65,\n",
       "  'urban_alb': 94}}"
      ]
     },
     "execution_count": 28,
     "metadata": {},
     "output_type": "execute_result"
    }
   ],
   "source": [
    "\n",
    "# define the variable 'dict_2015' here as described above\n",
    "# you may display the variable for testing purposes while you define it,\n",
    "# BUT you MUST remove the line displaying 'dict_2015' before submission as the output will be too large to display\n",
    "\n",
    "# initialize as an empty dictionary\n",
    "dict_2015 = {}\n",
    "\n",
    "country_name_dict = get_col_dict('country_name', 2015)\n",
    "region_dict = get_col_dict('region', 2015)\n",
    "# call get_col_dict for other columns\n",
    "income_dict = get_col_dict('income_level', 2015)\n",
    "year_dict = get_col_dict('year', 2015)\n",
    "pop_dict = get_col_dict('pop', 2015)\n",
    "urb_per_dict = get_col_dict('urban_percent', 2015)\n",
    "nat_alb_dict = get_col_dict('national_alb', 2015)\n",
    "urban_alb_dict = get_col_dict('urban_alb', 2015)\n",
    "\n",
    "# add data from all these dicts to dict_2015\n",
    "for idx in range(0, num_rows, 2):\n",
    "    code = cell(idx, \"country_code\")\n",
    "    dict_2015[code] = {}\n",
    "    dict_2015[code][\"country_name\"] = country_name_dict[code]\n",
    "    dict_2015[code][\"region\"] = region_dict[code]\n",
    "    dict_2015[code][\"income_level\"] = income_dict[code]\n",
    "    dict_2015[code][\"year\"] = year_dict[code]\n",
    "    dict_2015[code][\"pop\"] = pop_dict[code]\n",
    "    dict_2015[code][\"urban_percent\"] = urb_per_dict[code]\n",
    "    dict_2015[code][\"national_alb\"] = nat_alb_dict[code]\n",
    "    dict_2015[code][\"urban_alb\"] = urban_alb_dict[code]\n",
    "    \n",
    "dict_2015"
   ]
  },
  {
   "cell_type": "markdown",
   "id": "26db8e45",
   "metadata": {},
   "source": [
    "After you define the data structure `dict_2015`, run the following cell to test whether you have defined it properly."
   ]
  },
  {
   "cell_type": "code",
   "execution_count": 29,
   "id": "1f4cb77b",
   "metadata": {
    "deletable": false,
    "editable": false
   },
   "outputs": [
    {
     "data": {
      "text/html": [
       "<p><strong><pre style='display: inline;'>dict_2015</pre></strong> passed! 🌟</p>"
      ],
      "text/plain": [
       "dict_2015 results: All test cases passed!"
      ]
     },
     "execution_count": 29,
     "metadata": {},
     "output_type": "execute_result"
    }
   ],
   "source": [
    "grader.check(\"dict_2015\")"
   ]
  },
  {
   "cell_type": "markdown",
   "id": "4db68c64",
   "metadata": {},
   "source": [
    "### Data Structures 2: `dict_2020`\n",
    "\n",
    "You must now create a data structure named `dict_2020`. This data structure must be a **dict**. Each key must be a `country_code`, and the corresponding value must be another **dict**. As for the inner dictionary, the keys must be the various column names, and the values must be the values under the column name for `country_code` in the `year` *2020*.\n",
    "\n",
    "The keys for each of the *inner* dictionary are the column names:\n",
    "- `'country_name'`\n",
    "- `'region'`\n",
    "- `'income_level'`\n",
    "- `'year'`\n",
    "- `'pop'`\n",
    "- `'urban_percent'`\n",
    "- `'national_alb'`\n",
    "- `'urban_alb'`\n",
    "\n",
    "You are **allowed** to *hardcode* the **names** of all these columns (i.e., the keys of the *inner* dictionaries)."
   ]
  },
  {
   "cell_type": "code",
   "execution_count": 30,
   "id": "b8d17191",
   "metadata": {
    "tags": []
   },
   "outputs": [],
   "source": [
    "# define the variable 'dict_2020' here as described above\n",
    "# you may display the variable for testing purposes while you define it,\n",
    "# BUT you MUST remove the line displaying 'dict_2020' before submission as the output will be too large to display\n",
    "dict_2020 = {}\n",
    "\n",
    "country_name_dict = get_col_dict('country_name', 2020)\n",
    "region_dict = get_col_dict('region', 2020)\n",
    "\n",
    "income_dict = get_col_dict('income_level', 2020)\n",
    "year_dict = get_col_dict('year', 2020)\n",
    "pop_dict = get_col_dict('pop', 2020)\n",
    "urb_per_dict = get_col_dict('urban_percent', 2020)\n",
    "nat_alb_dict = get_col_dict('national_alb', 2020)\n",
    "urban_alb_dict = get_col_dict('urban_alb', 2020)\n",
    "\n",
    "for idx in range(1, num_rows, 2):\n",
    "    code = cell(idx, \"country_code\")\n",
    "    dict_2020[code] = {}\n",
    "    dict_2020[code][\"country_name\"] = country_name_dict[code]\n",
    "    dict_2020[code][\"region\"] = region_dict[code]\n",
    "    dict_2020[code][\"income_level\"] = income_dict[code]\n",
    "    dict_2020[code][\"year\"] = year_dict[code]\n",
    "    dict_2020[code][\"pop\"] = pop_dict[code]\n",
    "    dict_2020[code][\"urban_percent\"] = urb_per_dict[code]\n",
    "    dict_2020[code][\"national_alb\"] = nat_alb_dict[code]\n",
    "    dict_2020[code][\"urban_alb\"] = urban_alb_dict[code]\n",
    "    \n",
    "#dict_2020"
   ]
  },
  {
   "cell_type": "markdown",
   "id": "4b701542",
   "metadata": {},
   "source": [
    "After you define the data structure `dict_2020`, run the following cell to test whether you have defined it properly."
   ]
  },
  {
   "cell_type": "code",
   "execution_count": 31,
   "id": "bbe0074a",
   "metadata": {
    "deletable": false,
    "editable": false
   },
   "outputs": [
    {
     "data": {
      "text/html": [
       "<p><strong><pre style='display: inline;'>dict_2020</pre></strong> passed! 🙌</p>"
      ],
      "text/plain": [
       "dict_2020 results: All test cases passed!"
      ]
     },
     "execution_count": 31,
     "metadata": {},
     "output_type": "execute_result"
    }
   ],
   "source": [
    "grader.check(\"dict_2020\")"
   ]
  },
  {
   "cell_type": "markdown",
   "id": "899845d5",
   "metadata": {},
   "source": [
    "#### From this point onwards, you are only allowed to access data from `water_accessibility.csv` by querying from the **dicts** `dict_2015` and `dict_2020`. You will **lose points** during manual review if you access the data through any other means."
   ]
  },
  {
   "cell_type": "markdown",
   "id": "907b2aa7",
   "metadata": {},
   "source": [
    "**Question 10:** Output the data from *India* (`country_code`: *IND*) for the `year` *2020*.\n",
    "\n",
    "Your output **must** be a **dict** mapping each column name to the value for the country *IND* in the year *2020*. You **must** answer this by querying data from `dict_2020`.\n",
    "\n",
    "The expected output is:\n",
    "```python\n",
    "{'country_name': 'India',\n",
    " 'region': 'South Asia',\n",
    " 'income_level': 'Lower middle income',\n",
    " 'year': 2020,\n",
    " 'pop': 1380004000,\n",
    " 'urban_percent': 35,\n",
    " 'national_alb': 90,\n",
    " 'urban_alb': 94}\n",
    "```"
   ]
  },
  {
   "cell_type": "code",
   "execution_count": 32,
   "id": "a7ef6ab2",
   "metadata": {
    "tags": []
   },
   "outputs": [
    {
     "data": {
      "text/plain": [
       "{'country_name': 'India',\n",
       " 'region': 'South Asia',\n",
       " 'income_level': 'Lower middle income',\n",
       " 'year': 2020,\n",
       " 'pop': 1380004000,\n",
       " 'urban_percent': 35,\n",
       " 'national_alb': 90,\n",
       " 'urban_alb': 94}"
      ]
     },
     "execution_count": 32,
     "metadata": {},
     "output_type": "execute_result"
    }
   ],
   "source": [
    "# compute and store the answer in the variable 'ind_2020_dict', then display it\n",
    "ind_2020_dict = dict_2020[\"IND\"]\n",
    "ind_2020_dict"
   ]
  },
  {
   "cell_type": "code",
   "execution_count": 33,
   "id": "e6cf0a94",
   "metadata": {
    "deletable": false,
    "editable": false
   },
   "outputs": [
    {
     "data": {
      "text/html": [
       "<p><strong><pre style='display: inline;'>q10</pre></strong> passed! 💯</p>"
      ],
      "text/plain": [
       "q10 results: All test cases passed!"
      ]
     },
     "execution_count": 33,
     "metadata": {},
     "output_type": "execute_result"
    }
   ],
   "source": [
    "grader.check(\"q10\")"
   ]
  },
  {
   "cell_type": "markdown",
   "id": "05c378dd",
   "metadata": {},
   "source": [
    "**Question 11:** What is the national at least basic (`national_alb`) water supply for *Great Britain* (`country_code`: *GBR*) in the `year` *2015*?"
   ]
  },
  {
   "cell_type": "code",
   "execution_count": 34,
   "id": "49e78262",
   "metadata": {
    "tags": []
   },
   "outputs": [
    {
     "data": {
      "text/plain": [
       "100"
      ]
     },
     "execution_count": 34,
     "metadata": {},
     "output_type": "execute_result"
    }
   ],
   "source": [
    "# compute and store the answer in the variable 'gbr_national_alb_2015', then display it\n",
    "gbr_national_alb_2015 = dict_2015[\"GBR\"][\"national_alb\"]\n",
    "gbr_national_alb_2015"
   ]
  },
  {
   "cell_type": "code",
   "execution_count": 35,
   "id": "5fda299f",
   "metadata": {
    "deletable": false,
    "editable": false
   },
   "outputs": [
    {
     "data": {
      "text/html": [
       "<p><strong><pre style='display: inline;'>q11</pre></strong> passed! 🍀</p>"
      ],
      "text/plain": [
       "q11 results: All test cases passed!"
      ]
     },
     "execution_count": 35,
     "metadata": {},
     "output_type": "execute_result"
    }
   ],
   "source": [
    "grader.check(\"q11\")"
   ]
  },
  {
   "cell_type": "markdown",
   "id": "460f900f",
   "metadata": {},
   "source": [
    "**Question 12:** How much did the population (`pop`) of *France* **increase** (`country_code`: *FRA*) from the `year` *2015* to *2020*?"
   ]
  },
  {
   "cell_type": "code",
   "execution_count": 36,
   "id": "2bd5e06d",
   "metadata": {
    "tags": []
   },
   "outputs": [
    {
     "data": {
      "text/plain": [
       "821000"
      ]
     },
     "execution_count": 36,
     "metadata": {},
     "output_type": "execute_result"
    }
   ],
   "source": [
    "# compute and store the answer in the variable 'population_change_fra', then display it\n",
    "pop_15 = dict_2015[\"FRA\"][\"pop\"]\n",
    "pop_20 = dict_2020[\"FRA\"][\"pop\"]\n",
    "population_change_fra = pop_20 - pop_15\n",
    "population_change_fra"
   ]
  },
  {
   "cell_type": "code",
   "execution_count": 37,
   "id": "e77629eb",
   "metadata": {
    "deletable": false,
    "editable": false
   },
   "outputs": [
    {
     "data": {
      "text/html": [
       "<p><strong><pre style='display: inline;'>q12</pre></strong> passed! 🌈</p>"
      ],
      "text/plain": [
       "q12 results: All test cases passed!"
      ]
     },
     "execution_count": 37,
     "metadata": {},
     "output_type": "execute_result"
    }
   ],
   "source": [
    "grader.check(\"q12\")"
   ]
  },
  {
   "cell_type": "markdown",
   "id": "a537b9d8",
   "metadata": {},
   "source": [
    "**Question 13:** For each `income_level`, find the **total** population (`pop`) of all countries within that `income_level` in *2020*.\n",
    "\n",
    "Your output **must** be a **dict** where each key is a `income_level`, and the corresponding value is the **sum** of populations (`pop`) of all the countries from that `income_level` in the `year` *2020*."
   ]
  },
  {
   "cell_type": "code",
   "execution_count": 38,
   "id": "7a059c7b",
   "metadata": {
    "tags": []
   },
   "outputs": [
    {
     "data": {
      "text/plain": [
       "{'Low income': 514021000,\n",
       " 'Upper middle income': 2430080000,\n",
       " 'Lower middle income': 3045857000,\n",
       " 'High income': 871268000}"
      ]
     },
     "execution_count": 38,
     "metadata": {},
     "output_type": "execute_result"
    }
   ],
   "source": [
    "# compute and store the answer in the variable 'income_level_pops', then display it\n",
    "income_level_pops = {}\n",
    "for idx in range(1, num_rows, 2):\n",
    "    income_level = dict_2020[cell(idx, \"country_code\")][\"income_level\"]\n",
    "    pop = dict_2020[cell(idx, \"country_code\")][\"pop\"]\n",
    "    if income_level not in income_level_pops:\n",
    "        income_level_pops[income_level] = 0\n",
    "    income_level_pops[income_level] = income_level_pops[income_level] + pop\n",
    "\n",
    "income_level_pops"
   ]
  },
  {
   "cell_type": "code",
   "execution_count": 39,
   "id": "1576ca67",
   "metadata": {
    "deletable": false,
    "editable": false
   },
   "outputs": [
    {
     "data": {
      "text/html": [
       "<p><strong><pre style='display: inline;'>q13</pre></strong> passed! 💯</p>"
      ],
      "text/plain": [
       "q13 results: All test cases passed!"
      ]
     },
     "execution_count": 39,
     "metadata": {},
     "output_type": "execute_result"
    }
   ],
   "source": [
    "grader.check(\"q13\")"
   ]
  },
  {
   "cell_type": "markdown",
   "id": "e0b03a15",
   "metadata": {},
   "source": [
    "**Question 14:** For each `income_level`, find the **total** population (`pop`) of all countries who have access to at least basic water supply within that `income_level` in *2020*.\n",
    "\n",
    "Your output **must** be a **dict** where each key is a `income_level`, and the corresponding value is the **sum** of populations (`pop`) which have access to at least basic water supply of all the countries from that `income_level` in the `year` *2020*.\n",
    "\n",
    "You **must** round the population of **each** country with access to at least basic water supply to the **nearest** integer **before** adding them up.\n",
    "\n",
    "**Hint:** For each country, the population with at least basic water supply is `pop * national_alb / 100`. "
   ]
  },
  {
   "cell_type": "code",
   "execution_count": 40,
   "id": "bed43973",
   "metadata": {
    "tags": []
   },
   "outputs": [
    {
     "data": {
      "text/plain": [
       "{'Low income': 302975040,\n",
       " 'Upper middle income': 2321860110,\n",
       " 'Lower middle income': 2687761440,\n",
       " 'High income': 870638000}"
      ]
     },
     "execution_count": 40,
     "metadata": {},
     "output_type": "execute_result"
    }
   ],
   "source": [
    "# compute and store the answer in the variable 'income_level_alb_pops', then display it\n",
    "income_level_alb_pops = {}\n",
    "for idx in range(1, num_rows, 2):\n",
    "    income_level = dict_2020[cell(idx, \"country_code\")][\"income_level\"]\n",
    "    pop = dict_2020[cell(idx, \"country_code\")][\"pop\"]\n",
    "    alb = dict_2020[cell(idx, \"country_code\")][\"national_alb\"]\n",
    "    alb_pop = round((pop * alb)/100)\n",
    "    if income_level not in income_level_alb_pops:\n",
    "        income_level_alb_pops[income_level] = 0\n",
    "    income_level_alb_pops[income_level] = income_level_alb_pops[income_level] + alb_pop\n",
    "\n",
    "income_level_alb_pops"
   ]
  },
  {
   "cell_type": "code",
   "execution_count": 41,
   "id": "40cd048e",
   "metadata": {
    "deletable": false,
    "editable": false
   },
   "outputs": [
    {
     "data": {
      "text/html": [
       "<p><strong><pre style='display: inline;'>q14</pre></strong> passed! 🍀</p>"
      ],
      "text/plain": [
       "q14 results: All test cases passed!"
      ]
     },
     "execution_count": 41,
     "metadata": {},
     "output_type": "execute_result"
    }
   ],
   "source": [
    "grader.check(\"q14\")"
   ]
  },
  {
   "cell_type": "markdown",
   "id": "a70bdcfd",
   "metadata": {},
   "source": [
    "**Question 15:** For each `income_level`, find the **percentage** of population (`pop`) of all countries within that `income_level` with at least basic water supply in *2020*.\n",
    "\n",
    "Your output **must** be a **dict** where each key is a `income_level`, and the corresponding value is the **percentage** of the population (`pop`) which have access to at least basic water supply of all the countries from that `income_level` in the `year` *2020*. The percentages **must** be represented as **int**s between *0* and *100*. You **must** round each of the percentages to the **nearest** integer.\n",
    "\n",
    "**Hint:** You need to loop through the dictionaries you found in Q13 (or Q14), and for each key, you need to divide the corresponding value in the Q14 dictionary by the value of the same key in the Q13 dictionary and multiply by 100. Take another look at Task 3.6 from lab-p7, if you are not sure how to proceed here."
   ]
  },
  {
   "cell_type": "code",
   "execution_count": 42,
   "id": "4ed2d02f",
   "metadata": {
    "tags": []
   },
   "outputs": [
    {
     "data": {
      "text/plain": [
       "{'Low income': 59,\n",
       " 'Upper middle income': 96,\n",
       " 'Lower middle income': 88,\n",
       " 'High income': 100}"
      ]
     },
     "execution_count": 42,
     "metadata": {},
     "output_type": "execute_result"
    }
   ],
   "source": [
    "# compute and store the answer in the variable 'income_level_alb_percent', then display it\n",
    "income_level_alb_percent = {}\n",
    "\n",
    "for idx in range(1, num_rows, 2):\n",
    "    income_level = dict_2020[cell(idx, \"country_code\")][\"income_level\"]\n",
    "    pop = dict_2020[cell(idx, \"country_code\")][\"pop\"]\n",
    "    if income_level not in income_level_alb_percent:\n",
    "        income_level_alb_percent[income_level] = round((income_level_alb_pops[income_level]/income_level_pops[income_level])*100)\n",
    "\n",
    "income_level_alb_percent"
   ]
  },
  {
   "cell_type": "code",
   "execution_count": 43,
   "id": "bcbaa5b1",
   "metadata": {
    "deletable": false,
    "editable": false
   },
   "outputs": [
    {
     "data": {
      "text/html": [
       "<p><strong><pre style='display: inline;'>q15</pre></strong> passed! 🎉</p>"
      ],
      "text/plain": [
       "q15 results: All test cases passed!"
      ]
     },
     "execution_count": 43,
     "metadata": {},
     "output_type": "execute_result"
    }
   ],
   "source": [
    "grader.check(\"q15\")"
   ]
  },
  {
   "cell_type": "markdown",
   "id": "cfec7c03",
   "metadata": {},
   "source": [
    "### Data Structure 3: Adding `rural_alb`  to `dict_2015` and `dict_2020`\n",
    "\n",
    "Our dataset has data on the percentage of **national** and **urban** populations with at least basic water supply. However, it is usually **rural** populations which have the greatest difficulty in getting access to water.\n",
    "\n",
    "Luckily, we are able to calculate **rural_alb** from the given data using the formula:\n",
    "\n",
    "$$\n",
    "rural_{alb} = \\frac{national_{alb} - \\left(urban_{alb} \\times \\frac{urban\\_percent}{100}\\right)}{\\left(1 - \\frac{urban\\_percent}{100}\\right)}\n",
    "$$\n",
    "\n",
    "*If a country has `urban_percent` equal to `100`, then the country has a negligible rural population, and the formula above is not valid. For such countries, we will assume that `rural_alb` is the **same** as `urban_alb`.*\n",
    "\n",
    "You **must** loop through each country in `dict_2015` and `dict_2020`, and add an **additional** key value pair for each country. The new key should be the string: `\"rural_alb\"`, and the corresponding value should be the `rural_alb` value for that country as given by the formula above. You **must** round each number to the **nearest** integer."
   ]
  },
  {
   "cell_type": "code",
   "execution_count": 44,
   "id": "9e989a3e",
   "metadata": {
    "tags": []
   },
   "outputs": [],
   "source": [
    "# add the additional key-value pair to both dicts 'dict_2015' and 'dict_2020' here\n",
    "# you may display the variable for testing purposes while you define it,\n",
    "# BUT you MUST remove the line displaying the dicts before submission as the output will be too large to display\n",
    "rural_dict_2015 = {}\n",
    "rural_dict_2020 = {}\n",
    "for idx in range (0, len(csv_rows), 2):\n",
    "    urban_alb = dict_2015[cell(idx, \"country_code\")][\"urban_alb\"]\n",
    "    national_alb = dict_2015[cell(idx, \"country_code\")][\"national_alb\"]\n",
    "    urban_per = dict_2015[cell(idx, \"country_code\")][\"urban_percent\"]\n",
    "    top = national_alb - (urban_alb * (urban_per/100))\n",
    "    bottom = 1 - (urban_per/100)\n",
    "    if bottom == 0:\n",
    "        rural_dict_2015[cell(idx, \"country_code\")] = urban_alb\n",
    "    else:\n",
    "        rural_dict_2015[cell(idx, \"country_code\")] = top/bottom\n",
    "for idx in range (1, len(csv_rows), 2):\n",
    "    urban_alb = dict_2020[cell(idx, \"country_code\")][\"urban_alb\"]\n",
    "    national_alb = dict_2020[cell(idx, \"country_code\")][\"national_alb\"]\n",
    "    urban_per = dict_2020[cell(idx, \"country_code\")][\"urban_percent\"]\n",
    "    top = national_alb - (urban_alb * (urban_per/100))\n",
    "    bottom = 1 - (urban_per/100)\n",
    "    if bottom == 0:\n",
    "        rural_dict_2020[cell(idx, \"country_code\")] = urban_alb\n",
    "    else:\n",
    "        rural_dict_2020[cell(idx, \"country_code\")] = top/bottom\n",
    "\n",
    "for idx in range (0, num_rows, 2):\n",
    "    code = cell(idx, \"country_code\")\n",
    "    dict_2015[code][\"rural_alb\"] = round(rural_dict_2015[code])\n",
    "for idx in range (1, num_rows, 2):\n",
    "    code = cell(idx, \"country_code\")\n",
    "    dict_2020[code][\"rural_alb\"] = round(rural_dict_2020[code])"
   ]
  },
  {
   "cell_type": "markdown",
   "id": "c45dfc67",
   "metadata": {},
   "source": [
    "**Question 16:** What's the percentage of rural population with at least basic (`rural_alb`) water supply in *Australia* (`country_code`: *AUS*) in *2020*? \n",
    "\n",
    "You **must** answer this question by querying data from the dict `dict_2020`."
   ]
  },
  {
   "cell_type": "code",
   "execution_count": 45,
   "id": "d7ad07fa",
   "metadata": {
    "tags": []
   },
   "outputs": [
    {
     "data": {
      "text/plain": [
       "100"
      ]
     },
     "execution_count": 45,
     "metadata": {},
     "output_type": "execute_result"
    }
   ],
   "source": [
    "# compute and store the answer in the variable 'australia_rural_alb_2020', then display it\n",
    "australia_rural_alb_2020 = dict_2020[\"AUS\"][\"rural_alb\"]\n",
    "australia_rural_alb_2020"
   ]
  },
  {
   "cell_type": "code",
   "execution_count": 46,
   "id": "64e29eef",
   "metadata": {
    "deletable": false,
    "editable": false
   },
   "outputs": [
    {
     "data": {
      "text/html": [
       "<p><strong><pre style='display: inline;'>q16</pre></strong> passed! 🎉</p>"
      ],
      "text/plain": [
       "q16 results: All test cases passed!"
      ]
     },
     "execution_count": 46,
     "metadata": {},
     "output_type": "execute_result"
    }
   ],
   "source": [
    "grader.check(\"q16\")"
   ]
  },
  {
   "cell_type": "markdown",
   "id": "b121e095",
   "metadata": {},
   "source": [
    "### Data Structure 4: `rural_non_alb` bins\n",
    "\n",
    "We have now managed to extract the percentage of rural population with access to atleast basic water supply for each of the countries in the dataset. We can now use this information to find out the countries whose rural populations do **not** have access to at least basic water supply.\n",
    "\n",
    "You **must** create two **dict**s (one for the `year` *2015* and one for *2020*) where the keys are the integers *0*, *10*, *20*, ..., *100*. The value corresponding to the integer *0* **must** be a **list** containing the names of all the countries for which their rural population **without** access to at least basic (which we can represent as `rural_non_alb`) water supply is `0 <= rural_non_alb < 10`. Similarly, the value corresponding to the key *10* must be a **list** of all countries for which `10 <= rural_non_alb < 20`, and so on.\n",
    "\n",
    "**Hints:**\n",
    "1. You can find `rural_non_alb` as `rural_non_alb = 100 - rural_alb`.\n",
    "2. You can find the bin which any country falls into by using the formula:\n",
    "```python\n",
    "rural_non_alb_bin = ((100 - rural_alb)//10) * 10\n",
    "```\n",
    "3. Even if a particular bin has no countries in it, you **must** still create a bin for it in your dict (with the value being an empty list). The starter code below will help you accomplish this."
   ]
  },
  {
   "cell_type": "code",
   "execution_count": 47,
   "id": "c2dd8461",
   "metadata": {
    "tags": []
   },
   "outputs": [],
   "source": [
    "# compute and store the answer in the variable 'rural_non_alb_bin_2015_dict'\n",
    "\n",
    "# initialize as an empty dictionary\n",
    "rural_non_alb_bin_2015_dict = {}\n",
    "\n",
    "# loop through the keys we want for the dictionary - 0, 10, 20, ..., 100 (inclusive of 100)\n",
    "# and add them to the dictionary as keys with the value as an empty list\n",
    "for rural_non_alb_bin in range(0, 101, 10):\n",
    "    rural_non_alb_bin_2015_dict[rural_non_alb_bin] = []\n",
    "\n",
    "# loop through each country and add to the correct bin of rural_non_alb_bin_2015_dict\n",
    "for item in dict_2015:\n",
    "    rural_non_alb = 100 - dict_2015[item][\"rural_alb\"]\n",
    "    rural_non_alb_bin = ((100 - dict_2015[item][\"rural_alb\"])//10) * 10\n",
    "    rural_non_alb_bin_2015_dict[rural_non_alb_bin].append(dict_2015[item][\"country_name\"])"
   ]
  },
  {
   "cell_type": "code",
   "execution_count": 48,
   "id": "3a766c7d",
   "metadata": {
    "tags": []
   },
   "outputs": [],
   "source": [
    "# compute and store the answer in the variable 'rural_non_alb_bin_2020_dict'\n",
    "rural_non_alb_bin_2020_dict = {}\n",
    "\n",
    "# loop through the keys we want for the dictionary - 0, 10, 20, ..., 100 (inclusive of 100)\n",
    "# and add them to the dictionary as keys with the value as an empty list\n",
    "for rural_non_alb_bin in range(0, 101, 10):\n",
    "    rural_non_alb_bin_2020_dict[rural_non_alb_bin] = []\n",
    "\n",
    "# loop through each country and add to the correct bin of rural_non_alb_bin_2015_dict\n",
    "for item in dict_2020:\n",
    "    rural_non_alb = 100 - dict_2020[item][\"rural_alb\"]\n",
    "    rural_non_alb_bin = ((100 - dict_2020[item][\"rural_alb\"])//10) * 10\n",
    "    rural_non_alb_bin_2020_dict[rural_non_alb_bin].append(dict_2020[item][\"country_name\"])"
   ]
  },
  {
   "cell_type": "markdown",
   "id": "72206139",
   "metadata": {},
   "source": [
    "After you define the data structures `rural_non_alb_bin_2015_dict` and `rural_non_alb_bin_2020_dict`, run the following cell to test whether you have defined them properly."
   ]
  },
  {
   "cell_type": "code",
   "execution_count": 49,
   "id": "6af9d9fa",
   "metadata": {
    "deletable": false,
    "editable": false
   },
   "outputs": [
    {
     "data": {
      "text/html": [
       "<p><strong><pre style='display: inline;'>rural_non_alb_bins</pre></strong> passed! 💯</p>"
      ],
      "text/plain": [
       "rural_non_alb_bins results: All test cases passed!"
      ]
     },
     "execution_count": 49,
     "metadata": {},
     "output_type": "execute_result"
    }
   ],
   "source": [
    "grader.check(\"rural_non_alb_bins\")"
   ]
  },
  {
   "cell_type": "markdown",
   "id": "58827c0d",
   "metadata": {},
   "source": [
    "**Question 17:** List all the countries which had `rural_non_alb` value between *0* and *9* (both inclusive) in the `year` *2020*.\n",
    "\n",
    "You **must** answer this question by querying the the **dict** `rural_non_alb_bin_2020_dict`."
   ]
  },
  {
   "cell_type": "code",
   "execution_count": 50,
   "id": "2fba480f",
   "metadata": {
    "tags": []
   },
   "outputs": [
    {
     "data": {
      "text/plain": [
       "['Albania',\n",
       " 'Andorra',\n",
       " 'Armenia',\n",
       " 'Australia',\n",
       " 'Austria',\n",
       " 'Azerbaijan',\n",
       " 'Bangladesh',\n",
       " 'Belarus',\n",
       " 'Belgium',\n",
       " 'Belize',\n",
       " 'Bermuda',\n",
       " 'Bhutan',\n",
       " 'Bosnia and Herzegovina',\n",
       " 'Brazil',\n",
       " 'Brunei Darussalam',\n",
       " 'Bulgaria',\n",
       " 'Canada',\n",
       " 'Chile',\n",
       " 'Costa Rica',\n",
       " 'Cuba',\n",
       " 'Cyprus',\n",
       " 'Czech Republic',\n",
       " 'Denmark',\n",
       " 'Dominican Republic',\n",
       " 'El Salvador',\n",
       " 'Estonia',\n",
       " 'Finland',\n",
       " 'France',\n",
       " 'Georgia',\n",
       " 'Germany',\n",
       " 'Gibraltar',\n",
       " 'Greece',\n",
       " 'Greenland',\n",
       " 'Guyana',\n",
       " 'Hungary',\n",
       " 'Iceland',\n",
       " 'Iraq',\n",
       " 'Ireland',\n",
       " 'Israel',\n",
       " 'Kazakhstan',\n",
       " 'Latvia',\n",
       " 'Lithuania',\n",
       " 'Luxembourg',\n",
       " 'Maldives',\n",
       " 'Malta',\n",
       " 'Marshall Islands',\n",
       " 'Mauritius',\n",
       " 'Mexico',\n",
       " 'Monaco',\n",
       " 'Montenegro',\n",
       " 'Nauru',\n",
       " 'Netherlands',\n",
       " 'New Zealand',\n",
       " 'North Macedonia',\n",
       " 'Norway',\n",
       " 'Palau',\n",
       " 'Paraguay',\n",
       " 'Philippines',\n",
       " 'Poland',\n",
       " 'Portugal',\n",
       " 'Romania',\n",
       " 'Russian Federation',\n",
       " 'Samoa',\n",
       " 'Serbia',\n",
       " 'Singapore',\n",
       " 'Spain',\n",
       " 'Suriname',\n",
       " 'Sweden',\n",
       " 'Switzerland',\n",
       " 'Syrian Arab Republic',\n",
       " 'Thailand',\n",
       " 'Tonga',\n",
       " 'Tunisia',\n",
       " 'Turkmenistan',\n",
       " 'Tuvalu',\n",
       " 'Ukraine',\n",
       " 'United Kingdom',\n",
       " 'United States of America',\n",
       " 'Uruguay',\n",
       " 'Uzbekistan',\n",
       " 'Vietnam']"
      ]
     },
     "execution_count": 50,
     "metadata": {},
     "output_type": "execute_result"
    }
   ],
   "source": [
    "# compute and store the answer in the variable 'bin_0_countries', then display it\n",
    "bin_0_countries = rural_non_alb_bin_2020_dict[0 <= rural_non_alb < 10]\n",
    "bin_0_countries"
   ]
  },
  {
   "cell_type": "code",
   "execution_count": 51,
   "id": "1bcb03a0",
   "metadata": {
    "deletable": false,
    "editable": false
   },
   "outputs": [
    {
     "data": {
      "text/html": [
       "<p><strong><pre style='display: inline;'>q17</pre></strong> passed! 🚀</p>"
      ],
      "text/plain": [
       "q17 results: All test cases passed!"
      ]
     },
     "execution_count": 51,
     "metadata": {},
     "output_type": "execute_result"
    }
   ],
   "source": [
    "grader.check(\"q17\")"
   ]
  },
  {
   "cell_type": "markdown",
   "id": "514e78b4",
   "metadata": {},
   "source": [
    "**Question 18:** What are the countries in the **last** non-empty bin in the `year` *2015*?\n",
    "\n",
    "Your output **must** be a **list** of the countries in the bin with the **highest** percentage of rural population without at least basic access to water.\n",
    "\n",
    "**Hint:** You must first find the largest key with a non-empty bin, and then find the value of that key."
   ]
  },
  {
   "cell_type": "code",
   "execution_count": 52,
   "id": "17841d16",
   "metadata": {
    "tags": []
   },
   "outputs": [
    {
     "data": {
      "text/plain": [
       "['Angola', 'Somalia']"
      ]
     },
     "execution_count": 52,
     "metadata": {},
     "output_type": "execute_result"
    }
   ],
   "source": [
    "# compute and store the answer in the variable 'last_non_empty_bin_2015', then display it\n",
    "last_non_empty_bin_2015 = None\n",
    "for idx in rural_non_alb_bin_2015_dict:\n",
    "    if rural_non_alb_bin_2015_dict[idx] == []:\n",
    "        continue\n",
    "    else:\n",
    "        last_non_empty_bin_2015 = rural_non_alb_bin_2015_dict[idx]\n",
    "last_non_empty_bin_2015"
   ]
  },
  {
   "cell_type": "code",
   "execution_count": 53,
   "id": "4cd7688e",
   "metadata": {
    "deletable": false,
    "editable": false
   },
   "outputs": [
    {
     "data": {
      "text/html": [
       "<p><strong><pre style='display: inline;'>q18</pre></strong> passed! ✨</p>"
      ],
      "text/plain": [
       "q18 results: All test cases passed!"
      ]
     },
     "execution_count": 53,
     "metadata": {},
     "output_type": "execute_result"
    }
   ],
   "source": [
    "grader.check(\"q18\")"
   ]
  },
  {
   "cell_type": "markdown",
   "id": "17d87381",
   "metadata": {},
   "source": [
    "**Question 19:** What countries have **regressed** by moving to a **higher** bin from *2015* to *2020*?\n",
    "\n",
    "Your answer **must** be a **list** of countries which have regressed by having their percentage of rural population without at least basic access to water move to a bin with a **higher** key.\n",
    "\n",
    "**Hint:** You may need a *nested* loop to go through all possible combinations of keys in both the dicts `rural_non_alb_bin_2015_dict` and `rural_non_alb_bin_2020_dict`."
   ]
  },
  {
   "cell_type": "code",
   "execution_count": 54,
   "id": "a9510c92",
   "metadata": {
    "tags": []
   },
   "outputs": [
    {
     "data": {
      "text/plain": [
       "['Jordan',\n",
       " 'Solomon Islands',\n",
       " 'Guinea',\n",
       " 'Zimbabwe',\n",
       " 'Gabon',\n",
       " 'Central African Republic']"
      ]
     },
     "execution_count": 54,
     "metadata": {},
     "output_type": "execute_result"
    }
   ],
   "source": [
    "# compute and store the answer in the variable 'countries_regressed', then display it\n",
    "countries_regressed = []\n",
    "\n",
    "for idx in rural_non_alb_bin_2015_dict:\n",
    "    for index in rural_non_alb_bin_2020_dict:\n",
    "        if idx >= index:\n",
    "            continue\n",
    "        if idx < index:\n",
    "            for value in rural_non_alb_bin_2020_dict[index]:\n",
    "                if value in rural_non_alb_bin_2015_dict[idx]:\n",
    "                    countries_regressed.append(value)\n",
    "                    \n",
    "countries_regressed"
   ]
  },
  {
   "cell_type": "code",
   "execution_count": 55,
   "id": "6f36d34b",
   "metadata": {
    "deletable": false,
    "editable": false
   },
   "outputs": [
    {
     "data": {
      "text/html": [
       "<p><strong><pre style='display: inline;'>q19</pre></strong> passed! 🎉</p>"
      ],
      "text/plain": [
       "q19 results: All test cases passed!"
      ]
     },
     "execution_count": 55,
     "metadata": {},
     "output_type": "execute_result"
    }
   ],
   "source": [
    "grader.check(\"q19\")"
   ]
  },
  {
   "cell_type": "markdown",
   "id": "e39b809d",
   "metadata": {},
   "source": [
    "**Question 20:** What countries have **improved** by moving to a **lower** bin from *2015* to *2020*?\n",
    "\n",
    "Your answer **must** be a **list** of countries which have improved by having their percentage of rural population without at least basic access to water move to a bin with a **lower** key."
   ]
  },
  {
   "cell_type": "code",
   "execution_count": 56,
   "id": "463e6955",
   "metadata": {
    "tags": []
   },
   "outputs": [
    {
     "data": {
      "text/plain": [
       "['Albania',\n",
       " 'Azerbaijan',\n",
       " 'Brazil',\n",
       " 'Cuba',\n",
       " 'Dominican Republic',\n",
       " 'El Salvador',\n",
       " 'Iraq',\n",
       " 'Mexico',\n",
       " 'Philippines',\n",
       " 'Tunisia',\n",
       " 'Vietnam',\n",
       " 'Cabo Verde',\n",
       " 'Colombia',\n",
       " 'South Africa',\n",
       " 'Botswana',\n",
       " 'Ghana',\n",
       " 'Mali',\n",
       " 'Morocco',\n",
       " 'Myanmar',\n",
       " 'Senegal',\n",
       " 'Tajikistan',\n",
       " 'Timor-Leste',\n",
       " 'Afghanistan',\n",
       " 'Eswatini',\n",
       " 'Nigeria',\n",
       " 'Kenya',\n",
       " 'Mauritania',\n",
       " 'Sierra Leone',\n",
       " 'Togo',\n",
       " 'Mozambique',\n",
       " 'Uganda',\n",
       " 'Somalia']"
      ]
     },
     "execution_count": 56,
     "metadata": {},
     "output_type": "execute_result"
    }
   ],
   "source": [
    "# compute and store the answer in the variable 'countries_improved', then display it\n",
    "countries_improved = []\n",
    "\n",
    "for idx in rural_non_alb_bin_2015_dict:\n",
    "    for index in rural_non_alb_bin_2020_dict:\n",
    "        if idx <= index:\n",
    "            continue\n",
    "        if idx > index:\n",
    "            for value in rural_non_alb_bin_2020_dict[index]:\n",
    "                if value in rural_non_alb_bin_2015_dict[idx]:\n",
    "                    countries_improved.append(value)\n",
    "                    \n",
    "countries_improved"
   ]
  },
  {
   "cell_type": "code",
   "execution_count": 57,
   "id": "3bb5fc84",
   "metadata": {
    "deletable": false,
    "editable": false
   },
   "outputs": [
    {
     "data": {
      "text/html": [
       "<p><strong><pre style='display: inline;'>q20</pre></strong> passed! 🎉</p>"
      ],
      "text/plain": [
       "q20 results: All test cases passed!"
      ]
     },
     "execution_count": 57,
     "metadata": {},
     "output_type": "execute_result"
    }
   ],
   "source": [
    "grader.check(\"q20\")"
   ]
  },
  {
   "cell_type": "markdown",
   "id": "4589d90b",
   "metadata": {
    "deletable": false,
    "editable": false
   },
   "source": [
    "## Submission\n",
    "\n",
    "Make sure you have run all cells in your notebook in order before running the cell below, so that all images/graphs appear in the output. The cell below will generate a zip file for you to submit. **Please save before exporting!**\n",
    "\n",
    "**SUBMISSION INSTRUCTIONS**: 1. **Save** the notebook file **now (before you run the next few cells of code)**. 2. **Upload** the zipfile to Gradescope. 3. Check **Gradescope otter** results as soon as the auto-grader execution gets completed. Don't worry about the score showing up as -/100.0. You only need to check that the test cases passed."
   ]
  },
  {
   "cell_type": "code",
   "execution_count": 58,
   "id": "15598b58",
   "metadata": {
    "deletable": false,
    "editable": false
   },
   "outputs": [
    {
     "name": "stdout",
     "output_type": "stream",
     "text": [
      "Running your submission against local test cases...\n",
      "\n",
      "\n",
      "Your submission received the following results when run against available test cases:\n",
      "\n",
      "\n"
     ]
    },
    {
     "data": {
      "text/html": [
       "\n",
       "                    <p>\n",
       "                        Your submission has been exported. Click\n",
       "                        <a href=\"p7_2025_09_03T19_52_09_968309.zip\" download=\"p7_2025_09_03T19_52_09_968309.zip\" target=\"_blank\">here</a> to download\n",
       "                        the zip file.\n",
       "                    </p>\n",
       "                "
      ],
      "text/plain": [
       "<IPython.core.display.HTML object>"
      ]
     },
     "metadata": {},
     "output_type": "display_data"
    }
   ],
   "source": [
    "# Save your notebook first, then run this cell to export your submission.\n",
    "grader.export(pdf=False, run_tests=True)"
   ]
  },
  {
   "cell_type": "markdown",
   "id": "ee1b1468",
   "metadata": {},
   "source": [
    " "
   ]
  }
 ],
 "metadata": {
  "kernelspec": {
   "display_name": "Python 3 (ipykernel)",
   "language": "python",
   "name": "python3"
  },
  "language_info": {
   "codemirror_mode": {
    "name": "ipython",
    "version": 3
   },
   "file_extension": ".py",
   "mimetype": "text/x-python",
   "name": "python",
   "nbconvert_exporter": "python",
   "pygments_lexer": "ipython3",
   "version": "3.12.7"
  },
  "otter": {
   "OK_FORMAT": true,
   "tests": {
    "dict_2015": {
     "name": "dict_2015",
     "points": 0,
     "suites": [
      {
       "cases": [
        {
         "code": ">>> p7_test.check(\"qdict_2015_test\", dict_2015)\nTrue",
         "hidden": false,
         "locked": false
        }
       ],
       "scored": true,
       "setup": "",
       "teardown": "",
       "type": "doctest"
      }
     ]
    },
    "dict_2020": {
     "name": "dict_2020",
     "points": 0,
     "suites": [
      {
       "cases": [
        {
         "code": ">>> p7_test.check(\"qdict_2020_test\", dict_2020)\nTrue",
         "hidden": false,
         "locked": false
        }
       ],
       "scored": true,
       "setup": "",
       "teardown": "",
       "type": "doctest"
      }
     ]
    },
    "get_col_dict": {
     "name": "get_col_dict",
     "points": 0,
     "suites": [
      {
       "cases": [
        {
         "code": ">>> test1_output = p7_test.check(\"qget_col_dict_test1\", get_col_dict_test1)\n>>> test2_output = p7_test.check(\"qget_col_dict_test2\", get_col_dict_test2)\n>>> test3_output = p7_test.check(\"qget_col_dict_test3\", get_col_dict_test3)\n>>> test_output = True\n>>> \n>>> if test1_output != True:\n...     test_output = \"get_col_dict_test1 >> \" + test1_output\n... elif test2_output != True:\n...     test_output = \"get_col_dict_test2 >> \" + test2_output\n... elif test3_output != True:\n...     test_output = \"get_col_dict_test3 >> \" + test3_output\n>>> \n>>> test_output\nTrue",
         "hidden": false,
         "locked": false
        }
       ],
       "scored": true,
       "setup": "",
       "teardown": "",
       "type": "doctest"
      }
     ]
    },
    "q1": {
     "name": "q1",
     "points": 5,
     "suites": [
      {
       "cases": [
        {
         "code": ">>> p7_test.check(\"q1\", highest_pop_country)\nTrue",
         "hidden": false,
         "locked": false
        }
       ],
       "scored": true,
       "setup": "",
       "teardown": "",
       "type": "doctest"
      }
     ]
    },
    "q10": {
     "name": "q10",
     "points": 5,
     "suites": [
      {
       "cases": [
        {
         "code": ">>> p7_test.check(\"q10\", ind_2020_dict)\nTrue",
         "hidden": false,
         "locked": false
        }
       ],
       "scored": true,
       "setup": "",
       "teardown": "",
       "type": "doctest"
      }
     ]
    },
    "q11": {
     "name": "q11",
     "points": 5,
     "suites": [
      {
       "cases": [
        {
         "code": ">>> p7_test.check(\"q11\", gbr_national_alb_2015)\nTrue",
         "hidden": false,
         "locked": false
        }
       ],
       "scored": true,
       "setup": "",
       "teardown": "",
       "type": "doctest"
      }
     ]
    },
    "q12": {
     "name": "q12",
     "points": 5,
     "suites": [
      {
       "cases": [
        {
         "code": ">>> p7_test.check(\"q12\", population_change_fra)\nTrue",
         "hidden": false,
         "locked": false
        }
       ],
       "scored": true,
       "setup": "",
       "teardown": "",
       "type": "doctest"
      }
     ]
    },
    "q13": {
     "name": "q13",
     "points": 5,
     "suites": [
      {
       "cases": [
        {
         "code": ">>> p7_test.check(\"q13\", income_level_pops)\nTrue",
         "hidden": false,
         "locked": false
        }
       ],
       "scored": true,
       "setup": "",
       "teardown": "",
       "type": "doctest"
      }
     ]
    },
    "q14": {
     "name": "q14",
     "points": 5,
     "suites": [
      {
       "cases": [
        {
         "code": ">>> p7_test.check(\"q14\", income_level_alb_pops)\nTrue",
         "hidden": false,
         "locked": false
        }
       ],
       "scored": true,
       "setup": "",
       "teardown": "",
       "type": "doctest"
      }
     ]
    },
    "q15": {
     "name": "q15",
     "points": 5,
     "suites": [
      {
       "cases": [
        {
         "code": ">>> p7_test.check(\"q15\", income_level_alb_percent)\nTrue",
         "hidden": false,
         "locked": false
        }
       ],
       "scored": true,
       "setup": "",
       "teardown": "",
       "type": "doctest"
      }
     ]
    },
    "q16": {
     "name": "q16",
     "points": 5,
     "suites": [
      {
       "cases": [
        {
         "code": ">>> p7_test.check(\"q16\", australia_rural_alb_2020)\nTrue",
         "hidden": false,
         "locked": false
        }
       ],
       "scored": true,
       "setup": "",
       "teardown": "",
       "type": "doctest"
      }
     ]
    },
    "q17": {
     "name": "q17",
     "points": 5,
     "suites": [
      {
       "cases": [
        {
         "code": ">>> p7_test.check(\"q17\", bin_0_countries)\nTrue",
         "hidden": false,
         "locked": false
        }
       ],
       "scored": true,
       "setup": "",
       "teardown": "",
       "type": "doctest"
      }
     ]
    },
    "q18": {
     "name": "q18",
     "points": 5,
     "suites": [
      {
       "cases": [
        {
         "code": ">>> p7_test.check(\"q18\", last_non_empty_bin_2015)\nTrue",
         "hidden": false,
         "locked": false
        }
       ],
       "scored": true,
       "setup": "",
       "teardown": "",
       "type": "doctest"
      }
     ]
    },
    "q19": {
     "name": "q19",
     "points": 5,
     "suites": [
      {
       "cases": [
        {
         "code": ">>> p7_test.check(\"q19\", countries_regressed)\nTrue",
         "hidden": false,
         "locked": false
        }
       ],
       "scored": true,
       "setup": "",
       "teardown": "",
       "type": "doctest"
      }
     ]
    },
    "q2": {
     "name": "q2",
     "points": 5,
     "suites": [
      {
       "cases": [
        {
         "code": ">>> p7_test.check(\"q2\", highest_pop_inc_country)\nTrue",
         "hidden": false,
         "locked": false
        }
       ],
       "scored": true,
       "setup": "",
       "teardown": "",
       "type": "doctest"
      }
     ]
    },
    "q20": {
     "name": "q20",
     "points": 5,
     "suites": [
      {
       "cases": [
        {
         "code": ">>> p7_test.check(\"q20\", countries_improved)\nTrue",
         "hidden": false,
         "locked": false
        }
       ],
       "scored": true,
       "setup": "",
       "teardown": "",
       "type": "doctest"
      }
     ]
    },
    "q3": {
     "name": "q3",
     "points": 5,
     "suites": [
      {
       "cases": [
        {
         "code": ">>> p7_test.check(\"q3\", highest_nat_alb_inc_country)\nTrue",
         "hidden": false,
         "locked": false
        }
       ],
       "scored": true,
       "setup": "",
       "teardown": "",
       "type": "doctest"
      }
     ]
    },
    "q4": {
     "name": "q4",
     "points": 5,
     "suites": [
      {
       "cases": [
        {
         "code": ">>> p7_test.check(\"q4\", highest_alb_inc_income_level)\nTrue",
         "hidden": false,
         "locked": false
        }
       ],
       "scored": true,
       "setup": "",
       "teardown": "",
       "type": "doctest"
      }
     ]
    },
    "q5": {
     "name": "q5",
     "points": 5,
     "suites": [
      {
       "cases": [
        {
         "code": ">>> p7_test.check(\"q5\", total_pop_2020)\nTrue",
         "hidden": false,
         "locked": false
        }
       ],
       "scored": true,
       "setup": "",
       "teardown": "",
       "type": "doctest"
      }
     ]
    },
    "q6": {
     "name": "q6",
     "points": 5,
     "suites": [
      {
       "cases": [
        {
         "code": ">>> p7_test.check(\"q6\", urban_pop_percent_2020)\nTrue",
         "hidden": false,
         "locked": false
        }
       ],
       "scored": true,
       "setup": "",
       "teardown": "",
       "type": "doctest"
      }
     ]
    },
    "q7": {
     "name": "q7",
     "points": 5,
     "suites": [
      {
       "cases": [
        {
         "code": ">>> p7_test.check(\"q7\", high_income_pop)\nTrue",
         "hidden": false,
         "locked": false
        }
       ],
       "scored": true,
       "setup": "",
       "teardown": "",
       "type": "doctest"
      }
     ]
    },
    "q8": {
     "name": "q8",
     "points": 5,
     "suites": [
      {
       "cases": [
        {
         "code": ">>> p7_test.check(\"q8\", least_pop_income_group)\nTrue",
         "hidden": false,
         "locked": false
        }
       ],
       "scored": true,
       "setup": "",
       "teardown": "",
       "type": "doctest"
      }
     ]
    },
    "q9": {
     "name": "q9",
     "points": 5,
     "suites": [
      {
       "cases": [
        {
         "code": ">>> p7_test.check(\"q9\", na_max_alb_countries)\nTrue",
         "hidden": false,
         "locked": false
        }
       ],
       "scored": true,
       "setup": "",
       "teardown": "",
       "type": "doctest"
      }
     ]
    },
    "rural_non_alb_bins": {
     "name": "rural_non_alb_bins",
     "points": 0,
     "suites": [
      {
       "cases": [
        {
         "code": ">>> rural_non_alb_2015_test = p7_test.check(\"qrural_non_alb_bin_2015\", rural_non_alb_bin_2015_dict)\n>>> rural_non_alb_2020_test = p7_test.check(\"qrural_non_alb_bin_2020\", rural_non_alb_bin_2020_dict)\n>>> rural_non_alb_bins_test = True\n>>> \n>>> if rural_non_alb_2015_test != True:\n...     test_output = \"rural_non_alb_bin_2015_dict >> \" + rural_non_alb_2015_test\n... elif rural_non_alb_2020_test != True:\n...     test_output = \"rural_non_alb_bin_2020_dict >> \" + rural_non_alb_2020_test\n...     \n>>> rural_non_alb_bins_test\nTrue",
         "hidden": false,
         "locked": false
        }
       ],
       "scored": true,
       "setup": "",
       "teardown": "",
       "type": "doctest"
      }
     ]
    }
   }
  }
 },
 "nbformat": 4,
 "nbformat_minor": 5
}
